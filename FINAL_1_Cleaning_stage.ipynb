{
 "cells": [
  {
   "cell_type": "code",
   "execution_count": 2,
   "metadata": {},
   "outputs": [],
   "source": [
    "import numpy as np\n",
    "import pandas as pd\n",
    "import matplotlib.pyplot as plt\n",
    "import seaborn as sns\n",
    "import matplotlib.pyplot as plt\n",
    "from sklearn.preprocessing import StandardScaler\n",
    "scaler = StandardScaler()"
   ]
  },
  {
   "cell_type": "markdown",
   "metadata": {},
   "source": [
    "In this Jupyter Notebook we'll be loading all the datasets created out of the scraping jobs, in order to do some extra cleaning and then save them again to be used in the modelling stage. The details of what we'll be doing on each dataset will be explained in each one of the following chapters with comments."
   ]
  },
  {
   "cell_type": "markdown",
   "metadata": {
    "heading_collapsed": true
   },
   "source": [
    "## Loading the datasets created during scraping"
   ]
  },
  {
   "cell_type": "markdown",
   "metadata": {
    "hidden": true
   },
   "source": [
    "### Clubs and players"
   ]
  },
  {
   "cell_type": "code",
   "execution_count": 26,
   "metadata": {
    "hidden": true
   },
   "outputs": [],
   "source": [
    "players_df = pd.read_csv('Final_datasets/final_list_of_sampled_players.csv') # CLEAN"
   ]
  },
  {
   "cell_type": "code",
   "execution_count": 9,
   "metadata": {
    "hidden": true
   },
   "outputs": [],
   "source": [
    "teams_df = pd.read_csv('Final_datasets/final_list_of_teams.csv') # CLEAN"
   ]
  },
  {
   "cell_type": "markdown",
   "metadata": {
    "hidden": true
   },
   "source": [
    "### Players statistics"
   ]
  },
  {
   "cell_type": "code",
   "execution_count": 10,
   "metadata": {
    "hidden": true
   },
   "outputs": [],
   "source": [
    "def_stats_df = pd.read_csv('Final_datasets/Defensive_stats') # CLEAN"
   ]
  },
  {
   "cell_type": "code",
   "execution_count": 11,
   "metadata": {
    "hidden": true
   },
   "outputs": [],
   "source": [
    "of_stats_df = pd.read_csv('Final_datasets/Offensive_stats') # CLEAN"
   ]
  },
  {
   "cell_type": "code",
   "execution_count": 365,
   "metadata": {
    "hidden": true
   },
   "outputs": [],
   "source": [
    "summary_stats_df = pd.read_csv('Final_datasets/Summary_stats') # CLEAN"
   ]
  },
  {
   "cell_type": "markdown",
   "metadata": {
    "hidden": true
   },
   "source": [
    "### Rankings"
   ]
  },
  {
   "cell_type": "code",
   "execution_count": 1181,
   "metadata": {
    "hidden": true
   },
   "outputs": [],
   "source": [
    "clubs_ranking_df = pd.read_csv('Final_datasets/final_clubs_teams_ranking.csv') # CLEAN"
   ]
  },
  {
   "cell_type": "code",
   "execution_count": 15,
   "metadata": {
    "hidden": true
   },
   "outputs": [],
   "source": [
    "nat_teams_ranking_df = pd.read_csv('Final_datasets/final_nat_teams_ranking.csv') # CLEAN"
   ]
  },
  {
   "cell_type": "markdown",
   "metadata": {
    "hidden": true
   },
   "source": [
    "### Brand value data"
   ]
  },
  {
   "cell_type": "code",
   "execution_count": 3,
   "metadata": {
    "hidden": true
   },
   "outputs": [],
   "source": [
    "tw_sentiment_df = pd.read_csv('Final_datasets/final_tweets.csv') # CLEAN"
   ]
  },
  {
   "cell_type": "code",
   "execution_count": 31,
   "metadata": {
    "hidden": true
   },
   "outputs": [],
   "source": [
    "google_results_df = pd.read_csv('Final_datasets/google_results_def_v2.csv') # CLEAN"
   ]
  },
  {
   "cell_type": "markdown",
   "metadata": {
    "hidden": true
   },
   "source": [
    "### Other data"
   ]
  },
  {
   "cell_type": "code",
   "execution_count": 4,
   "metadata": {
    "hidden": true
   },
   "outputs": [],
   "source": [
    "basic_info_df = pd.read_csv('Final_datasets/Basic_info') # CLEAN"
   ]
  },
  {
   "cell_type": "code",
   "execution_count": 865,
   "metadata": {
    "hidden": true
   },
   "outputs": [],
   "source": [
    "ages_df = pd.read_csv('Final_datasets/final_ages.csv') # CLEAN"
   ]
  },
  {
   "cell_type": "code",
   "execution_count": 1381,
   "metadata": {
    "hidden": true
   },
   "outputs": [],
   "source": [
    "injuries_df = pd.read_csv('Final_datasets/final_injuries.csv')"
   ]
  },
  {
   "cell_type": "code",
   "execution_count": 21,
   "metadata": {
    "hidden": true
   },
   "outputs": [],
   "source": [
    "national_apps_df = pd.read_csv('Final_datasets/final_national_apps.csv') # CLEAN"
   ]
  },
  {
   "cell_type": "code",
   "execution_count": 1545,
   "metadata": {
    "hidden": true
   },
   "outputs": [],
   "source": [
    "awards_df = pd.read_csv('Final_datasets/final_players_awards.csv') # CLEAN"
   ]
  },
  {
   "cell_type": "code",
   "execution_count": 1556,
   "metadata": {
    "hidden": true
   },
   "outputs": [],
   "source": [
    "awards_categories_df = pd.read_csv('Final_datasets/awards_category.csv') # CLEAN"
   ]
  },
  {
   "cell_type": "code",
   "execution_count": 3,
   "metadata": {
    "hidden": true
   },
   "outputs": [],
   "source": [
    "several_and_target_df = pd.read_csv('Final_datasets/final_several_features_VALUEEE.csv') # CLEAN"
   ]
  },
  {
   "cell_type": "markdown",
   "metadata": {
    "heading_collapsed": true
   },
   "source": [
    "## Merging players, teams and rankings"
   ]
  },
  {
   "cell_type": "markdown",
   "metadata": {
    "heading_collapsed": true,
    "hidden": true
   },
   "source": [
    "#### Adding rankings to teams"
   ]
  },
  {
   "cell_type": "code",
   "execution_count": 999,
   "metadata": {
    "hidden": true
   },
   "outputs": [],
   "source": [
    "# Adjusting columns to match with teams_df\n",
    "\n",
    "clubs_ranking_df.columns = ['ranking','team','country']"
   ]
  },
  {
   "cell_type": "code",
   "execution_count": 995,
   "metadata": {
    "hidden": true
   },
   "outputs": [],
   "source": [
    "# Removing accents to posterior joining between teams and rankings\n",
    "\n",
    "import unicodedata\n",
    "from six import u as unicode\n",
    "\n",
    "def remove_accents(input_str):\n",
    "    nkfd_form = unicodedata.normalize('NFKD', unicode(input_str))\n",
    "    return u\"\".join([c for c in nkfd_form if not unicodedata.combining(c)])\n",
    "\n",
    "teams_df['clean_team'] = [remove_accents(x).lower() for x in teams_df.team]\n",
    "clubs_ranking_df['clean_team'] = [remove_accents(x).lower() for x in clubs_ranking_df.team]"
   ]
  },
  {
   "cell_type": "code",
   "execution_count": 1018,
   "metadata": {
    "hidden": true
   },
   "outputs": [],
   "source": [
    "# As in between datasets (ranking, teams scraped from Whoscored, teams scraped from Transfermarkt) the teams\n",
    "# names where not matching, it resulted necesary to create some functions to match names.\n",
    "# For example, you could 'F.C. Barcelona' in one dataset and just 'Barceona' in another.\n",
    "# Also, there were words repeated in between leagues and countries (for example: 'United', 'San' or 'Club')\n",
    "# That's why the first thing was to find a list of all the repetead words per league.\n",
    "# Once I had the list of repeated words per league I just dropped the teams in each league with any of those words.\n",
    "\n",
    "def repetead_words(teams_ranking, teams_list):\n",
    "    \n",
    "    repeated = {'word': [], 'country': []}\n",
    "    countries = list(teams_ranking.country.unique())\n",
    "    returner = {}\n",
    "        \n",
    "    for each_country in teams_list.country.unique():\n",
    "        for each in teams_list.clean_team[teams_list.country==each_country]:\n",
    "            list_team_words = each.split()\n",
    "            repeated['word'] += list_team_words\n",
    "            repeated['country'] += [each_country for i in range(len(list_team_words))]\n",
    "    \n",
    "    for each_country_2 in teams_ranking.country.unique():\n",
    "        for each_2 in teams_ranking.clean_team[teams_ranking.country==each_country_2]:\n",
    "            ranking_team_words = each_2.split()\n",
    "            repeated['word'] += ranking_team_words\n",
    "            repeated['country'] += [each_country_2 for i in range(len(ranking_team_words))]    \n",
    "    \n",
    "    rep = pd.DataFrame(repeated)\n",
    "    \n",
    "    for each in countries:\n",
    "        returner[each] = list(rep.word[rep.country == each].value_counts()[rep.word[rep.country == each].value_counts() > 2].keys())\n",
    "    \n",
    "    return returner"
   ]
  },
  {
   "cell_type": "code",
   "execution_count": 1019,
   "metadata": {
    "hidden": true
   },
   "outputs": [],
   "source": [
    "# Running function to find repetead words\n",
    "repetead_words = repetead_words(clubs_ranking_df, teams_df)"
   ]
  },
  {
   "cell_type": "code",
   "execution_count": 1025,
   "metadata": {
    "hidden": true
   },
   "outputs": [],
   "source": [
    "# Correcting by hand some teams that I wanted to conserve\n",
    "\n",
    "clubs_ranking_df.clean_teams = clubs_ranking_df.clean_team.map(lambda v: 'mancity' if v == 'manchester city' else v)\n",
    "clubs_ranking_df.clean_teams = clubs_ranking_df.clean_team.map(lambda v: 'manun' if v == 'manchester united' else v)\n",
    "teams_df.clean_teams = teams_df.clean_team.map(lambda v: 'mancity' if v == 'manchester city' else v)\n",
    "teams_df.clean_teams = teams_df.clean_team.map(lambda v: 'manun' if v == 'manchester united' else v)"
   ]
  },
  {
   "cell_type": "code",
   "execution_count": 1088,
   "metadata": {
    "hidden": true
   },
   "outputs": [],
   "source": [
    "# The next function takes the list of repetead words and all teams, to add their ranking\n",
    "\n",
    "def add_ranking(ranking_df, teams_df, rep):\n",
    "    \n",
    "    returner = {'team':[], 'ranking':[], 'league': []}\n",
    "    \n",
    "    for each_country in teams_df.country.unique():\n",
    "        for each_team in teams_df.clean_team[teams_df.country==each_country]:\n",
    "            returner['league'].append(teams_df.league[teams_df.clean_team==each_team].item())\n",
    "            returner['team'].append(each_team)\n",
    "            team_words = each_team.split()\n",
    "            remove_words = rep[each_country]\n",
    "            def_team_words = [x for x in team_words if x not in remove_words]\n",
    "            \n",
    "            append = False\n",
    "            for team_ranking in ranking_df.clean_team[ranking_df.country == each_country]:\n",
    "                count = 0\n",
    "                ranking_team_words = team_ranking.split()\n",
    "                def_ranking_team_words = [x for x in ranking_team_words if x not in remove_words]\n",
    "                for each_word in def_ranking_team_words:\n",
    "                    if each_word in def_team_words:\n",
    "                        if not append:\n",
    "                            ranking_value = ranking_df.ranking[(ranking_df.clean_team == team_ranking) & (ranking_df.country == each_country)].item()\n",
    "                            returner['ranking'].append(ranking_value)\n",
    "                            append = True\n",
    "                            \n",
    "            if not append:\n",
    "                returner['ranking'].append(np.nan)     \n",
    "                        \n",
    "    return returner"
   ]
  },
  {
   "cell_type": "code",
   "execution_count": 1110,
   "metadata": {
    "hidden": true
   },
   "outputs": [],
   "source": [
    "ranking_search = add_ranking(clubs_ranking_df, teams_df, repetead_words)"
   ]
  },
  {
   "cell_type": "code",
   "execution_count": 1111,
   "metadata": {
    "hidden": true,
    "scrolled": true
   },
   "outputs": [],
   "source": [
    "ranking_search_df = pd.DataFrame(ranking_search)"
   ]
  },
  {
   "cell_type": "code",
   "execution_count": 1112,
   "metadata": {
    "hidden": true
   },
   "outputs": [
    {
     "name": "stdout",
     "output_type": "stream",
     "text": [
      "Championship (ENG) has: 1\n",
      "MLS (USA) has: 2\n",
      "Bundesliga 2 (GER) has: 0\n",
      "Eredivise (NET) has: 2\n",
      "La Liga 2 (SPA) has: 0\n",
      "Super Lig (TUR) has: 2\n",
      "Ligue 1 (FRA) has: 4\n",
      "Liga NOS (POR) has: 4\n",
      "Super League (CHI) has: 4\n",
      "Serie A (ITA) has: 11\n",
      "Premier Liga (RUS) has: 7\n",
      "Premier League (ENG) has: 12\n",
      "Bundesliga (GER) has: 8\n",
      "La Liga (SPA) has: 15\n",
      "Primera División (ARG) has: 18\n"
     ]
    }
   ],
   "source": [
    "# Eventhough the previous function save us a lot of time, we were missing some teams aniway.\n",
    "# So we had to do some manual check.\n",
    "\n",
    "for league in ranking_search_df.league[pd.isnull(ranking_search_df.ranking)].value_counts().index:\n",
    "    null_v = ranking_search_df.ranking[ranking_search_df.league==league].notnull().sum()\n",
    "    print(league + \" has: \" + str(null_v))"
   ]
  },
  {
   "cell_type": "markdown",
   "metadata": {
    "hidden": true
   },
   "source": [
    "Checking one by one. Ranking has only teams ranked 200 or above:\n",
    "\n",
    "* Championship OK\n",
    "* MLS OK\n",
    "* Bundesliga 2 OK\n",
    "* Eredivise OK\n",
    "* La liga 2 OK\n",
    "* Ligue 1: lyon (56), paris saint-germain (28)\n",
    "* Liga NOS OK\n",
    "* Super League OK\n",
    "* Seria A: inter(32)\n",
    "* Premier Liga OK\n",
    "* Premier League: manun (33), mancity (4)\n",
    "* Bundesliga OK\n",
    "* La Liga: real madrid (2)\n",
    "* Primera División OK"
   ]
  },
  {
   "cell_type": "code",
   "execution_count": 1134,
   "metadata": {
    "hidden": true,
    "scrolled": true
   },
   "outputs": [
    {
     "data": {
      "text/html": [
       "<div>\n",
       "<style scoped>\n",
       "    .dataframe tbody tr th:only-of-type {\n",
       "        vertical-align: middle;\n",
       "    }\n",
       "\n",
       "    .dataframe tbody tr th {\n",
       "        vertical-align: top;\n",
       "    }\n",
       "\n",
       "    .dataframe thead th {\n",
       "        text-align: right;\n",
       "    }\n",
       "</style>\n",
       "<table border=\"1\" class=\"dataframe\">\n",
       "  <thead>\n",
       "    <tr style=\"text-align: right;\">\n",
       "      <th></th>\n",
       "      <th>team</th>\n",
       "      <th>ranking</th>\n",
       "      <th>league</th>\n",
       "    </tr>\n",
       "  </thead>\n",
       "  <tbody>\n",
       "    <tr>\n",
       "      <th>165</th>\n",
       "      <td>fc orenburg</td>\n",
       "      <td>NaN</td>\n",
       "      <td>Premier Liga (RUS)</td>\n",
       "    </tr>\n",
       "    <tr>\n",
       "      <th>168</th>\n",
       "      <td>rubin kazan</td>\n",
       "      <td>NaN</td>\n",
       "      <td>Premier Liga (RUS)</td>\n",
       "    </tr>\n",
       "    <tr>\n",
       "      <th>169</th>\n",
       "      <td>fc yenisey krasnoyarsk</td>\n",
       "      <td>NaN</td>\n",
       "      <td>Premier Liga (RUS)</td>\n",
       "    </tr>\n",
       "    <tr>\n",
       "      <th>170</th>\n",
       "      <td>anzhi makhachkala</td>\n",
       "      <td>NaN</td>\n",
       "      <td>Premier Liga (RUS)</td>\n",
       "    </tr>\n",
       "    <tr>\n",
       "      <th>171</th>\n",
       "      <td>ural</td>\n",
       "      <td>NaN</td>\n",
       "      <td>Premier Liga (RUS)</td>\n",
       "    </tr>\n",
       "    <tr>\n",
       "      <th>172</th>\n",
       "      <td>fk akhmat</td>\n",
       "      <td>NaN</td>\n",
       "      <td>Premier Liga (RUS)</td>\n",
       "    </tr>\n",
       "    <tr>\n",
       "      <th>175</th>\n",
       "      <td>krylya sovetov samara</td>\n",
       "      <td>NaN</td>\n",
       "      <td>Premier Liga (RUS)</td>\n",
       "    </tr>\n",
       "    <tr>\n",
       "      <th>176</th>\n",
       "      <td>fc ufa</td>\n",
       "      <td>NaN</td>\n",
       "      <td>Premier Liga (RUS)</td>\n",
       "    </tr>\n",
       "    <tr>\n",
       "      <th>178</th>\n",
       "      <td>dinamo moscow</td>\n",
       "      <td>NaN</td>\n",
       "      <td>Premier Liga (RUS)</td>\n",
       "    </tr>\n",
       "  </tbody>\n",
       "</table>\n",
       "</div>"
      ],
      "text/plain": [
       "                       team  ranking              league\n",
       "165             fc orenburg      NaN  Premier Liga (RUS)\n",
       "168             rubin kazan      NaN  Premier Liga (RUS)\n",
       "169  fc yenisey krasnoyarsk      NaN  Premier Liga (RUS)\n",
       "170       anzhi makhachkala      NaN  Premier Liga (RUS)\n",
       "171                    ural      NaN  Premier Liga (RUS)\n",
       "172               fk akhmat      NaN  Premier Liga (RUS)\n",
       "175   krylya sovetov samara      NaN  Premier Liga (RUS)\n",
       "176                  fc ufa      NaN  Premier Liga (RUS)\n",
       "178           dinamo moscow      NaN  Premier Liga (RUS)"
      ]
     },
     "execution_count": 1134,
     "metadata": {},
     "output_type": "execute_result"
    }
   ],
   "source": [
    "# Checking teams in every league missing values. In the example we were checking teams for the 'Premier Liga'\n",
    "\n",
    "ranking_search_df[(ranking_search_df.league.str.contains('Premier Liga')) & (pd.isnull(ranking_search_df.ranking))]"
   ]
  },
  {
   "cell_type": "code",
   "execution_count": 1147,
   "metadata": {
    "hidden": true
   },
   "outputs": [
    {
     "name": "stderr",
     "output_type": "stream",
     "text": [
      "/Users/gonzaloferreiro/anaconda3/lib/python3.6/site-packages/ipykernel_launcher.py:7: SettingWithCopyWarning: \n",
      "A value is trying to be set on a copy of a slice from a DataFrame\n",
      "\n",
      "See the caveats in the documentation: http://pandas.pydata.org/pandas-docs/stable/indexing.html#indexing-view-versus-copy\n",
      "  import sys\n"
     ]
    }
   ],
   "source": [
    "# Assigning correct values to the identified missing teams (just 6)\n",
    "\n",
    "correct_teams = {'team':['lyon','paris saint-germain','inter','manun','mancity','real madrid'],\n",
    "                'ranking': [56,28,32,33,4,2]}\n",
    "\n",
    "for ranking, team in zip(correct_teams['ranking'], correct_teams['team']):\n",
    "    ranking_search_df.ranking[ranking_search_df.team == team] = ranking"
   ]
  },
  {
   "cell_type": "code",
   "execution_count": 1149,
   "metadata": {
    "hidden": true
   },
   "outputs": [],
   "source": [
    "ranking_search_df.columns = ['clean_team','ranking','league']"
   ]
  },
  {
   "cell_type": "code",
   "execution_count": 1152,
   "metadata": {
    "hidden": true
   },
   "outputs": [],
   "source": [
    "teams_df = teams_df.merge(ranking_search_df, how='inner', on='clean_team')"
   ]
  },
  {
   "cell_type": "code",
   "execution_count": 1154,
   "metadata": {
    "hidden": true
   },
   "outputs": [],
   "source": [
    "teams_df.drop(['clean_team','league_y'],axis=1,inplace=True)"
   ]
  },
  {
   "cell_type": "markdown",
   "metadata": {
    "heading_collapsed": true,
    "hidden": true
   },
   "source": [
    "#### Merging players and teams"
   ]
  },
  {
   "cell_type": "code",
   "execution_count": 1157,
   "metadata": {
    "hidden": true
   },
   "outputs": [],
   "source": [
    "players_with_teams = players_df.merge(teams_df, how='inner', on='team')"
   ]
  },
  {
   "cell_type": "code",
   "execution_count": 1158,
   "metadata": {
    "hidden": true
   },
   "outputs": [
    {
     "data": {
      "text/plain": [
       "(1200, 10)"
      ]
     },
     "execution_count": 1158,
     "metadata": {},
     "output_type": "execute_result"
    }
   ],
   "source": [
    "players_with_teams.shape"
   ]
  },
  {
   "cell_type": "code",
   "execution_count": 1159,
   "metadata": {
    "hidden": true
   },
   "outputs": [
    {
     "name": "stdout",
     "output_type": "stream",
     "text": [
      "<class 'pandas.core.frame.DataFrame'>\n",
      "Int64Index: 1200 entries, 0 to 1199\n",
      "Data columns (total 10 columns):\n",
      "player      1200 non-null object\n",
      "lastname    1200 non-null object\n",
      "team        1200 non-null object\n",
      "link_tm     1200 non-null object\n",
      "link_ws     1200 non-null object\n",
      "league_x    1200 non-null object\n",
      "ws_link     1200 non-null object\n",
      "tm_link     1200 non-null object\n",
      "country     1200 non-null object\n",
      "ranking     440 non-null float64\n",
      "dtypes: float64(1), object(9)\n",
      "memory usage: 103.1+ KB\n"
     ]
    }
   ],
   "source": [
    "players_with_teams.info()"
   ]
  },
  {
   "cell_type": "code",
   "execution_count": 1161,
   "metadata": {
    "hidden": true
   },
   "outputs": [],
   "source": [
    "players_with_teams.columns = ['player', 'lastname', 'team', 'player_link_tm', \n",
    "                              'player_link_ws', 'league', 'team_ws_link','team_tm_link',\n",
    "                              'team_country','team_ranking']"
   ]
  },
  {
   "cell_type": "code",
   "execution_count": 1172,
   "metadata": {
    "hidden": true
   },
   "outputs": [],
   "source": [
    "# Doing some binning over the ranking\n",
    "\n",
    "players_with_teams['team_clas'] = ['Top 10' if x < 11 else 'Top 50' if x < 51 else 'Top 100' if x < 101 else \\\n",
    "                                   'Top 150' if x < 150 else 'Top 200' if x < 150 else \"Above 200\" for x \\\n",
    "                                   in players_with_teams.team_ranking]"
   ]
  },
  {
   "cell_type": "code",
   "execution_count": 1173,
   "metadata": {
    "hidden": true
   },
   "outputs": [],
   "source": [
    "players_with_teams = players_with_teams[['player', 'lastname', 'team', 'team_ranking', 'team_clas', 'league', \n",
    "                                         'team_country','player_link_tm','player_link_ws', 'team_ws_link','team_tm_link']]"
   ]
  },
  {
   "cell_type": "code",
   "execution_count": 1177,
   "metadata": {
    "hidden": true
   },
   "outputs": [],
   "source": [
    "# Dropping the previous ranking column\n",
    "\n",
    "players_with_teams.drop('team_ranking',axis=1,inplace=True)"
   ]
  },
  {
   "cell_type": "code",
   "execution_count": 1626,
   "metadata": {
    "hidden": true
   },
   "outputs": [],
   "source": [
    "players_with_teams.to_csv(r'/Users/gonzaloferreiro/Documents/GA_Materials/DS_Inmersive/DSI8-lessons/projects/project-capstone/Moving_forward/Final_datasets/Cleaned_data/Players_and_teams.csv',index=False)"
   ]
  },
  {
   "cell_type": "markdown",
   "metadata": {
    "heading_collapsed": true
   },
   "source": [
    "## Cleaning stats"
   ]
  },
  {
   "cell_type": "code",
   "execution_count": 38,
   "metadata": {
    "hidden": true
   },
   "outputs": [
    {
     "data": {
      "text/plain": [
       "(6937, 10)"
      ]
     },
     "execution_count": 38,
     "metadata": {},
     "output_type": "execute_result"
    }
   ],
   "source": [
    "# Checking shape of all stats tables\n",
    "\n",
    "def_stats_df.shape"
   ]
  },
  {
   "cell_type": "code",
   "execution_count": 39,
   "metadata": {
    "hidden": true
   },
   "outputs": [
    {
     "data": {
      "text/plain": [
       "(6040, 13)"
      ]
     },
     "execution_count": 39,
     "metadata": {},
     "output_type": "execute_result"
    }
   ],
   "source": [
    "summary_stats_df.shape"
   ]
  },
  {
   "cell_type": "code",
   "execution_count": 40,
   "metadata": {
    "hidden": true
   },
   "outputs": [
    {
     "data": {
      "text/plain": [
       "(6944, 8)"
      ]
     },
     "execution_count": 40,
     "metadata": {},
     "output_type": "execute_result"
    }
   ],
   "source": [
    "of_stats_df.shape"
   ]
  },
  {
   "cell_type": "markdown",
   "metadata": {
    "heading_collapsed": true,
    "hidden": true
   },
   "source": [
    "### Deffensive stats"
   ]
  },
  {
   "cell_type": "markdown",
   "metadata": {
    "hidden": true
   },
   "source": [
    "#### Initial loading and cleaning"
   ]
  },
  {
   "cell_type": "code",
   "execution_count": 152,
   "metadata": {
    "hidden": true
   },
   "outputs": [
    {
     "data": {
      "text/plain": [
       "Index(['interception', 'tackles', 'fouls', 'offsideswon', 'clearence',\n",
       "       'wasdribbled', 'blocks', 'owngoals'],\n",
       "      dtype='object')"
      ]
     },
     "execution_count": 152,
     "metadata": {},
     "output_type": "execute_result"
    }
   ],
   "source": [
    "def_stats_df.columns[:8]"
   ]
  },
  {
   "cell_type": "code",
   "execution_count": 153,
   "metadata": {
    "hidden": true
   },
   "outputs": [],
   "source": [
    "for each in def_stats_df.columns[:8]:\n",
    "    def_stats_df[each] = def_stats_df[each].map(lambda x: 0 if x == '-' else x)\n",
    "    def_stats_df[each] = def_stats_df[each].astype(float)"
   ]
  },
  {
   "cell_type": "markdown",
   "metadata": {
    "hidden": true
   },
   "source": [
    "#### Getting last and previous seasons independently"
   ]
  },
  {
   "cell_type": "code",
   "execution_count": 154,
   "metadata": {
    "hidden": true
   },
   "outputs": [],
   "source": [
    "def_stats_last_season = def_stats_df.drop_duplicates(subset='link', keep='first')"
   ]
  },
  {
   "cell_type": "code",
   "execution_count": 155,
   "metadata": {
    "hidden": true
   },
   "outputs": [],
   "source": [
    "index_rest = [x for x in def_stats_df.index.tolist() if x not in list(def_stats_last_season.index)]"
   ]
  },
  {
   "cell_type": "code",
   "execution_count": 156,
   "metadata": {
    "hidden": true
   },
   "outputs": [],
   "source": [
    "def_stats_previous_seasons = def_stats_df.iloc[index_rest]"
   ]
  },
  {
   "cell_type": "code",
   "execution_count": 157,
   "metadata": {
    "hidden": true
   },
   "outputs": [
    {
     "name": "stdout",
     "output_type": "stream",
     "text": [
      "6937\n",
      "6937\n"
     ]
    }
   ],
   "source": [
    "# Checking original length versus once divided\n",
    "\n",
    "print(len(def_stats_previous_seasons) + len(def_stats_last_season))\n",
    "print(len(def_stats_df))"
   ]
  },
  {
   "cell_type": "code",
   "execution_count": 158,
   "metadata": {
    "hidden": true
   },
   "outputs": [],
   "source": [
    "def_stats_mean_previous_seasons = def_stats_previous_seasons.groupby(by='link').mean()"
   ]
  },
  {
   "cell_type": "code",
   "execution_count": 159,
   "metadata": {
    "hidden": true
   },
   "outputs": [],
   "source": [
    "def_stats_mean_previous_seasons.reset_index(drop=False, inplace=True)"
   ]
  },
  {
   "cell_type": "code",
   "execution_count": 160,
   "metadata": {
    "hidden": true
   },
   "outputs": [],
   "source": [
    "def_stats_last_season.reset_index(drop=True, inplace=True)"
   ]
  },
  {
   "cell_type": "markdown",
   "metadata": {
    "hidden": true
   },
   "source": [
    "#### Getting everything together"
   ]
  },
  {
   "cell_type": "code",
   "execution_count": 161,
   "metadata": {
    "hidden": true
   },
   "outputs": [],
   "source": [
    "def_stats_last_season.columns = [\"last_\"+x if x != \"link\" else x for x in def_stats_last_season.columns]"
   ]
  },
  {
   "cell_type": "code",
   "execution_count": 263,
   "metadata": {
    "hidden": true
   },
   "outputs": [],
   "source": [
    "def_stats_mean_previous_seasons.columns = [\"previous_\"+x if x != \"link\" else x for x in \\\n",
    "                                           def_stats_mean_previous_seasons.columns]"
   ]
  },
  {
   "cell_type": "code",
   "execution_count": 265,
   "metadata": {
    "hidden": true
   },
   "outputs": [],
   "source": [
    "def_stats_final = def_stats_last_season.merge(def_stats_mean_previous_seasons,\n",
    "                                             on='link', how='left')"
   ]
  },
  {
   "cell_type": "code",
   "execution_count": 266,
   "metadata": {
    "hidden": true
   },
   "outputs": [
    {
     "data": {
      "text/plain": [
       "(1158, 18)"
      ]
     },
     "execution_count": 266,
     "metadata": {},
     "output_type": "execute_result"
    }
   ],
   "source": [
    "def_stats_final.shape"
   ]
  },
  {
   "cell_type": "code",
   "execution_count": 267,
   "metadata": {
    "hidden": true
   },
   "outputs": [],
   "source": [
    "def_stats_final.replace(to_replace=np.nan,value=0,inplace=True)"
   ]
  },
  {
   "cell_type": "markdown",
   "metadata": {
    "heading_collapsed": true,
    "hidden": true
   },
   "source": [
    "### Offensive stats"
   ]
  },
  {
   "cell_type": "code",
   "execution_count": 285,
   "metadata": {
    "hidden": true
   },
   "outputs": [
    {
     "data": {
      "text/plain": [
       "Index(['keypasses', 'dribbles', 'fouled', 'offsidesdone', 'disposeseed',\n",
       "       'badcontrol'],\n",
       "      dtype='object')"
      ]
     },
     "execution_count": 285,
     "metadata": {},
     "output_type": "execute_result"
    }
   ],
   "source": [
    "of_stats_df.columns[:6]"
   ]
  },
  {
   "cell_type": "code",
   "execution_count": 286,
   "metadata": {
    "hidden": true
   },
   "outputs": [],
   "source": [
    "for each in of_stats_df.columns[:6]:\n",
    "    of_stats_df[each] = of_stats_df[each].map(lambda x: 0 if x == '-' else x)\n",
    "    of_stats_df[each] = of_stats_df[each].astype(float)"
   ]
  },
  {
   "cell_type": "code",
   "execution_count": 287,
   "metadata": {
    "hidden": true
   },
   "outputs": [
    {
     "name": "stdout",
     "output_type": "stream",
     "text": [
      "<class 'pandas.core.frame.DataFrame'>\n",
      "RangeIndex: 6944 entries, 0 to 6943\n",
      "Data columns (total 8 columns):\n",
      "keypasses       6944 non-null float64\n",
      "dribbles        6944 non-null float64\n",
      "fouled          6944 non-null float64\n",
      "offsidesdone    6944 non-null float64\n",
      "disposeseed     6944 non-null float64\n",
      "badcontrol      6944 non-null float64\n",
      "team            6944 non-null object\n",
      "link            6944 non-null object\n",
      "dtypes: float64(6), object(2)\n",
      "memory usage: 434.1+ KB\n"
     ]
    }
   ],
   "source": [
    "of_stats_df.info()"
   ]
  },
  {
   "cell_type": "markdown",
   "metadata": {
    "hidden": true
   },
   "source": [
    "#### Getting last and previous seasons independently"
   ]
  },
  {
   "cell_type": "code",
   "execution_count": 288,
   "metadata": {
    "hidden": true
   },
   "outputs": [],
   "source": [
    "of_stats_last_season = of_stats_df.drop_duplicates(subset='link', keep='first')"
   ]
  },
  {
   "cell_type": "code",
   "execution_count": 289,
   "metadata": {
    "hidden": true
   },
   "outputs": [],
   "source": [
    "index_rest = [x for x in of_stats_df.index.tolist() if x not in list(of_stats_last_season.index)]"
   ]
  },
  {
   "cell_type": "code",
   "execution_count": 290,
   "metadata": {
    "hidden": true
   },
   "outputs": [],
   "source": [
    "of_stats_previous_seasons = of_stats_df.iloc[index_rest]"
   ]
  },
  {
   "cell_type": "code",
   "execution_count": 291,
   "metadata": {
    "hidden": true
   },
   "outputs": [
    {
     "name": "stdout",
     "output_type": "stream",
     "text": [
      "6944\n",
      "6944\n"
     ]
    }
   ],
   "source": [
    "# Checking original length versus once divided\n",
    "\n",
    "print(len(of_stats_previous_seasons) + len(of_stats_last_season))\n",
    "print(len(of_stats_df))"
   ]
  },
  {
   "cell_type": "code",
   "execution_count": 292,
   "metadata": {
    "hidden": true
   },
   "outputs": [],
   "source": [
    "of_stats_mean_previous_seasons = of_stats_previous_seasons.groupby(by='link').mean()"
   ]
  },
  {
   "cell_type": "code",
   "execution_count": 293,
   "metadata": {
    "hidden": true
   },
   "outputs": [],
   "source": [
    "of_stats_mean_previous_seasons.reset_index(drop=False, inplace=True)"
   ]
  },
  {
   "cell_type": "code",
   "execution_count": 294,
   "metadata": {
    "hidden": true
   },
   "outputs": [],
   "source": [
    "of_stats_last_season.reset_index(drop=True, inplace=True)"
   ]
  },
  {
   "cell_type": "markdown",
   "metadata": {
    "hidden": true
   },
   "source": [
    "#### Getting everything together"
   ]
  },
  {
   "cell_type": "code",
   "execution_count": 295,
   "metadata": {
    "hidden": true
   },
   "outputs": [],
   "source": [
    "of_stats_last_season.columns = [\"last_\"+x if x != \"link\" else x for x in of_stats_last_season.columns]"
   ]
  },
  {
   "cell_type": "code",
   "execution_count": 297,
   "metadata": {
    "hidden": true
   },
   "outputs": [],
   "source": [
    "of_stats_mean_previous_seasons.columns = [\"previous_\"+x if x != \"link\" else x for x in of_stats_mean_previous_seasons.columns]\n"
   ]
  },
  {
   "cell_type": "code",
   "execution_count": 299,
   "metadata": {
    "hidden": true
   },
   "outputs": [],
   "source": [
    "of_stats_final = of_stats_last_season.merge(of_stats_mean_previous_seasons,\n",
    "                                             on='link', how='left')"
   ]
  },
  {
   "cell_type": "code",
   "execution_count": 300,
   "metadata": {
    "hidden": true
   },
   "outputs": [
    {
     "data": {
      "text/plain": [
       "(1159, 14)"
      ]
     },
     "execution_count": 300,
     "metadata": {},
     "output_type": "execute_result"
    }
   ],
   "source": [
    "of_stats_final.shape"
   ]
  },
  {
   "cell_type": "code",
   "execution_count": 301,
   "metadata": {
    "hidden": true
   },
   "outputs": [],
   "source": [
    "of_stats_final.replace(to_replace=np.nan,value=0,inplace=True)"
   ]
  },
  {
   "cell_type": "markdown",
   "metadata": {
    "heading_collapsed": true,
    "hidden": true
   },
   "source": [
    "### Summary stats"
   ]
  },
  {
   "cell_type": "code",
   "execution_count": 433,
   "metadata": {
    "hidden": true,
    "scrolled": true
   },
   "outputs": [
    {
     "data": {
      "text/plain": [
       "['link', 'shots', 'passes', 'aerial', 'rating']"
      ]
     },
     "execution_count": 433,
     "metadata": {},
     "output_type": "execute_result"
    }
   ],
   "source": [
    "# Individualizing columns to be averaged\n",
    "\n",
    "mean_col = list(summary_stats_df.columns[np.r_[0,7:10,11]])\n",
    "mean_col"
   ]
  },
  {
   "cell_type": "code",
   "execution_count": 434,
   "metadata": {
    "hidden": true
   },
   "outputs": [
    {
     "data": {
      "text/plain": [
       "['link', 'team', 'mins', 'goals', 'assist', 'yellow', 'red', 'mom', 'season']"
      ]
     },
     "execution_count": 434,
     "metadata": {},
     "output_type": "execute_result"
    }
   ],
   "source": [
    "# Individualizing columns to be added\n",
    "\n",
    "sum_col = list(summary_stats_df.columns[np.r_[:7,10,12]])\n",
    "sum_col"
   ]
  },
  {
   "cell_type": "code",
   "execution_count": 435,
   "metadata": {
    "hidden": true
   },
   "outputs": [],
   "source": [
    "for each in summary_stats_df.columns[2:12]:\n",
    "    summary_stats_df[each] = summary_stats_df[each].map(lambda x: 0 if x == '-' else x)\n",
    "    summary_stats_df[each] = summary_stats_df[each].astype(float)"
   ]
  },
  {
   "cell_type": "code",
   "execution_count": 436,
   "metadata": {
    "hidden": true
   },
   "outputs": [
    {
     "name": "stdout",
     "output_type": "stream",
     "text": [
      "<class 'pandas.core.frame.DataFrame'>\n",
      "RangeIndex: 7030 entries, 0 to 7029\n",
      "Data columns (total 13 columns):\n",
      "link      7030 non-null object\n",
      "team      7030 non-null object\n",
      "mins      7030 non-null float64\n",
      "goals     7030 non-null float64\n",
      "assist    7030 non-null float64\n",
      "yellow    7030 non-null float64\n",
      "red       7030 non-null float64\n",
      "shots     7030 non-null float64\n",
      "passes    7030 non-null float64\n",
      "aerial    7030 non-null float64\n",
      "mom       7030 non-null float64\n",
      "rating    7030 non-null float64\n",
      "season    7030 non-null object\n",
      "dtypes: float64(10), object(3)\n",
      "memory usage: 714.1+ KB\n"
     ]
    }
   ],
   "source": [
    "summary_stats_df.info()"
   ]
  },
  {
   "cell_type": "markdown",
   "metadata": {
    "hidden": true
   },
   "source": [
    "#### Getting last and previous seasons independently"
   ]
  },
  {
   "cell_type": "code",
   "execution_count": 437,
   "metadata": {
    "hidden": true
   },
   "outputs": [],
   "source": [
    "summary_stats_last_season = summary_stats_df.drop_duplicates(subset='link', keep='first')"
   ]
  },
  {
   "cell_type": "code",
   "execution_count": 438,
   "metadata": {
    "hidden": true
   },
   "outputs": [],
   "source": [
    "index_rest = [x for x in summary_stats_df.index.tolist() if x not in list(summary_stats_last_season.index)]"
   ]
  },
  {
   "cell_type": "code",
   "execution_count": 439,
   "metadata": {
    "hidden": true
   },
   "outputs": [],
   "source": [
    "summary_stats_previous_seasons = summary_stats_df.iloc[index_rest]"
   ]
  },
  {
   "cell_type": "code",
   "execution_count": 440,
   "metadata": {
    "hidden": true
   },
   "outputs": [
    {
     "name": "stdout",
     "output_type": "stream",
     "text": [
      "7030\n",
      "7030\n"
     ]
    }
   ],
   "source": [
    "# Checking original length versus once divided\n",
    "\n",
    "print(len(summary_stats_previous_seasons) + len(summary_stats_last_season))\n",
    "print(len(summary_stats_df))"
   ]
  },
  {
   "cell_type": "code",
   "execution_count": 441,
   "metadata": {
    "hidden": true
   },
   "outputs": [],
   "source": [
    "summary_previous_to_mean = summary_stats_previous_seasons.loc[:,mean_col]\n",
    "summary_previous_to_sum = summary_stats_previous_seasons.loc[:,sum_col]"
   ]
  },
  {
   "cell_type": "code",
   "execution_count": 442,
   "metadata": {
    "hidden": true
   },
   "outputs": [],
   "source": [
    "summary_stats_mean_previous_seasons = summary_previous_to_mean.groupby(by='link').mean()\n",
    "summary_stats_sum_previous_seasons = summary_previous_to_sum.groupby(by='link').sum()"
   ]
  },
  {
   "cell_type": "code",
   "execution_count": 443,
   "metadata": {
    "hidden": true
   },
   "outputs": [],
   "source": [
    "summary_stats_mean_previous_seasons.reset_index(drop=False, inplace=True)\n",
    "summary_stats_sum_previous_seasons.reset_index(drop=False, inplace=True)"
   ]
  },
  {
   "cell_type": "code",
   "execution_count": 444,
   "metadata": {
    "hidden": true
   },
   "outputs": [],
   "source": [
    "summary_stats_last_season.reset_index(drop=True, inplace=True)"
   ]
  },
  {
   "cell_type": "markdown",
   "metadata": {
    "heading_collapsed": true,
    "hidden": true
   },
   "source": [
    "#### Getting everything together"
   ]
  },
  {
   "cell_type": "code",
   "execution_count": 445,
   "metadata": {
    "hidden": true
   },
   "outputs": [],
   "source": [
    "summary_stats_last_season.columns = [\"last_\"+x if x != \"link\" else x for x in summary_stats_last_season.columns]"
   ]
  },
  {
   "cell_type": "code",
   "execution_count": 447,
   "metadata": {
    "hidden": true
   },
   "outputs": [
    {
     "data": {
      "text/plain": [
       "(1176, 13)"
      ]
     },
     "execution_count": 447,
     "metadata": {},
     "output_type": "execute_result"
    }
   ],
   "source": [
    "summary_stats_last_season.shape"
   ]
  },
  {
   "cell_type": "code",
   "execution_count": 448,
   "metadata": {
    "hidden": true
   },
   "outputs": [],
   "source": [
    "# Changing name of the features to better reference\n",
    "\n",
    "summary_stats_mean_previous_seasons.columns = [\"previous_\"+x if x != \"link\" else x for x in summary_stats_mean_previous_seasons.columns]\n"
   ]
  },
  {
   "cell_type": "code",
   "execution_count": 450,
   "metadata": {
    "hidden": true
   },
   "outputs": [],
   "source": [
    "summary_stats_sum_previous_seasons.columns = [\"previous_\"+x if x != \"link\" else x for x in summary_stats_sum_previous_seasons.columns]\n"
   ]
  },
  {
   "cell_type": "code",
   "execution_count": 452,
   "metadata": {
    "hidden": true
   },
   "outputs": [],
   "source": [
    "# Creating metrics per min for previous seasons\n",
    "\n",
    "for each in summary_stats_sum_previous_seasons.columns:\n",
    "    if each != 'link' and each != 'previous_mins':\n",
    "        summary_stats_sum_previous_seasons[each+\"_permin\"] = summary_stats_sum_previous_seasons[each] / summary_stats_sum_previous_seasons['previous_mins']"
   ]
  },
  {
   "cell_type": "code",
   "execution_count": 454,
   "metadata": {
    "hidden": true
   },
   "outputs": [],
   "source": [
    "# Merging mean and sum datasets\n",
    "\n",
    "summary_stats_previous_all = summary_stats_mean_previous_seasons.merge(summary_stats_sum_previous_seasons,\n",
    "                                                                      on='link', how='inner')"
   ]
  },
  {
   "cell_type": "code",
   "execution_count": 482,
   "metadata": {
    "hidden": true
   },
   "outputs": [
    {
     "name": "stdout",
     "output_type": "stream",
     "text": [
      "(1018, 16)\n",
      "(1018, 5)\n"
     ]
    }
   ],
   "source": [
    "# Checking coherence\n",
    "\n",
    "print(summary_stats_previous_all.shape)\n",
    "print(summary_stats_mean_previous_seasons.shape)"
   ]
  },
  {
   "cell_type": "code",
   "execution_count": 459,
   "metadata": {
    "hidden": true
   },
   "outputs": [
    {
     "name": "stderr",
     "output_type": "stream",
     "text": [
      "/Users/gonzaloferreiro/anaconda3/lib/python3.6/site-packages/ipykernel_launcher.py:3: SettingWithCopyWarning: \n",
      "A value is trying to be set on a copy of a slice from a DataFrame.\n",
      "Try using .loc[row_indexer,col_indexer] = value instead\n",
      "\n",
      "See the caveats in the documentation: http://pandas.pydata.org/pandas-docs/stable/indexing.html#indexing-view-versus-copy\n",
      "  This is separate from the ipykernel package so we can avoid doing imports until\n"
     ]
    }
   ],
   "source": [
    "# Creating metrics per min for last season\n",
    "\n",
    "for each in summary_stats_last_season.iloc[:,np.r_[2:7,10]].columns:\n",
    "    if each != 'last_mins':\n",
    "        summary_stats_last_season[each+\"_permin\"] = summary_stats_last_season[each] / summary_stats_last_season['last_mins']"
   ]
  },
  {
   "cell_type": "code",
   "execution_count": 461,
   "metadata": {
    "hidden": true
   },
   "outputs": [],
   "source": [
    "# Merging dataset with previous on left, since player without previous seasons are just new/young players\n",
    "\n",
    "summary_stats_final = summary_stats_last_season.merge(summary_stats_previous_all,\n",
    "                                             on='link', how='left')"
   ]
  },
  {
   "cell_type": "code",
   "execution_count": 462,
   "metadata": {
    "hidden": true
   },
   "outputs": [
    {
     "data": {
      "text/plain": [
       "(1176, 33)"
      ]
     },
     "execution_count": 462,
     "metadata": {},
     "output_type": "execute_result"
    }
   ],
   "source": [
    "summary_stats_final.shape"
   ]
  },
  {
   "cell_type": "code",
   "execution_count": 463,
   "metadata": {
    "hidden": true
   },
   "outputs": [],
   "source": [
    "# Replacing null values per zero\n",
    "\n",
    "summary_stats_final.replace(to_replace=np.nan,value=0,inplace=True)"
   ]
  },
  {
   "cell_type": "markdown",
   "metadata": {
    "heading_collapsed": true,
    "hidden": true
   },
   "source": [
    "### Adding all together"
   ]
  },
  {
   "cell_type": "code",
   "execution_count": 485,
   "metadata": {
    "hidden": true
   },
   "outputs": [],
   "source": [
    "of_with_def = def_stats_final.merge(of_stats_final, on='link', how='inner')"
   ]
  },
  {
   "cell_type": "code",
   "execution_count": 486,
   "metadata": {
    "hidden": true
   },
   "outputs": [],
   "source": [
    "final_stats = of_with_def.merge(summary_stats_final, on='link', how='inner')"
   ]
  },
  {
   "cell_type": "code",
   "execution_count": 487,
   "metadata": {
    "hidden": true
   },
   "outputs": [
    {
     "data": {
      "text/plain": [
       "(1142, 63)"
      ]
     },
     "execution_count": 487,
     "metadata": {},
     "output_type": "execute_result"
    }
   ],
   "source": [
    "final_stats.shape"
   ]
  },
  {
   "cell_type": "code",
   "execution_count": 488,
   "metadata": {
    "hidden": true
   },
   "outputs": [
    {
     "data": {
      "text/plain": [
       "(1142, 63)"
      ]
     },
     "execution_count": 488,
     "metadata": {},
     "output_type": "execute_result"
    }
   ],
   "source": [
    "final_stats.shape"
   ]
  },
  {
   "cell_type": "code",
   "execution_count": 489,
   "metadata": {
    "hidden": true
   },
   "outputs": [],
   "source": [
    "final_order = ['link'] + [x for x in final_stats.columns if \"last\" in x] + [x for x in final_stats.columns if 'previous' in x]\n"
   ]
  },
  {
   "cell_type": "code",
   "execution_count": 490,
   "metadata": {
    "hidden": true
   },
   "outputs": [],
   "source": [
    "final_stats = final_stats[final_order]"
   ]
  },
  {
   "cell_type": "code",
   "execution_count": 494,
   "metadata": {
    "hidden": true
   },
   "outputs": [],
   "source": [
    "final_stats.to_csv(r'Final_datasets/Cleaned_data/final_stats_merged.csv',index=False)"
   ]
  },
  {
   "cell_type": "markdown",
   "metadata": {
    "heading_collapsed": true
   },
   "source": [
    "## Brand value data"
   ]
  },
  {
   "cell_type": "markdown",
   "metadata": {
    "heading_collapsed": true,
    "hidden": true
   },
   "source": [
    "### Google data"
   ]
  },
  {
   "cell_type": "code",
   "execution_count": 495,
   "metadata": {
    "hidden": true
   },
   "outputs": [
    {
     "data": {
      "text/html": [
       "<div>\n",
       "<style scoped>\n",
       "    .dataframe tbody tr th:only-of-type {\n",
       "        vertical-align: middle;\n",
       "    }\n",
       "\n",
       "    .dataframe tbody tr th {\n",
       "        vertical-align: top;\n",
       "    }\n",
       "\n",
       "    .dataframe thead th {\n",
       "        text-align: right;\n",
       "    }\n",
       "</style>\n",
       "<table border=\"1\" class=\"dataframe\">\n",
       "  <thead>\n",
       "    <tr style=\"text-align: right;\">\n",
       "      <th></th>\n",
       "      <th>link</th>\n",
       "      <th>search</th>\n",
       "      <th>results</th>\n",
       "    </tr>\n",
       "  </thead>\n",
       "  <tbody>\n",
       "    <tr>\n",
       "      <th>0</th>\n",
       "      <td>/max-clark/profil/spieler/183291</td>\n",
       "      <td>Max+Clark+Vitesse</td>\n",
       "      <td>1290000</td>\n",
       "    </tr>\n",
       "    <tr>\n",
       "      <th>1</th>\n",
       "      <td>/sergio-postigo/profil/spieler/158791</td>\n",
       "      <td>Sergio+Postigo+Levante</td>\n",
       "      <td>173000</td>\n",
       "    </tr>\n",
       "    <tr>\n",
       "      <th>2</th>\n",
       "      <td>/stanislav-iljutcenko/profil/spieler/191292</td>\n",
       "      <td>Stanislav+Iljutcenko+Duisburg</td>\n",
       "      <td>67900</td>\n",
       "    </tr>\n",
       "    <tr>\n",
       "      <th>3</th>\n",
       "      <td>/ivan-marcone/profil/spieler/90451</td>\n",
       "      <td>Iván+Marcone+Boca+Juniors</td>\n",
       "      <td>183000</td>\n",
       "    </tr>\n",
       "    <tr>\n",
       "      <th>4</th>\n",
       "      <td>/florent-mollet/profil/spieler/222859</td>\n",
       "      <td>Florent+Mollet+Montpellier</td>\n",
       "      <td>190000</td>\n",
       "    </tr>\n",
       "  </tbody>\n",
       "</table>\n",
       "</div>"
      ],
      "text/plain": [
       "                                          link                         search  \\\n",
       "0             /max-clark/profil/spieler/183291              Max+Clark+Vitesse   \n",
       "1        /sergio-postigo/profil/spieler/158791         Sergio+Postigo+Levante   \n",
       "2  /stanislav-iljutcenko/profil/spieler/191292  Stanislav+Iljutcenko+Duisburg   \n",
       "3           /ivan-marcone/profil/spieler/90451      Iván+Marcone+Boca+Juniors   \n",
       "4        /florent-mollet/profil/spieler/222859     Florent+Mollet+Montpellier   \n",
       "\n",
       "   results  \n",
       "0  1290000  \n",
       "1   173000  \n",
       "2    67900  \n",
       "3   183000  \n",
       "4   190000  "
      ]
     },
     "execution_count": 495,
     "metadata": {},
     "output_type": "execute_result"
    }
   ],
   "source": [
    "google_results_df.head()"
   ]
  },
  {
   "cell_type": "code",
   "execution_count": 523,
   "metadata": {
    "hidden": true
   },
   "outputs": [],
   "source": [
    "def standardization(var):\n",
    "    var_stand = (var-var.mean())/var.std()\n",
    "    return var_stand"
   ]
  },
  {
   "cell_type": "code",
   "execution_count": 540,
   "metadata": {
    "hidden": true
   },
   "outputs": [],
   "source": [
    "google_results_df['res_stand'] = standardization(google_results_df.results)"
   ]
  },
  {
   "cell_type": "code",
   "execution_count": 542,
   "metadata": {
    "hidden": true
   },
   "outputs": [
    {
     "data": {
      "image/png": "[encoded data removed]",
      "text/plain": [
       "<Figure size 864x432 with 2 Axes>"
      ]
     },
     "metadata": {
      "needs_background": "light"
     },
     "output_type": "display_data"
    }
   ],
   "source": [
    "fig, ax = plt.subplots(nrows=1,ncols=2, figsize=(12,6));\n",
    "\n",
    "\n",
    "sns.distplot(google_results_df['res_stand'], ax=ax[0]);\n",
    "ax[0].set(yscale=\"log\")\n",
    "sns.boxplot(data=google_results_df['res_stand'], orient='h', ax=ax[1]);"
   ]
  },
  {
   "cell_type": "code",
   "execution_count": 547,
   "metadata": {
    "hidden": true
   },
   "outputs": [
    {
     "data": {
      "text/html": [
       "<div>\n",
       "<style scoped>\n",
       "    .dataframe tbody tr th:only-of-type {\n",
       "        vertical-align: middle;\n",
       "    }\n",
       "\n",
       "    .dataframe tbody tr th {\n",
       "        vertical-align: top;\n",
       "    }\n",
       "\n",
       "    .dataframe thead th {\n",
       "        text-align: right;\n",
       "    }\n",
       "</style>\n",
       "<table border=\"1\" class=\"dataframe\">\n",
       "  <thead>\n",
       "    <tr style=\"text-align: right;\">\n",
       "      <th></th>\n",
       "      <th>link</th>\n",
       "      <th>search</th>\n",
       "      <th>results</th>\n",
       "      <th>res_stand</th>\n",
       "    </tr>\n",
       "  </thead>\n",
       "  <tbody>\n",
       "    <tr>\n",
       "      <th>128</th>\n",
       "      <td>/lionel-messi/profil/spieler/28003</td>\n",
       "      <td>Lionel+Messi+Barcelona</td>\n",
       "      <td>76800000</td>\n",
       "      <td>17.488131</td>\n",
       "    </tr>\n",
       "    <tr>\n",
       "      <th>454</th>\n",
       "      <td>/mikel-san-jose/profil/spieler/52469</td>\n",
       "      <td>Mikel+San+José+Athletic+Bilbao</td>\n",
       "      <td>76000000</td>\n",
       "      <td>17.303466</td>\n",
       "    </tr>\n",
       "    <tr>\n",
       "      <th>362</th>\n",
       "      <td>/arthur/profil/spieler/362842</td>\n",
       "      <td>Arthur+Barcelona</td>\n",
       "      <td>50100000</td>\n",
       "      <td>11.324953</td>\n",
       "    </tr>\n",
       "    <tr>\n",
       "      <th>609</th>\n",
       "      <td>/alisson/profil/spieler/105470</td>\n",
       "      <td>Alisson+Liverpool</td>\n",
       "      <td>34100000</td>\n",
       "      <td>7.631663</td>\n",
       "    </tr>\n",
       "    <tr>\n",
       "      <th>183</th>\n",
       "      <td>/sergio-ramos/profil/spieler/25557</td>\n",
       "      <td>Sergio+Ramos+Real+Madrid</td>\n",
       "      <td>26800000</td>\n",
       "      <td>5.946600</td>\n",
       "    </tr>\n",
       "    <tr>\n",
       "      <th>52</th>\n",
       "      <td>/neymar/profil/spieler/68290</td>\n",
       "      <td>Neymar+Paris+Saint-Germain</td>\n",
       "      <td>25200000</td>\n",
       "      <td>5.577271</td>\n",
       "    </tr>\n",
       "    <tr>\n",
       "      <th>995</th>\n",
       "      <td>/lucas-moura/profil/spieler/77100</td>\n",
       "      <td>Lucas+Moura+Tottenham</td>\n",
       "      <td>22500000</td>\n",
       "      <td>4.954028</td>\n",
       "    </tr>\n",
       "    <tr>\n",
       "      <th>456</th>\n",
       "      <td>/eric-miller/profil/spieler/245315</td>\n",
       "      <td>Eric+Miller+Minnesota+United</td>\n",
       "      <td>17500000</td>\n",
       "      <td>3.799875</td>\n",
       "    </tr>\n",
       "    <tr>\n",
       "      <th>489</th>\n",
       "      <td>/william/profil/spieler/153207</td>\n",
       "      <td>William+Chaves</td>\n",
       "      <td>16900000</td>\n",
       "      <td>3.661376</td>\n",
       "    </tr>\n",
       "    <tr>\n",
       "      <th>544</th>\n",
       "      <td>/clemente/profil/spieler/59372</td>\n",
       "      <td>Clemente+Santa+Clara</td>\n",
       "      <td>16900000</td>\n",
       "      <td>3.661376</td>\n",
       "    </tr>\n",
       "    <tr>\n",
       "      <th>546</th>\n",
       "      <td>/ze-manuel/profil/spieler/113025</td>\n",
       "      <td>Zé+Manuel+Santa+Clara</td>\n",
       "      <td>16800000</td>\n",
       "      <td>3.638293</td>\n",
       "    </tr>\n",
       "    <tr>\n",
       "      <th>668</th>\n",
       "      <td>/andrew-taylor/profil/spieler/29158</td>\n",
       "      <td>Andrew+Taylor+Bolton</td>\n",
       "      <td>16000000</td>\n",
       "      <td>3.453629</td>\n",
       "    </tr>\n",
       "    <tr>\n",
       "      <th>1099</th>\n",
       "      <td>/diego-mercado/profil/spieler/556049</td>\n",
       "      <td>Diego+Mercado+Independiente</td>\n",
       "      <td>15600000</td>\n",
       "      <td>3.361297</td>\n",
       "    </tr>\n",
       "    <tr>\n",
       "      <th>785</th>\n",
       "      <td>/vincent-kompany/profil/spieler/9594</td>\n",
       "      <td>Vincent+Kompany+ManCity</td>\n",
       "      <td>15600000</td>\n",
       "      <td>3.361297</td>\n",
       "    </tr>\n",
       "    <tr>\n",
       "      <th>159</th>\n",
       "      <td>/joao-teixeira/profil/spieler/182710</td>\n",
       "      <td>João+Teixeira+Chaves</td>\n",
       "      <td>15400000</td>\n",
       "      <td>3.315130</td>\n",
       "    </tr>\n",
       "    <tr>\n",
       "      <th>660</th>\n",
       "      <td>/sam-johnson/profil/spieler/252062</td>\n",
       "      <td>Sam+Johnson+Real+Salt+Lake</td>\n",
       "      <td>15100000</td>\n",
       "      <td>3.245881</td>\n",
       "    </tr>\n",
       "    <tr>\n",
       "      <th>695</th>\n",
       "      <td>/rafael/profil/spieler/61892</td>\n",
       "      <td>Rafael+Lyon</td>\n",
       "      <td>15100000</td>\n",
       "      <td>3.245881</td>\n",
       "    </tr>\n",
       "    <tr>\n",
       "      <th>1096</th>\n",
       "      <td>/karim-benzema/profil/spieler/18922</td>\n",
       "      <td>Karim+Benzema+Real+Madrid</td>\n",
       "      <td>14600000</td>\n",
       "      <td>3.130466</td>\n",
       "    </tr>\n",
       "    <tr>\n",
       "      <th>933</th>\n",
       "      <td>/arturo-vidal/profil/spieler/37666</td>\n",
       "      <td>Arturo+Vidal+Barcelona</td>\n",
       "      <td>14600000</td>\n",
       "      <td>3.130466</td>\n",
       "    </tr>\n",
       "    <tr>\n",
       "      <th>399</th>\n",
       "      <td>/manuel-castro/profil/spieler/335984</td>\n",
       "      <td>Manuel+Castro+Estudiantes</td>\n",
       "      <td>14500000</td>\n",
       "      <td>3.107383</td>\n",
       "    </tr>\n",
       "    <tr>\n",
       "      <th>854</th>\n",
       "      <td>/joao-lopes/profil/spieler/547553</td>\n",
       "      <td>João+Lopes+Santa+Clara</td>\n",
       "      <td>13600000</td>\n",
       "      <td>2.899635</td>\n",
       "    </tr>\n",
       "    <tr>\n",
       "      <th>1179</th>\n",
       "      <td>/roman-martinez/profil/spieler/53134</td>\n",
       "      <td>Román+Martínez+San+Lorenzo</td>\n",
       "      <td>13100000</td>\n",
       "      <td>2.784220</td>\n",
       "    </tr>\n",
       "    <tr>\n",
       "      <th>268</th>\n",
       "      <td>/nicolas-domingo/profil/spieler/39150</td>\n",
       "      <td>Nicolás+Domingo+Independiente</td>\n",
       "      <td>11300000</td>\n",
       "      <td>2.368725</td>\n",
       "    </tr>\n",
       "    <tr>\n",
       "      <th>494</th>\n",
       "      <td>/junio/profil/spieler/520469</td>\n",
       "      <td>Junio+Rio+Ave</td>\n",
       "      <td>10700000</td>\n",
       "      <td>2.230227</td>\n",
       "    </tr>\n",
       "    <tr>\n",
       "      <th>53</th>\n",
       "      <td>/pierre-emerick-aubameyang/profil/spieler/58864</td>\n",
       "      <td>Pierre-Emerick+Aubameyang+Arsenal</td>\n",
       "      <td>10700000</td>\n",
       "      <td>2.230227</td>\n",
       "    </tr>\n",
       "    <tr>\n",
       "      <th>1149</th>\n",
       "      <td>/raheem-sterling/profil/spieler/134425</td>\n",
       "      <td>Raheem+Sterling+ManCity</td>\n",
       "      <td>10300000</td>\n",
       "      <td>2.137894</td>\n",
       "    </tr>\n",
       "    <tr>\n",
       "      <th>32</th>\n",
       "      <td>/jordan-henderson/profil/spieler/61651</td>\n",
       "      <td>Jordan+Henderson+Liverpool</td>\n",
       "      <td>9840000</td>\n",
       "      <td>2.031712</td>\n",
       "    </tr>\n",
       "    <tr>\n",
       "      <th>452</th>\n",
       "      <td>/marcelo/profil/spieler/52920</td>\n",
       "      <td>Marcelo+Lyon</td>\n",
       "      <td>9720000</td>\n",
       "      <td>2.004013</td>\n",
       "    </tr>\n",
       "  </tbody>\n",
       "</table>\n",
       "</div>"
      ],
      "text/plain": [
       "                                                 link  \\\n",
       "128                /lionel-messi/profil/spieler/28003   \n",
       "454              /mikel-san-jose/profil/spieler/52469   \n",
       "362                     /arthur/profil/spieler/362842   \n",
       "609                    /alisson/profil/spieler/105470   \n",
       "183                /sergio-ramos/profil/spieler/25557   \n",
       "52                       /neymar/profil/spieler/68290   \n",
       "995                 /lucas-moura/profil/spieler/77100   \n",
       "456                /eric-miller/profil/spieler/245315   \n",
       "489                    /william/profil/spieler/153207   \n",
       "544                    /clemente/profil/spieler/59372   \n",
       "546                  /ze-manuel/profil/spieler/113025   \n",
       "668               /andrew-taylor/profil/spieler/29158   \n",
       "1099             /diego-mercado/profil/spieler/556049   \n",
       "785              /vincent-kompany/profil/spieler/9594   \n",
       "159              /joao-teixeira/profil/spieler/182710   \n",
       "660                /sam-johnson/profil/spieler/252062   \n",
       "695                      /rafael/profil/spieler/61892   \n",
       "1096              /karim-benzema/profil/spieler/18922   \n",
       "933                /arturo-vidal/profil/spieler/37666   \n",
       "399              /manuel-castro/profil/spieler/335984   \n",
       "854                 /joao-lopes/profil/spieler/547553   \n",
       "1179             /roman-martinez/profil/spieler/53134   \n",
       "268             /nicolas-domingo/profil/spieler/39150   \n",
       "494                      /junio/profil/spieler/520469   \n",
       "53    /pierre-emerick-aubameyang/profil/spieler/58864   \n",
       "1149           /raheem-sterling/profil/spieler/134425   \n",
       "32             /jordan-henderson/profil/spieler/61651   \n",
       "452                     /marcelo/profil/spieler/52920   \n",
       "\n",
       "                                 search   results  res_stand  \n",
       "128              Lionel+Messi+Barcelona  76800000  17.488131  \n",
       "454      Mikel+San+José+Athletic+Bilbao  76000000  17.303466  \n",
       "362                    Arthur+Barcelona  50100000  11.324953  \n",
       "609                   Alisson+Liverpool  34100000   7.631663  \n",
       "183            Sergio+Ramos+Real+Madrid  26800000   5.946600  \n",
       "52           Neymar+Paris+Saint-Germain  25200000   5.577271  \n",
       "995               Lucas+Moura+Tottenham  22500000   4.954028  \n",
       "456        Eric+Miller+Minnesota+United  17500000   3.799875  \n",
       "489                      William+Chaves  16900000   3.661376  \n",
       "544                Clemente+Santa+Clara  16900000   3.661376  \n",
       "546               Zé+Manuel+Santa+Clara  16800000   3.638293  \n",
       "668                Andrew+Taylor+Bolton  16000000   3.453629  \n",
       "1099        Diego+Mercado+Independiente  15600000   3.361297  \n",
       "785             Vincent+Kompany+ManCity  15600000   3.361297  \n",
       "159                João+Teixeira+Chaves  15400000   3.315130  \n",
       "660          Sam+Johnson+Real+Salt+Lake  15100000   3.245881  \n",
       "695                         Rafael+Lyon  15100000   3.245881  \n",
       "1096          Karim+Benzema+Real+Madrid  14600000   3.130466  \n",
       "933              Arturo+Vidal+Barcelona  14600000   3.130466  \n",
       "399           Manuel+Castro+Estudiantes  14500000   3.107383  \n",
       "854              João+Lopes+Santa+Clara  13600000   2.899635  \n",
       "1179         Román+Martínez+San+Lorenzo  13100000   2.784220  \n",
       "268       Nicolás+Domingo+Independiente  11300000   2.368725  \n",
       "494                       Junio+Rio+Ave  10700000   2.230227  \n",
       "53    Pierre-Emerick+Aubameyang+Arsenal  10700000   2.230227  \n",
       "1149            Raheem+Sterling+ManCity  10300000   2.137894  \n",
       "32           Jordan+Henderson+Liverpool   9840000   2.031712  \n",
       "452                        Marcelo+Lyon   9720000   2.004013  "
      ]
     },
     "execution_count": 547,
     "metadata": {},
     "output_type": "execute_result"
    }
   ],
   "source": [
    "# Manually marking some wrong outliers\n",
    "\n",
    "google_results_df[google_results_df.res_stand > 2].sort_values(by='res_stand', ascending=False)"
   ]
  },
  {
   "cell_type": "code",
   "execution_count": 574,
   "metadata": {
    "hidden": true
   },
   "outputs": [],
   "source": [
    "to_be_corrected = ['Mikel+San+José+Athletic+Bilbao',\n",
    "                   'Eric+Miller+Minnesota+United',\n",
    "                   'William+Chaves',\n",
    "                   'Clemente+Santa+Clara',\n",
    "                   'Zé+Manuel+Santa+Clara',\n",
    "                   'Andrew+Taylor+Bolton',\n",
    "                   'Diego+Mercado+Independiente',\n",
    "                   'João+Teixeira+Chaves',\n",
    "                   'Sam+Johnson+Real+Salt+Lake',\n",
    "                   'Manuel+Castro+Estudiantes',\n",
    "                   'Román+Martínez+San+Lorenzo',\n",
    "                   'João+Lopes+Santa+Clara'\n",
    "                   'Nicolás+Domingo+Independiente',\n",
    "                   'Junio+Rio+Ave',\n",
    "                   'Nicolás+Domingo+Independiente']\n",
    "\n",
    "for each in to_be_corrected:\n",
    "    mean_res = round(np.mean(google_results_df.results[google_results_df.res_stand < 20]),0)\n",
    "    google_results_df.results.loc[google_results_df['search'] == each] = mean_res"
   ]
  },
  {
   "cell_type": "code",
   "execution_count": 861,
   "metadata": {
    "hidden": true
   },
   "outputs": [
    {
     "data": {
      "image/png": "[encoded data removed]",
      "text/plain": [
       "<Figure size 864x432 with 2 Axes>"
      ]
     },
     "metadata": {
      "needs_background": "light"
     },
     "output_type": "display_data"
    }
   ],
   "source": [
    "fig, ax = plt.subplots(nrows=1,ncols=2, figsize=(12,6));\n",
    "\n",
    "\n",
    "sns.distplot(google_results_df['res_stand'], ax=ax[0]);\n",
    "ax[0].set(yscale=\"log\")\n",
    "sns.boxplot(data=google_results_df['res_stand'], orient='h', ax=ax[1]);"
   ]
  },
  {
   "cell_type": "code",
   "execution_count": 1623,
   "metadata": {
    "hidden": true
   },
   "outputs": [
    {
     "data": {
      "text/html": [
       "<div>\n",
       "<style scoped>\n",
       "    .dataframe tbody tr th:only-of-type {\n",
       "        vertical-align: middle;\n",
       "    }\n",
       "\n",
       "    .dataframe tbody tr th {\n",
       "        vertical-align: top;\n",
       "    }\n",
       "\n",
       "    .dataframe thead th {\n",
       "        text-align: right;\n",
       "    }\n",
       "</style>\n",
       "<table border=\"1\" class=\"dataframe\">\n",
       "  <thead>\n",
       "    <tr style=\"text-align: right;\">\n",
       "      <th></th>\n",
       "      <th>link</th>\n",
       "      <th>search</th>\n",
       "      <th>results</th>\n",
       "      <th>res_stand</th>\n",
       "    </tr>\n",
       "  </thead>\n",
       "  <tbody>\n",
       "    <tr>\n",
       "      <th>128</th>\n",
       "      <td>/lionel-messi/profil/spieler/28003</td>\n",
       "      <td>Lionel+Messi+Barcelona</td>\n",
       "      <td>76800000.0</td>\n",
       "      <td>21.843871</td>\n",
       "    </tr>\n",
       "    <tr>\n",
       "      <th>362</th>\n",
       "      <td>/arthur/profil/spieler/362842</td>\n",
       "      <td>Arthur+Barcelona</td>\n",
       "      <td>50100000.0</td>\n",
       "      <td>14.165374</td>\n",
       "    </tr>\n",
       "    <tr>\n",
       "      <th>609</th>\n",
       "      <td>/alisson/profil/spieler/105470</td>\n",
       "      <td>Alisson+Liverpool</td>\n",
       "      <td>34100000.0</td>\n",
       "      <td>9.564028</td>\n",
       "    </tr>\n",
       "    <tr>\n",
       "      <th>183</th>\n",
       "      <td>/sergio-ramos/profil/spieler/25557</td>\n",
       "      <td>Sergio+Ramos+Real+Madrid</td>\n",
       "      <td>26800000.0</td>\n",
       "      <td>7.464663</td>\n",
       "    </tr>\n",
       "    <tr>\n",
       "      <th>52</th>\n",
       "      <td>/neymar/profil/spieler/68290</td>\n",
       "      <td>Neymar+Paris+Saint-Germain</td>\n",
       "      <td>25200000.0</td>\n",
       "      <td>7.004529</td>\n",
       "    </tr>\n",
       "    <tr>\n",
       "      <th>995</th>\n",
       "      <td>/lucas-moura/profil/spieler/77100</td>\n",
       "      <td>Lucas+Moura+Tottenham</td>\n",
       "      <td>22500000.0</td>\n",
       "      <td>6.228052</td>\n",
       "    </tr>\n",
       "    <tr>\n",
       "      <th>785</th>\n",
       "      <td>/vincent-kompany/profil/spieler/9594</td>\n",
       "      <td>Vincent+Kompany+ManCity</td>\n",
       "      <td>15600000.0</td>\n",
       "      <td>4.243721</td>\n",
       "    </tr>\n",
       "    <tr>\n",
       "      <th>695</th>\n",
       "      <td>/rafael/profil/spieler/61892</td>\n",
       "      <td>Rafael+Lyon</td>\n",
       "      <td>15100000.0</td>\n",
       "      <td>4.099929</td>\n",
       "    </tr>\n",
       "    <tr>\n",
       "      <th>1096</th>\n",
       "      <td>/karim-benzema/profil/spieler/18922</td>\n",
       "      <td>Karim+Benzema+Real+Madrid</td>\n",
       "      <td>14600000.0</td>\n",
       "      <td>3.956137</td>\n",
       "    </tr>\n",
       "    <tr>\n",
       "      <th>933</th>\n",
       "      <td>/arturo-vidal/profil/spieler/37666</td>\n",
       "      <td>Arturo+Vidal+Barcelona</td>\n",
       "      <td>14600000.0</td>\n",
       "      <td>3.956137</td>\n",
       "    </tr>\n",
       "    <tr>\n",
       "      <th>854</th>\n",
       "      <td>/joao-lopes/profil/spieler/547553</td>\n",
       "      <td>João+Lopes+Santa+Clara</td>\n",
       "      <td>13600000.0</td>\n",
       "      <td>3.668553</td>\n",
       "    </tr>\n",
       "    <tr>\n",
       "      <th>53</th>\n",
       "      <td>/pierre-emerick-aubameyang/profil/spieler/58864</td>\n",
       "      <td>Pierre-Emerick+Aubameyang+Arsenal</td>\n",
       "      <td>10700000.0</td>\n",
       "      <td>2.834558</td>\n",
       "    </tr>\n",
       "    <tr>\n",
       "      <th>1149</th>\n",
       "      <td>/raheem-sterling/profil/spieler/134425</td>\n",
       "      <td>Raheem+Sterling+ManCity</td>\n",
       "      <td>10300000.0</td>\n",
       "      <td>2.719525</td>\n",
       "    </tr>\n",
       "    <tr>\n",
       "      <th>32</th>\n",
       "      <td>/jordan-henderson/profil/spieler/61651</td>\n",
       "      <td>Jordan+Henderson+Liverpool</td>\n",
       "      <td>9840000.0</td>\n",
       "      <td>2.587236</td>\n",
       "    </tr>\n",
       "    <tr>\n",
       "      <th>452</th>\n",
       "      <td>/marcelo/profil/spieler/52920</td>\n",
       "      <td>Marcelo+Lyon</td>\n",
       "      <td>9720000.0</td>\n",
       "      <td>2.552726</td>\n",
       "    </tr>\n",
       "  </tbody>\n",
       "</table>\n",
       "</div>"
      ],
      "text/plain": [
       "                                                 link  \\\n",
       "128                /lionel-messi/profil/spieler/28003   \n",
       "362                     /arthur/profil/spieler/362842   \n",
       "609                    /alisson/profil/spieler/105470   \n",
       "183                /sergio-ramos/profil/spieler/25557   \n",
       "52                       /neymar/profil/spieler/68290   \n",
       "995                 /lucas-moura/profil/spieler/77100   \n",
       "785              /vincent-kompany/profil/spieler/9594   \n",
       "695                      /rafael/profil/spieler/61892   \n",
       "1096              /karim-benzema/profil/spieler/18922   \n",
       "933                /arturo-vidal/profil/spieler/37666   \n",
       "854                 /joao-lopes/profil/spieler/547553   \n",
       "53    /pierre-emerick-aubameyang/profil/spieler/58864   \n",
       "1149           /raheem-sterling/profil/spieler/134425   \n",
       "32             /jordan-henderson/profil/spieler/61651   \n",
       "452                     /marcelo/profil/spieler/52920   \n",
       "\n",
       "                                 search     results  res_stand  \n",
       "128              Lionel+Messi+Barcelona  76800000.0  21.843871  \n",
       "362                    Arthur+Barcelona  50100000.0  14.165374  \n",
       "609                   Alisson+Liverpool  34100000.0   9.564028  \n",
       "183            Sergio+Ramos+Real+Madrid  26800000.0   7.464663  \n",
       "52           Neymar+Paris+Saint-Germain  25200000.0   7.004529  \n",
       "995               Lucas+Moura+Tottenham  22500000.0   6.228052  \n",
       "785             Vincent+Kompany+ManCity  15600000.0   4.243721  \n",
       "695                         Rafael+Lyon  15100000.0   4.099929  \n",
       "1096          Karim+Benzema+Real+Madrid  14600000.0   3.956137  \n",
       "933              Arturo+Vidal+Barcelona  14600000.0   3.956137  \n",
       "854              João+Lopes+Santa+Clara  13600000.0   3.668553  \n",
       "53    Pierre-Emerick+Aubameyang+Arsenal  10700000.0   2.834558  \n",
       "1149            Raheem+Sterling+ManCity  10300000.0   2.719525  \n",
       "32           Jordan+Henderson+Liverpool   9840000.0   2.587236  \n",
       "452                        Marcelo+Lyon   9720000.0   2.552726  "
      ]
     },
     "execution_count": 1623,
     "metadata": {},
     "output_type": "execute_result"
    }
   ],
   "source": [
    "# Manually adjusting some players with zero\n",
    "\n",
    "google_results_df.sort_values(by='results', ascending=False).head(15)"
   ]
  },
  {
   "cell_type": "code",
   "execution_count": 582,
   "metadata": {
    "code_folding": [],
    "hidden": true
   },
   "outputs": [],
   "source": [
    "# Manually adjusting values with zero\n",
    "\n",
    "# Some specific players with wrong data\n",
    "\n",
    "to_be_upgraded = {'Alberto+Benito+Real+Zaragoza': 4370000,\n",
    "                 'Marco+Asensio+Real+Madrid': 7250000}\n",
    "                  \n",
    "for key, value in zip(to_be_upgraded.keys(), to_be_upgraded.values()):\n",
    "    google_results_df.results.loc[google_results_df['search'] == key] = value"
   ]
  },
  {
   "cell_type": "code",
   "execution_count": 587,
   "metadata": {
    "hidden": true
   },
   "outputs": [],
   "source": [
    "# Generalizing for the rest\n",
    "\n",
    "google_results_df.results.loc[google_results_df['results'] == 0] = np.percentile(google_results_df.results, q=25)"
   ]
  },
  {
   "cell_type": "code",
   "execution_count": 588,
   "metadata": {
    "hidden": true
   },
   "outputs": [],
   "source": [
    "google_results_df['res_stand'] = standardization(google_results_df.results)"
   ]
  },
  {
   "cell_type": "code",
   "execution_count": 1462,
   "metadata": {
    "hidden": true
   },
   "outputs": [
    {
     "data": {
      "image/png": "[encoded data removed]",
      "text/plain": [
       "<Figure size 864x432 with 2 Axes>"
      ]
     },
     "metadata": {
      "needs_background": "light"
     },
     "output_type": "display_data"
    }
   ],
   "source": [
    "fig, ax = plt.subplots(nrows=1,ncols=2, figsize=(12,6));\n",
    "\n",
    "\n",
    "sns.distplot(google_results_df['res_stand'], ax=ax[0]);\n",
    "ax[0].set(yscale=\"log\")\n",
    "sns.boxplot(data=google_results_df['res_stand'], orient='h', ax=ax[1]);\n",
    "#ax[1].set(xscale='log')"
   ]
  },
  {
   "cell_type": "code",
   "execution_count": 592,
   "metadata": {
    "hidden": true
   },
   "outputs": [],
   "source": [
    "google_results_df.to_csv(r'Final_datasets/Cleaned_data/final_google_results_cleaned.csv',index=False)"
   ]
  },
  {
   "cell_type": "markdown",
   "metadata": {
    "heading_collapsed": true,
    "hidden": true
   },
   "source": [
    "### Twitter data"
   ]
  },
  {
   "cell_type": "code",
   "execution_count": 4,
   "metadata": {
    "hidden": true
   },
   "outputs": [
    {
     "data": {
      "text/html": [
       "<div>\n",
       "<style scoped>\n",
       "    .dataframe tbody tr th:only-of-type {\n",
       "        vertical-align: middle;\n",
       "    }\n",
       "\n",
       "    .dataframe tbody tr th {\n",
       "        vertical-align: top;\n",
       "    }\n",
       "\n",
       "    .dataframe thead th {\n",
       "        text-align: right;\n",
       "    }\n",
       "</style>\n",
       "<table border=\"1\" class=\"dataframe\">\n",
       "  <thead>\n",
       "    <tr style=\"text-align: right;\">\n",
       "      <th></th>\n",
       "      <th>Keyword</th>\n",
       "      <th>Link</th>\n",
       "      <th>Positive</th>\n",
       "      <th>Negative</th>\n",
       "      <th>Neutral</th>\n",
       "    </tr>\n",
       "  </thead>\n",
       "  <tbody>\n",
       "    <tr>\n",
       "      <th>0</th>\n",
       "      <td>Trent Alexander-Arnold Liverpool</td>\n",
       "      <td>0      /Players/318871/Show/Trent-Alexander-Ar...</td>\n",
       "      <td>60.000000</td>\n",
       "      <td>4.500000</td>\n",
       "      <td>35.500000</td>\n",
       "    </tr>\n",
       "    <tr>\n",
       "      <th>1</th>\n",
       "      <td>Pierre-Emerick Aubameyang Arsenal</td>\n",
       "      <td>0      /Players/44120/Show/Pierre-Emerick-Auba...</td>\n",
       "      <td>33.000000</td>\n",
       "      <td>3.000000</td>\n",
       "      <td>64.000000</td>\n",
       "    </tr>\n",
       "    <tr>\n",
       "      <th>2</th>\n",
       "      <td>Neymar Paris Saint-Germain</td>\n",
       "      <td>0      /Players/50835/Show/Neymar\\n1      /Pla...</td>\n",
       "      <td>24.000000</td>\n",
       "      <td>10.500000</td>\n",
       "      <td>65.500000</td>\n",
       "    </tr>\n",
       "    <tr>\n",
       "      <th>3</th>\n",
       "      <td>Jordan Henderson Liverpool</td>\n",
       "      <td>0      /Players/68659/Show/Jordan-Henderson\\n1...</td>\n",
       "      <td>54.500000</td>\n",
       "      <td>8.000000</td>\n",
       "      <td>37.500000</td>\n",
       "    </tr>\n",
       "    <tr>\n",
       "      <th>4</th>\n",
       "      <td>Shkodran Mustafi Arsenal</td>\n",
       "      <td>0      /Players/80921/Show/Shkodran-Mustafi\\n1...</td>\n",
       "      <td>40.397351</td>\n",
       "      <td>4.635762</td>\n",
       "      <td>54.966887</td>\n",
       "    </tr>\n",
       "  </tbody>\n",
       "</table>\n",
       "</div>"
      ],
      "text/plain": [
       "                             Keyword  \\\n",
       "0   Trent Alexander-Arnold Liverpool   \n",
       "1  Pierre-Emerick Aubameyang Arsenal   \n",
       "2         Neymar Paris Saint-Germain   \n",
       "3         Jordan Henderson Liverpool   \n",
       "4           Shkodran Mustafi Arsenal   \n",
       "\n",
       "                                                Link   Positive   Negative  \\\n",
       "0  0      /Players/318871/Show/Trent-Alexander-Ar...  60.000000   4.500000   \n",
       "1  0      /Players/44120/Show/Pierre-Emerick-Auba...  33.000000   3.000000   \n",
       "2  0      /Players/50835/Show/Neymar\\n1      /Pla...  24.000000  10.500000   \n",
       "3  0      /Players/68659/Show/Jordan-Henderson\\n1...  54.500000   8.000000   \n",
       "4  0      /Players/80921/Show/Shkodran-Mustafi\\n1...  40.397351   4.635762   \n",
       "\n",
       "     Neutral  \n",
       "0  35.500000  \n",
       "1  64.000000  \n",
       "2  65.500000  \n",
       "3  37.500000  \n",
       "4  54.966887  "
      ]
     },
     "execution_count": 4,
     "metadata": {},
     "output_type": "execute_result"
    }
   ],
   "source": [
    "tw_sentiment_df.head()"
   ]
  },
  {
   "cell_type": "code",
   "execution_count": 5,
   "metadata": {
    "hidden": true
   },
   "outputs": [
    {
     "name": "stdout",
     "output_type": "stream",
     "text": [
      "<class 'pandas.core.frame.DataFrame'>\n",
      "RangeIndex: 408 entries, 0 to 407\n",
      "Data columns (total 5 columns):\n",
      "Keyword     408 non-null object\n",
      "Link        408 non-null object\n",
      "Positive    408 non-null float64\n",
      "Negative    408 non-null float64\n",
      "Neutral     408 non-null float64\n",
      "dtypes: float64(3), object(2)\n",
      "memory usage: 16.0+ KB\n"
     ]
    }
   ],
   "source": [
    "tw_sentiment_df.info()"
   ]
  },
  {
   "cell_type": "code",
   "execution_count": 6,
   "metadata": {
    "hidden": true
   },
   "outputs": [],
   "source": [
    "# Filtering data with suspicious values (100% on one sentiment or 50-50)\n",
    "\n",
    "tw_ok = tw_sentiment_df.copy()\n",
    "tw_ok = tw_ok[(tw_ok.Positive % 50 != 0) & (tw_ok.Negative % 50 != 0)]"
   ]
  },
  {
   "cell_type": "code",
   "execution_count": 7,
   "metadata": {
    "hidden": true
   },
   "outputs": [],
   "source": [
    "tw_ok['tw_index'] = tw_ok.Positive*2 - tw_ok.Negative*2 + tw_ok.Neutral"
   ]
  },
  {
   "cell_type": "code",
   "execution_count": 8,
   "metadata": {
    "hidden": true
   },
   "outputs": [
    {
     "data": {
      "text/html": [
       "<div>\n",
       "<style scoped>\n",
       "    .dataframe tbody tr th:only-of-type {\n",
       "        vertical-align: middle;\n",
       "    }\n",
       "\n",
       "    .dataframe tbody tr th {\n",
       "        vertical-align: top;\n",
       "    }\n",
       "\n",
       "    .dataframe thead th {\n",
       "        text-align: right;\n",
       "    }\n",
       "</style>\n",
       "<table border=\"1\" class=\"dataframe\">\n",
       "  <thead>\n",
       "    <tr style=\"text-align: right;\">\n",
       "      <th></th>\n",
       "      <th>Keyword</th>\n",
       "      <th>Link</th>\n",
       "      <th>Positive</th>\n",
       "      <th>Negative</th>\n",
       "      <th>Neutral</th>\n",
       "      <th>tw_index</th>\n",
       "    </tr>\n",
       "  </thead>\n",
       "  <tbody>\n",
       "    <tr>\n",
       "      <th>233</th>\n",
       "      <td>Sam Johnson Real Salt Lake</td>\n",
       "      <td>0     /Players/320597/Show/Sam-Johnson\\n1     ...</td>\n",
       "      <td>89.189189</td>\n",
       "      <td>2.702703</td>\n",
       "      <td>8.108108</td>\n",
       "      <td>181.081081</td>\n",
       "    </tr>\n",
       "    <tr>\n",
       "      <th>320</th>\n",
       "      <td>Semi Ajayi Rotherham</td>\n",
       "      <td>0     /Players/247815/Show/Semi-Ajayi\\n1     /...</td>\n",
       "      <td>87.096774</td>\n",
       "      <td>3.225806</td>\n",
       "      <td>9.677419</td>\n",
       "      <td>177.419355</td>\n",
       "    </tr>\n",
       "    <tr>\n",
       "      <th>41</th>\n",
       "      <td>Marco Asensio Real Madrid</td>\n",
       "      <td>0      /Players/137467/Show/Marco-Asensio\\n1  ...</td>\n",
       "      <td>83.168317</td>\n",
       "      <td>1.980198</td>\n",
       "      <td>14.851485</td>\n",
       "      <td>177.227723</td>\n",
       "    </tr>\n",
       "    <tr>\n",
       "      <th>190</th>\n",
       "      <td>Dani Ceballos Real Madrid</td>\n",
       "      <td>0     /Players/144890/Show/Dani-Ceballos\\n1   ...</td>\n",
       "      <td>80.952381</td>\n",
       "      <td>1.587302</td>\n",
       "      <td>17.460317</td>\n",
       "      <td>176.190476</td>\n",
       "    </tr>\n",
       "    <tr>\n",
       "      <th>387</th>\n",
       "      <td>Toni Kroos Real Madrid</td>\n",
       "      <td>0     /Players/31772/Show/Toni-Kroos\\n1     /P...</td>\n",
       "      <td>80.555556</td>\n",
       "      <td>8.333333</td>\n",
       "      <td>11.111111</td>\n",
       "      <td>155.555556</td>\n",
       "    </tr>\n",
       "  </tbody>\n",
       "</table>\n",
       "</div>"
      ],
      "text/plain": [
       "                        Keyword  \\\n",
       "233  Sam Johnson Real Salt Lake   \n",
       "320        Semi Ajayi Rotherham   \n",
       "41    Marco Asensio Real Madrid   \n",
       "190   Dani Ceballos Real Madrid   \n",
       "387      Toni Kroos Real Madrid   \n",
       "\n",
       "                                                  Link   Positive  Negative  \\\n",
       "233  0     /Players/320597/Show/Sam-Johnson\\n1     ...  89.189189  2.702703   \n",
       "320  0     /Players/247815/Show/Semi-Ajayi\\n1     /...  87.096774  3.225806   \n",
       "41   0      /Players/137467/Show/Marco-Asensio\\n1  ...  83.168317  1.980198   \n",
       "190  0     /Players/144890/Show/Dani-Ceballos\\n1   ...  80.952381  1.587302   \n",
       "387  0     /Players/31772/Show/Toni-Kroos\\n1     /P...  80.555556  8.333333   \n",
       "\n",
       "       Neutral    tw_index  \n",
       "233   8.108108  181.081081  \n",
       "320   9.677419  177.419355  \n",
       "41   14.851485  177.227723  \n",
       "190  17.460317  176.190476  \n",
       "387  11.111111  155.555556  "
      ]
     },
     "execution_count": 8,
     "metadata": {},
     "output_type": "execute_result"
    }
   ],
   "source": [
    "tw_ok.sort_values(by='tw_index',ascending=False).head()"
   ]
  },
  {
   "cell_type": "code",
   "execution_count": 9,
   "metadata": {
    "hidden": true
   },
   "outputs": [
    {
     "data": {
      "text/plain": [
       "(131, 6)"
      ]
     },
     "execution_count": 9,
     "metadata": {},
     "output_type": "execute_result"
    }
   ],
   "source": [
    "tw_ok.shape"
   ]
  },
  {
   "cell_type": "code",
   "execution_count": 1632,
   "metadata": {
    "hidden": true
   },
   "outputs": [],
   "source": [
    "tw_ok.to_csv(r'Final_datasets/Cleaned_data/final_twitter_cleaned.csv',index=False)"
   ]
  },
  {
   "cell_type": "markdown",
   "metadata": {
    "heading_collapsed": true
   },
   "source": [
    "## Other data"
   ]
  },
  {
   "cell_type": "markdown",
   "metadata": {
    "heading_collapsed": true,
    "hidden": true
   },
   "source": [
    "### Several and target"
   ]
  },
  {
   "cell_type": "code",
   "execution_count": 4,
   "metadata": {
    "hidden": true,
    "scrolled": true
   },
   "outputs": [
    {
     "data": {
      "text/html": [
       "<div>\n",
       "<style scoped>\n",
       "    .dataframe tbody tr th:only-of-type {\n",
       "        vertical-align: middle;\n",
       "    }\n",
       "\n",
       "    .dataframe tbody tr th {\n",
       "        vertical-align: top;\n",
       "    }\n",
       "\n",
       "    .dataframe thead th {\n",
       "        text-align: right;\n",
       "    }\n",
       "</style>\n",
       "<table border=\"1\" class=\"dataframe\">\n",
       "  <thead>\n",
       "    <tr style=\"text-align: right;\">\n",
       "      <th></th>\n",
       "      <th>current_value</th>\n",
       "      <th>highest_value</th>\n",
       "      <th>outfitter</th>\n",
       "      <th>last_team</th>\n",
       "      <th>prev_team</th>\n",
       "      <th>prev_prev_team</th>\n",
       "      <th>link</th>\n",
       "    </tr>\n",
       "  </thead>\n",
       "  <tbody>\n",
       "    <tr>\n",
       "      <th>0</th>\n",
       "      <td>£450k</td>\n",
       "      <td>£450k</td>\n",
       "      <td>None</td>\n",
       "      <td>Vitesse</td>\n",
       "      <td>Hull City</td>\n",
       "      <td>Hull U23</td>\n",
       "      <td>/max-clark/profil/spieler/183291</td>\n",
       "    </tr>\n",
       "    <tr>\n",
       "      <th>1</th>\n",
       "      <td>£2.70m</td>\n",
       "      <td>£2.70m</td>\n",
       "      <td>None</td>\n",
       "      <td>Levante</td>\n",
       "      <td>Spezia Calcio</td>\n",
       "      <td>CD Leganés</td>\n",
       "      <td>/sergio-postigo/profil/spieler/158791</td>\n",
       "    </tr>\n",
       "    <tr>\n",
       "      <th>2</th>\n",
       "      <td>£540k</td>\n",
       "      <td>£630k</td>\n",
       "      <td>None</td>\n",
       "      <td>MSV Duisburg</td>\n",
       "      <td>VfL Osnabrück</td>\n",
       "      <td>Westf. Rhynern</td>\n",
       "      <td>/stanislav-iljutcenko/profil/spieler/191292</td>\n",
       "    </tr>\n",
       "    <tr>\n",
       "      <th>3</th>\n",
       "      <td>£6.75m</td>\n",
       "      <td>£6.75m</td>\n",
       "      <td>None</td>\n",
       "      <td>Boca Juniors</td>\n",
       "      <td>CD Cruz Azul</td>\n",
       "      <td>Lanús</td>\n",
       "      <td>/ivan-marcone/profil/spieler/90451</td>\n",
       "    </tr>\n",
       "    <tr>\n",
       "      <th>4</th>\n",
       "      <td>£6.30m</td>\n",
       "      <td>£6.30m</td>\n",
       "      <td>None</td>\n",
       "      <td>Montpellier</td>\n",
       "      <td>FC Metz</td>\n",
       "      <td>US Créteil</td>\n",
       "      <td>/florent-mollet/profil/spieler/222859</td>\n",
       "    </tr>\n",
       "  </tbody>\n",
       "</table>\n",
       "</div>"
      ],
      "text/plain": [
       "  current_value highest_value outfitter     last_team      prev_team  \\\n",
       "0         £450k         £450k      None       Vitesse      Hull City   \n",
       "1        £2.70m        £2.70m      None       Levante  Spezia Calcio   \n",
       "2         £540k         £630k      None  MSV Duisburg  VfL Osnabrück   \n",
       "3        £6.75m        £6.75m      None  Boca Juniors   CD Cruz Azul   \n",
       "4        £6.30m        £6.30m      None   Montpellier        FC Metz   \n",
       "\n",
       "   prev_prev_team                                         link  \n",
       "0        Hull U23             /max-clark/profil/spieler/183291  \n",
       "1      CD Leganés        /sergio-postigo/profil/spieler/158791  \n",
       "2  Westf. Rhynern  /stanislav-iljutcenko/profil/spieler/191292  \n",
       "3           Lanús           /ivan-marcone/profil/spieler/90451  \n",
       "4      US Créteil        /florent-mollet/profil/spieler/222859  "
      ]
     },
     "execution_count": 4,
     "metadata": {},
     "output_type": "execute_result"
    }
   ],
   "source": [
    "several_and_target_df.head()"
   ]
  },
  {
   "cell_type": "markdown",
   "metadata": {
    "hidden": true
   },
   "source": [
    "#### Dropping outfitter since the scraping task did not obtain anything"
   ]
  },
  {
   "cell_type": "code",
   "execution_count": 5,
   "metadata": {
    "hidden": true
   },
   "outputs": [],
   "source": [
    "several_and_target_df.drop(labels='outfitter', axis=1, inplace=True)"
   ]
  },
  {
   "cell_type": "markdown",
   "metadata": {
    "hidden": true
   },
   "source": [
    "#### Correcting value columns"
   ]
  },
  {
   "cell_type": "code",
   "execution_count": 6,
   "metadata": {
    "hidden": true
   },
   "outputs": [],
   "source": [
    "to_be_replaced = [\"£\",'k','m','.','-']\n",
    "to_be_instead = [\"\", \"000\", \"0000\", \"\", \"0\"]\n",
    "\n",
    "for replace, instead in zip(to_be_replaced, to_be_instead):\n",
    "    several_and_target_df['current_value'] = [x.replace(replace,instead) for x in several_and_target_df.current_value]\n",
    "    several_and_target_df['highest_value'] = [x.replace(replace,instead) for x in several_and_target_df.highest_value]"
   ]
  },
  {
   "cell_type": "code",
   "execution_count": 7,
   "metadata": {
    "hidden": true
   },
   "outputs": [],
   "source": [
    "several_and_target_df['current_value'] = several_and_target_df.current_value.astype(int)\n",
    "several_and_target_df['highest_value'] = several_and_target_df.highest_value.astype(int)"
   ]
  },
  {
   "cell_type": "code",
   "execution_count": 8,
   "metadata": {
    "hidden": true
   },
   "outputs": [
    {
     "data": {
      "text/html": [
       "<div>\n",
       "<style scoped>\n",
       "    .dataframe tbody tr th:only-of-type {\n",
       "        vertical-align: middle;\n",
       "    }\n",
       "\n",
       "    .dataframe tbody tr th {\n",
       "        vertical-align: top;\n",
       "    }\n",
       "\n",
       "    .dataframe thead th {\n",
       "        text-align: right;\n",
       "    }\n",
       "</style>\n",
       "<table border=\"1\" class=\"dataframe\">\n",
       "  <thead>\n",
       "    <tr style=\"text-align: right;\">\n",
       "      <th></th>\n",
       "      <th>current_value</th>\n",
       "      <th>highest_value</th>\n",
       "      <th>last_team</th>\n",
       "      <th>prev_team</th>\n",
       "      <th>prev_prev_team</th>\n",
       "      <th>link</th>\n",
       "    </tr>\n",
       "  </thead>\n",
       "  <tbody>\n",
       "    <tr>\n",
       "      <th>229</th>\n",
       "      <td>180000000</td>\n",
       "      <td>180000000</td>\n",
       "      <td>Paris SG</td>\n",
       "      <td>Monaco</td>\n",
       "      <td>Paris SG</td>\n",
       "      <td>/kylian-mbappe/profil/spieler/342229</td>\n",
       "    </tr>\n",
       "    <tr>\n",
       "      <th>52</th>\n",
       "      <td>162000000</td>\n",
       "      <td>162000000</td>\n",
       "      <td>Paris SG</td>\n",
       "      <td>FC Barcelona</td>\n",
       "      <td>Santos FC</td>\n",
       "      <td>/neymar/profil/spieler/68290</td>\n",
       "    </tr>\n",
       "    <tr>\n",
       "      <th>128</th>\n",
       "      <td>144000000</td>\n",
       "      <td>162000000</td>\n",
       "      <td>FC Barcelona</td>\n",
       "      <td>FC Barcelona B</td>\n",
       "      <td>Barcelona C</td>\n",
       "      <td>/lionel-messi/profil/spieler/28003</td>\n",
       "    </tr>\n",
       "    <tr>\n",
       "      <th>1143</th>\n",
       "      <td>108000000</td>\n",
       "      <td>108000000</td>\n",
       "      <td>Man City</td>\n",
       "      <td>Liverpool</td>\n",
       "      <td>Liverpool U18</td>\n",
       "      <td>/raheem-sterling/profil/spieler/134425</td>\n",
       "    </tr>\n",
       "    <tr>\n",
       "      <th>390</th>\n",
       "      <td>76500000</td>\n",
       "      <td>76500000</td>\n",
       "      <td>Liverpool</td>\n",
       "      <td>Southampton</td>\n",
       "      <td>RB Salzburg</td>\n",
       "      <td>/sadio-mane/profil/spieler/200512</td>\n",
       "    </tr>\n",
       "    <tr>\n",
       "      <th>1119</th>\n",
       "      <td>72000000</td>\n",
       "      <td>72000000</td>\n",
       "      <td>Real Madrid</td>\n",
       "      <td>Bayern Munich</td>\n",
       "      <td>Bay. Leverkusen</td>\n",
       "      <td>/toni-kroos/profil/spieler/31909</td>\n",
       "    </tr>\n",
       "    <tr>\n",
       "      <th>156</th>\n",
       "      <td>72000000</td>\n",
       "      <td>81000000</td>\n",
       "      <td>Real Madrid</td>\n",
       "      <td>Espanyol</td>\n",
       "      <td>Real Madrid</td>\n",
       "      <td>/marco-asensio/profil/spieler/296622</td>\n",
       "    </tr>\n",
       "    <tr>\n",
       "      <th>320</th>\n",
       "      <td>72000000</td>\n",
       "      <td>72000000</td>\n",
       "      <td>FC Barcelona</td>\n",
       "      <td>Bor. M'gladbach</td>\n",
       "      <td>M'gladbach U19</td>\n",
       "      <td>/marc-andre-ter-stegen/profil/spieler/74857</td>\n",
       "    </tr>\n",
       "    <tr>\n",
       "      <th>53</th>\n",
       "      <td>67500000</td>\n",
       "      <td>67500000</td>\n",
       "      <td>Arsenal</td>\n",
       "      <td>Bor. Dortmund</td>\n",
       "      <td>Saint-Étienne</td>\n",
       "      <td>/pierre-emerick-aubameyang/profil/spieler/58864</td>\n",
       "    </tr>\n",
       "    <tr>\n",
       "      <th>372</th>\n",
       "      <td>58500000</td>\n",
       "      <td>58500000</td>\n",
       "      <td>RB Leipzig</td>\n",
       "      <td>VfB Stuttgart</td>\n",
       "      <td>Stuttgart U19</td>\n",
       "      <td>/timo-werner/profil/spieler/170527</td>\n",
       "    </tr>\n",
       "  </tbody>\n",
       "</table>\n",
       "</div>"
      ],
      "text/plain": [
       "      current_value  highest_value     last_team        prev_team  \\\n",
       "229       180000000      180000000      Paris SG           Monaco   \n",
       "52        162000000      162000000      Paris SG     FC Barcelona   \n",
       "128       144000000      162000000  FC Barcelona   FC Barcelona B   \n",
       "1143      108000000      108000000      Man City        Liverpool   \n",
       "390        76500000       76500000     Liverpool      Southampton   \n",
       "1119       72000000       72000000   Real Madrid    Bayern Munich   \n",
       "156        72000000       81000000   Real Madrid         Espanyol   \n",
       "320        72000000       72000000  FC Barcelona  Bor. M'gladbach   \n",
       "53         67500000       67500000       Arsenal    Bor. Dortmund   \n",
       "372        58500000       58500000    RB Leipzig    VfB Stuttgart   \n",
       "\n",
       "       prev_prev_team                                             link  \n",
       "229          Paris SG             /kylian-mbappe/profil/spieler/342229  \n",
       "52          Santos FC                     /neymar/profil/spieler/68290  \n",
       "128       Barcelona C               /lionel-messi/profil/spieler/28003  \n",
       "1143    Liverpool U18           /raheem-sterling/profil/spieler/134425  \n",
       "390       RB Salzburg                /sadio-mane/profil/spieler/200512  \n",
       "1119  Bay. Leverkusen                 /toni-kroos/profil/spieler/31909  \n",
       "156       Real Madrid             /marco-asensio/profil/spieler/296622  \n",
       "320    M'gladbach U19      /marc-andre-ter-stegen/profil/spieler/74857  \n",
       "53      Saint-Étienne  /pierre-emerick-aubameyang/profil/spieler/58864  \n",
       "372     Stuttgart U19               /timo-werner/profil/spieler/170527  "
      ]
     },
     "execution_count": 8,
     "metadata": {},
     "output_type": "execute_result"
    }
   ],
   "source": [
    "several_and_target_df.sort_values(by='current_value', ascending=False).head(10)"
   ]
  },
  {
   "cell_type": "code",
   "execution_count": 9,
   "metadata": {
    "hidden": true,
    "scrolled": false
   },
   "outputs": [
    {
     "name": "stderr",
     "output_type": "stream",
     "text": [
      "/Users/gonzaloferreiro/anaconda3/lib/python3.6/site-packages/ipykernel_launcher.py:1: SettingWithCopyWarning: \n",
      "A value is trying to be set on a copy of a slice from a DataFrame\n",
      "\n",
      "See the caveats in the documentation: http://pandas.pydata.org/pandas-docs/stable/indexing.html#indexing-view-versus-copy\n",
      "  \"\"\"Entry point for launching an IPython kernel.\n"
     ]
    }
   ],
   "source": [
    "several_and_target_df.current_value[several_and_target_df['current_value'] == 0] = np.percentile(several_and_target_df.current_value, 25)"
   ]
  },
  {
   "cell_type": "code",
   "execution_count": 10,
   "metadata": {
    "hidden": true
   },
   "outputs": [
    {
     "name": "stderr",
     "output_type": "stream",
     "text": [
      "/Users/gonzaloferreiro/anaconda3/lib/python3.6/site-packages/ipykernel_launcher.py:1: SettingWithCopyWarning: \n",
      "A value is trying to be set on a copy of a slice from a DataFrame\n",
      "\n",
      "See the caveats in the documentation: http://pandas.pydata.org/pandas-docs/stable/indexing.html#indexing-view-versus-copy\n",
      "  \"\"\"Entry point for launching an IPython kernel.\n"
     ]
    }
   ],
   "source": [
    "several_and_target_df.highest_value[several_and_target_df['highest_value'] == 0] = np.percentile(several_and_target_df.highest_value, 25)"
   ]
  },
  {
   "cell_type": "code",
   "execution_count": 11,
   "metadata": {
    "hidden": true
   },
   "outputs": [],
   "source": [
    "several_and_target_df.current_value = several_and_target_df.current_value.astype(int)\n",
    "several_and_target_df.highest_value = several_and_target_df.highest_value.astype(int)"
   ]
  },
  {
   "cell_type": "markdown",
   "metadata": {
    "hidden": true
   },
   "source": [
    "#### Final checks on value and target variable"
   ]
  },
  {
   "cell_type": "markdown",
   "metadata": {
    "hidden": true
   },
   "source": [
    "Since the target variable has an extreme skewed distribution to the right, due to the presence of outliers, in the following lines I will be applying some log transformation on the target variable to reduce the noise."
   ]
  },
  {
   "cell_type": "code",
   "execution_count": 14,
   "metadata": {
    "hidden": true
   },
   "outputs": [
    {
     "name": "stderr",
     "output_type": "stream",
     "text": [
      "/Users/gonzaloferreiro/anaconda3/lib/python3.6/site-packages/scipy/stats/stats.py:1713: FutureWarning: Using a non-tuple sequence for multidimensional indexing is deprecated; use `arr[tuple(seq)]` instead of `arr[seq]`. In the future this will be interpreted as an array index, `arr[np.array(seq)]`, which will result either in an error or a different result.\n",
      "  return np.add.reduce(sorted[indexer] * weights, axis=axis) / sumval\n"
     ]
    },
    {
     "data": {
      "image/png": "[encoded data removed]",
      "text/plain": [
       "<Figure size 1080x432 with 6 Axes>"
      ]
     },
     "metadata": {
      "needs_background": "light"
     },
     "output_type": "display_data"
    }
   ],
   "source": [
    "fig, ax = plt.subplots(nrows=2, ncols=3, figsize=(15,6));\n",
    "\n",
    "sns.distplot(several_and_target_df.current_value, ax=ax[0,0]);\n",
    "ax[0,0].set(yscale=\"log\")\n",
    "sns.distplot(several_and_target_df.highest_value, ax=ax[0,1]);\n",
    "ax[0,1].set(yscale=\"log\")\n",
    "sns.distplot(several_and_target_df.value_loss, ax=ax[0,2]);\n",
    "ax[0,2].set(yscale=\"log\")\n",
    "\n",
    "sns.distplot(several_and_target_df.current_value, ax=ax[1,0]);\n",
    "sns.distplot(several_and_target_df.highest_value, ax=ax[1,1]);\n",
    "sns.distplot(several_and_target_df.value_loss, ax=ax[1,2]);"
   ]
  },
  {
   "cell_type": "code",
   "execution_count": 118,
   "metadata": {
    "hidden": true
   },
   "outputs": [],
   "source": [
    "# Testing some transformations on the target variable since it's extremly skewed\n",
    "\n",
    "from scipy.stats import boxcox\n",
    "log_target = boxcox(several_and_target_df.current_value, 0)\n",
    "double_trans = boxcox(log_target, 0)"
   ]
  },
  {
   "cell_type": "code",
   "execution_count": 119,
   "metadata": {
    "hidden": true
   },
   "outputs": [],
   "source": [
    "several_and_target_df['current_log'] = log_target\n",
    "several_and_target_df['double_trans'] = double_trans"
   ]
  },
  {
   "cell_type": "code",
   "execution_count": 120,
   "metadata": {
    "hidden": true
   },
   "outputs": [
    {
     "data": {
      "text/plain": [
       "<matplotlib.axes._subplots.AxesSubplot at 0x1a218f1ac8>"
      ]
     },
     "execution_count": 120,
     "metadata": {},
     "output_type": "execute_result"
    },
    {
     "data": {
      "image/png": "[encoded data removed]",
      "text/plain": [
       "<Figure size 1296x288 with 2 Axes>"
      ]
     },
     "metadata": {
      "needs_background": "light"
     },
     "output_type": "display_data"
    }
   ],
   "source": [
    "fig, ax = plt.subplots(nrows=1, ncols=2, figsize=(18,4))\n",
    "sns.boxplot(log_target, ax=ax[0])\n",
    "sns.boxplot(double_trans, ax=ax[1])\n",
    "#ax.set_xscale('symlog')"
   ]
  },
  {
   "cell_type": "code",
   "execution_count": 121,
   "metadata": {
    "hidden": true
   },
   "outputs": [],
   "source": [
    "several_and_target_df.to_csv(r'Final_datasets/Cleaned_data/Market_value.csv',index=False)"
   ]
  },
  {
   "cell_type": "markdown",
   "metadata": {
    "heading_collapsed": true,
    "hidden": true
   },
   "source": [
    "### Basic info (without age)"
   ]
  },
  {
   "cell_type": "code",
   "execution_count": 708,
   "metadata": {
    "hidden": true
   },
   "outputs": [
    {
     "data": {
      "text/html": [
       "<div>\n",
       "<style scoped>\n",
       "    .dataframe tbody tr th:only-of-type {\n",
       "        vertical-align: middle;\n",
       "    }\n",
       "\n",
       "    .dataframe tbody tr th {\n",
       "        vertical-align: top;\n",
       "    }\n",
       "\n",
       "    .dataframe thead th {\n",
       "        text-align: right;\n",
       "    }\n",
       "</style>\n",
       "<table border=\"1\" class=\"dataframe\">\n",
       "  <thead>\n",
       "    <tr style=\"text-align: right;\">\n",
       "      <th></th>\n",
       "      <th>name</th>\n",
       "      <th>position</th>\n",
       "      <th>height</th>\n",
       "      <th>weight</th>\n",
       "      <th>team</th>\n",
       "    </tr>\n",
       "  </thead>\n",
       "  <tbody>\n",
       "    <tr>\n",
       "      <th>0</th>\n",
       "      <td>Max Clark</td>\n",
       "      <td>Defender (Left)</td>\n",
       "      <td>180.0</td>\n",
       "      <td>73.0</td>\n",
       "      <td>Vitesse</td>\n",
       "    </tr>\n",
       "    <tr>\n",
       "      <th>1</th>\n",
       "      <td>Sergio Postigo</td>\n",
       "      <td>Defender (Centre)</td>\n",
       "      <td>184.0</td>\n",
       "      <td>78.0</td>\n",
       "      <td>Levante</td>\n",
       "    </tr>\n",
       "    <tr>\n",
       "      <th>2</th>\n",
       "      <td>Stanislav Iljutcenko</td>\n",
       "      <td>Forward</td>\n",
       "      <td>189.0</td>\n",
       "      <td>82.0</td>\n",
       "      <td>Duisburg</td>\n",
       "    </tr>\n",
       "    <tr>\n",
       "      <th>3</th>\n",
       "      <td>Iván Marcone</td>\n",
       "      <td>Defensive Midfielder (C)</td>\n",
       "      <td>184.0</td>\n",
       "      <td>79.0</td>\n",
       "      <td>Boca Juniors</td>\n",
       "    </tr>\n",
       "    <tr>\n",
       "      <th>4</th>\n",
       "      <td>Florent Mollet</td>\n",
       "      <td>Attacking Midfielder (Centre, Left)</td>\n",
       "      <td>174.0</td>\n",
       "      <td>67.0</td>\n",
       "      <td>Montpellier</td>\n",
       "    </tr>\n",
       "  </tbody>\n",
       "</table>\n",
       "</div>"
      ],
      "text/plain": [
       "                   name                             position  height  weight  \\\n",
       "0             Max Clark                      Defender (Left)   180.0    73.0   \n",
       "1        Sergio Postigo                    Defender (Centre)   184.0    78.0   \n",
       "2  Stanislav Iljutcenko                              Forward   189.0    82.0   \n",
       "3          Iván Marcone             Defensive Midfielder (C)   184.0    79.0   \n",
       "4        Florent Mollet  Attacking Midfielder (Centre, Left)   174.0    67.0   \n",
       "\n",
       "           team  \n",
       "0       Vitesse  \n",
       "1       Levante  \n",
       "2      Duisburg  \n",
       "3  Boca Juniors  \n",
       "4   Montpellier  "
      ]
     },
     "execution_count": 708,
     "metadata": {},
     "output_type": "execute_result"
    }
   ],
   "source": [
    "basic_info_df.head()"
   ]
  },
  {
   "cell_type": "code",
   "execution_count": 709,
   "metadata": {
    "hidden": true
   },
   "outputs": [
    {
     "name": "stdout",
     "output_type": "stream",
     "text": [
      "<class 'pandas.core.frame.DataFrame'>\n",
      "RangeIndex: 1200 entries, 0 to 1199\n",
      "Data columns (total 5 columns):\n",
      "name        1198 non-null object\n",
      "position    1198 non-null object\n",
      "height      1169 non-null float64\n",
      "weight      1156 non-null float64\n",
      "team        1200 non-null object\n",
      "dtypes: float64(2), object(3)\n",
      "memory usage: 47.0+ KB\n"
     ]
    }
   ],
   "source": [
    "basic_info_df.info()"
   ]
  },
  {
   "cell_type": "code",
   "execution_count": 716,
   "metadata": {
    "hidden": true
   },
   "outputs": [],
   "source": [
    "# Replacing null values\n",
    "\n",
    "basic_info_df.height.replace(to_replace=np.nan, value=0, inplace=True)\n",
    "basic_info_df.weight.replace(to_replace=np.nan, value=0, inplace=True)"
   ]
  },
  {
   "cell_type": "code",
   "execution_count": 717,
   "metadata": {
    "hidden": true
   },
   "outputs": [],
   "source": [
    "# Converting types\n",
    "\n",
    "basic_info_df.height = basic_info_df.height.astype(int)\n",
    "basic_info_df.weight = basic_info_df.weight.astype(int)"
   ]
  },
  {
   "cell_type": "code",
   "execution_count": 722,
   "metadata": {
    "hidden": true
   },
   "outputs": [
    {
     "name": "stderr",
     "output_type": "stream",
     "text": [
      "/Users/gonzaloferreiro/anaconda3/lib/python3.6/site-packages/ipykernel_launcher.py:1: SettingWithCopyWarning: \n",
      "A value is trying to be set on a copy of a slice from a DataFrame\n",
      "\n",
      "See the caveats in the documentation: http://pandas.pydata.org/pandas-docs/stable/indexing.html#indexing-view-versus-copy\n",
      "  \"\"\"Entry point for launching an IPython kernel.\n",
      "/Users/gonzaloferreiro/anaconda3/lib/python3.6/site-packages/ipykernel_launcher.py:2: SettingWithCopyWarning: \n",
      "A value is trying to be set on a copy of a slice from a DataFrame\n",
      "\n",
      "See the caveats in the documentation: http://pandas.pydata.org/pandas-docs/stable/indexing.html#indexing-view-versus-copy\n",
      "  \n"
     ]
    }
   ],
   "source": [
    "# Changing zeros per averages\n",
    "\n",
    "basic_info_df.height[basic_info_df.height == 0] = basic_info_df.height.mean()\n",
    "basic_info_df.weight[basic_info_df.weight == 0] = basic_info_df.weight.mean()"
   ]
  },
  {
   "cell_type": "code",
   "execution_count": 725,
   "metadata": {
    "hidden": true
   },
   "outputs": [
    {
     "data": {
      "text/plain": [
       "Defender (Centre)                             147\n",
       "Forward                                       120\n",
       "Goalkeeper                                     94\n",
       "Defensive Midfielder (C)                       90\n",
       "Defender (Left)                                87\n",
       "Midfielder (Centre)                            86\n",
       "Defender (Right)                               73\n",
       "Midfielder                                     60\n",
       "Attacking Midfielder (Centre, Left, Right)     53\n",
       "Attacking Midfielder (Left, Right)             52\n",
       "Defender                                       36\n",
       "Defender (Centre, Right)                       35\n",
       "Attacking Midfielder (Left)                    32\n",
       "Midfielder (Centre, Left, Right)               32\n",
       "Defender (Centre, Left)                        31\n",
       "Attacking Midfielder (Centre)                  28\n",
       "Attacking Midfielder (Centre, Left)            24\n",
       "Attacking Midfielder (Right)                   24\n",
       "Defender (Left, Right)                         22\n",
       "Defender (Centre, Left, Right)                 17\n",
       "Attacking Midfielder (Centre, Right)           13\n",
       "Midfielder (Left, Right)                       12\n",
       "Midfielder (Centre, Left)                      11\n",
       "Midfielder (Centre, Right)                      9\n",
       "Midfielder (Left)                               5\n",
       "Midfielder (Right)                              5\n",
       "Name: position, dtype: int64"
      ]
     },
     "execution_count": 725,
     "metadata": {},
     "output_type": "execute_result"
    }
   ],
   "source": [
    "# Checking position column\n",
    "\n",
    "basic_info_df.position.value_counts()"
   ]
  },
  {
   "cell_type": "code",
   "execution_count": 727,
   "metadata": {
    "hidden": true
   },
   "outputs": [],
   "source": [
    "# As we can see in the list above, there are a lot of positions defined.\n",
    "# So we're gonna clean that list in order to reduce the list by grouping simmilar positions.\n",
    "# We're also gonna keep each player preffered position (the first one if having more than one)\n",
    "# And we'll create a new feature with the number of position each player specified\n",
    "\n",
    "positions_list = ['Goalkeeper', 'Defender', 'Defensive Midfielder', 'Midfielder', 'Atacking Midfielder', 'Forward']\n",
    "pref_side_lst = ['Centre', 'Left', 'Right']"
   ]
  },
  {
   "cell_type": "code",
   "execution_count": 797,
   "metadata": {
    "hidden": true
   },
   "outputs": [],
   "source": [
    "# Obtaining new features out of the data\n",
    "\n",
    "pos_def = []\n",
    "pref_side = []\n",
    "sides = []\n",
    "for each_p_pos in basic_info_df.position:\n",
    "    pref_side_flag = False\n",
    "    pos_def_flag = False\n",
    "    sides_count = 0\n",
    "    \n",
    "    # Creating definitive position feature\n",
    "    for each_d_pos in positions_list:\n",
    "        if str(each_d_pos) in str(each_p_pos) and pos_def_flag == False:\n",
    "            pos_def.append(each_d_pos)\n",
    "            pos_def_flag = True\n",
    "    if not pos_def_flag:\n",
    "        pos_def.append(np.nan)\n",
    "    \n",
    "    # Creating preffered side feature\n",
    "    for each_pref in pref_side_lst:\n",
    "        if str(each_pref) in str(each_p_pos):\n",
    "            sides_count = sides_count + 1\n",
    "            \n",
    "            if pref_side_flag == False:\n",
    "                pref_side.append(each_pref)\n",
    "                pref_side_flag = True\n",
    "    if not pref_side_flag:\n",
    "        pref_side.append('None')\n",
    "    \n",
    "    # Creating number of sides feature\n",
    "    sides.append(sides_count)"
   ]
  },
  {
   "cell_type": "code",
   "execution_count": 802,
   "metadata": {
    "hidden": true
   },
   "outputs": [],
   "source": [
    "basic_info_df['pos_def'] = pos_def\n",
    "basic_info_df['pref_side'] = pref_side\n",
    "basic_info_df['sides'] = [x if x != 0 else 1 for x in sides]"
   ]
  },
  {
   "cell_type": "code",
   "execution_count": 803,
   "metadata": {
    "hidden": true
   },
   "outputs": [
    {
     "data": {
      "text/plain": [
       "Defender                448\n",
       "Midfielder              446\n",
       "Forward                 120\n",
       "Goalkeeper               94\n",
       "Defensive Midfielder     90\n",
       "Name: pos_def, dtype: int64"
      ]
     },
     "execution_count": 803,
     "metadata": {},
     "output_type": "execute_result"
    }
   ],
   "source": [
    "basic_info_df.pos_def.value_counts()"
   ]
  },
  {
   "cell_type": "code",
   "execution_count": 804,
   "metadata": {
    "hidden": true
   },
   "outputs": [
    {
     "data": {
      "text/plain": [
       "Centre    486\n",
       "None      402\n",
       "Left      210\n",
       "Right     102\n",
       "Name: pref_side, dtype: int64"
      ]
     },
     "execution_count": 804,
     "metadata": {},
     "output_type": "execute_result"
    }
   ],
   "source": [
    "basic_info_df.pref_side.value_counts()"
   ]
  },
  {
   "cell_type": "code",
   "execution_count": 805,
   "metadata": {
    "hidden": true
   },
   "outputs": [
    {
     "data": {
      "text/plain": [
       "1    889\n",
       "2    209\n",
       "3    102\n",
       "Name: sides, dtype: int64"
      ]
     },
     "execution_count": 805,
     "metadata": {},
     "output_type": "execute_result"
    }
   ],
   "source": [
    "basic_info_df.sides.value_counts()"
   ]
  },
  {
   "cell_type": "code",
   "execution_count": 808,
   "metadata": {
    "hidden": true,
    "scrolled": true
   },
   "outputs": [
    {
     "data": {
      "text/html": [
       "<div>\n",
       "<style scoped>\n",
       "    .dataframe tbody tr th:only-of-type {\n",
       "        vertical-align: middle;\n",
       "    }\n",
       "\n",
       "    .dataframe tbody tr th {\n",
       "        vertical-align: top;\n",
       "    }\n",
       "\n",
       "    .dataframe thead th {\n",
       "        text-align: right;\n",
       "    }\n",
       "</style>\n",
       "<table border=\"1\" class=\"dataframe\">\n",
       "  <thead>\n",
       "    <tr style=\"text-align: right;\">\n",
       "      <th></th>\n",
       "      <th>name</th>\n",
       "      <th>position</th>\n",
       "      <th>height</th>\n",
       "      <th>weight</th>\n",
       "      <th>team</th>\n",
       "      <th>pos_def</th>\n",
       "      <th>pref_side</th>\n",
       "      <th>sides</th>\n",
       "    </tr>\n",
       "  </thead>\n",
       "  <tbody>\n",
       "    <tr>\n",
       "      <th>0</th>\n",
       "      <td>Max Clark</td>\n",
       "      <td>Defender (Left)</td>\n",
       "      <td>180.0</td>\n",
       "      <td>73.0</td>\n",
       "      <td>Vitesse</td>\n",
       "      <td>Defender</td>\n",
       "      <td>Left</td>\n",
       "      <td>1</td>\n",
       "    </tr>\n",
       "    <tr>\n",
       "      <th>1</th>\n",
       "      <td>Sergio Postigo</td>\n",
       "      <td>Defender (Centre)</td>\n",
       "      <td>184.0</td>\n",
       "      <td>78.0</td>\n",
       "      <td>Levante</td>\n",
       "      <td>Defender</td>\n",
       "      <td>Centre</td>\n",
       "      <td>1</td>\n",
       "    </tr>\n",
       "    <tr>\n",
       "      <th>2</th>\n",
       "      <td>Stanislav Iljutcenko</td>\n",
       "      <td>Forward</td>\n",
       "      <td>189.0</td>\n",
       "      <td>82.0</td>\n",
       "      <td>Duisburg</td>\n",
       "      <td>Forward</td>\n",
       "      <td>None</td>\n",
       "      <td>1</td>\n",
       "    </tr>\n",
       "    <tr>\n",
       "      <th>3</th>\n",
       "      <td>Iván Marcone</td>\n",
       "      <td>Defensive Midfielder (C)</td>\n",
       "      <td>184.0</td>\n",
       "      <td>79.0</td>\n",
       "      <td>Boca Juniors</td>\n",
       "      <td>Defensive Midfielder</td>\n",
       "      <td>None</td>\n",
       "      <td>1</td>\n",
       "    </tr>\n",
       "    <tr>\n",
       "      <th>4</th>\n",
       "      <td>Florent Mollet</td>\n",
       "      <td>Attacking Midfielder (Centre, Left)</td>\n",
       "      <td>174.0</td>\n",
       "      <td>67.0</td>\n",
       "      <td>Montpellier</td>\n",
       "      <td>Midfielder</td>\n",
       "      <td>Centre</td>\n",
       "      <td>2</td>\n",
       "    </tr>\n",
       "  </tbody>\n",
       "</table>\n",
       "</div>"
      ],
      "text/plain": [
       "                   name                             position  height  weight  \\\n",
       "0             Max Clark                      Defender (Left)   180.0    73.0   \n",
       "1        Sergio Postigo                    Defender (Centre)   184.0    78.0   \n",
       "2  Stanislav Iljutcenko                              Forward   189.0    82.0   \n",
       "3          Iván Marcone             Defensive Midfielder (C)   184.0    79.0   \n",
       "4        Florent Mollet  Attacking Midfielder (Centre, Left)   174.0    67.0   \n",
       "\n",
       "           team               pos_def pref_side  sides  \n",
       "0       Vitesse              Defender      Left      1  \n",
       "1       Levante              Defender    Centre      1  \n",
       "2      Duisburg               Forward      None      1  \n",
       "3  Boca Juniors  Defensive Midfielder      None      1  \n",
       "4   Montpellier            Midfielder    Centre      2  "
      ]
     },
     "execution_count": 808,
     "metadata": {},
     "output_type": "execute_result"
    }
   ],
   "source": [
    "basic_info_df.head()"
   ]
  },
  {
   "cell_type": "code",
   "execution_count": 1625,
   "metadata": {
    "hidden": true
   },
   "outputs": [],
   "source": [
    "basic_info_df.to_csv(r'Final_datasets/Cleaned_data/Basic_info.csv',index=False)"
   ]
  },
  {
   "cell_type": "markdown",
   "metadata": {
    "heading_collapsed": true,
    "hidden": true
   },
   "source": [
    "### Injuries and ages"
   ]
  },
  {
   "cell_type": "code",
   "execution_count": 1382,
   "metadata": {
    "hidden": true,
    "scrolled": true
   },
   "outputs": [
    {
     "data": {
      "text/html": [
       "<div>\n",
       "<style scoped>\n",
       "    .dataframe tbody tr th:only-of-type {\n",
       "        vertical-align: middle;\n",
       "    }\n",
       "\n",
       "    .dataframe tbody tr th {\n",
       "        vertical-align: top;\n",
       "    }\n",
       "\n",
       "    .dataframe thead th {\n",
       "        text-align: right;\n",
       "    }\n",
       "</style>\n",
       "<table border=\"1\" class=\"dataframe\">\n",
       "  <thead>\n",
       "    <tr style=\"text-align: right;\">\n",
       "      <th></th>\n",
       "      <th>player</th>\n",
       "      <th>days_missed</th>\n",
       "      <th>games_missed</th>\n",
       "    </tr>\n",
       "  </thead>\n",
       "  <tbody>\n",
       "    <tr>\n",
       "      <th>0</th>\n",
       "      <td>/max-clark/profil/spieler/183291</td>\n",
       "      <td>0</td>\n",
       "      <td>0</td>\n",
       "    </tr>\n",
       "    <tr>\n",
       "      <th>593</th>\n",
       "      <td>/alejo-montero/profil/spieler/649998</td>\n",
       "      <td>0</td>\n",
       "      <td>0</td>\n",
       "    </tr>\n",
       "    <tr>\n",
       "      <th>592</th>\n",
       "      <td>/rodrigo-salinas/profil/spieler/125750</td>\n",
       "      <td>0</td>\n",
       "      <td>0</td>\n",
       "    </tr>\n",
       "    <tr>\n",
       "      <th>1155</th>\n",
       "      <td>/joaquin-varela/profil/spieler/553421</td>\n",
       "      <td>0</td>\n",
       "      <td>0</td>\n",
       "    </tr>\n",
       "    <tr>\n",
       "      <th>587</th>\n",
       "      <td>/brent-kallman/profil/spieler/226643</td>\n",
       "      <td>0</td>\n",
       "      <td>0</td>\n",
       "    </tr>\n",
       "  </tbody>\n",
       "</table>\n",
       "</div>"
      ],
      "text/plain": [
       "                                      player  days_missed  games_missed\n",
       "0           /max-clark/profil/spieler/183291            0             0\n",
       "593     /alejo-montero/profil/spieler/649998            0             0\n",
       "592   /rodrigo-salinas/profil/spieler/125750            0             0\n",
       "1155   /joaquin-varela/profil/spieler/553421            0             0\n",
       "587     /brent-kallman/profil/spieler/226643            0             0"
      ]
     },
     "execution_count": 1382,
     "metadata": {},
     "output_type": "execute_result"
    }
   ],
   "source": [
    "injuries_df.sort_values(by='games_missed', ascending=True).head()"
   ]
  },
  {
   "cell_type": "code",
   "execution_count": 1383,
   "metadata": {
    "hidden": true
   },
   "outputs": [],
   "source": [
    "injuries_df.days_missed = [int(x) for x in injuries_df.days_missed]\n",
    "injuries_df.games_missed = [int(x) for x in injuries_df.games_missed]"
   ]
  },
  {
   "cell_type": "code",
   "execution_count": 1386,
   "metadata": {
    "hidden": true
   },
   "outputs": [],
   "source": [
    "injuries_df.columns = ['link', 'days_missed', 'games_missed']"
   ]
  },
  {
   "cell_type": "code",
   "execution_count": 1387,
   "metadata": {
    "hidden": true
   },
   "outputs": [],
   "source": [
    "# Merging with age\n",
    "\n",
    "injuries_and_age = injuries_df.merge(ages_df, how='inner', on='link')"
   ]
  },
  {
   "cell_type": "code",
   "execution_count": 1391,
   "metadata": {
    "hidden": true
   },
   "outputs": [],
   "source": [
    "injuries_and_age.drop_duplicates(subset='link',inplace=True)"
   ]
  },
  {
   "cell_type": "code",
   "execution_count": 1398,
   "metadata": {
    "code_folding": [
     0
    ],
    "hidden": true
   },
   "outputs": [],
   "source": [
    "# Doing some binning over the age of each player\n",
    "\n",
    "injuries_and_age['age_group'] = ['Sub_20' if x < 21 else '21-23' if x < 24 else '24-26' \\\n",
    "                                 if x < 27 else '27-30' if x < 31 else '31-34' if x < 35 \\\n",
    "                                 else 'Plus_35' for x in injuries_and_age.age]"
   ]
  },
  {
   "cell_type": "code",
   "execution_count": 1401,
   "metadata": {
    "hidden": true
   },
   "outputs": [
    {
     "data": {
      "text/plain": [
       "27-30      310\n",
       "24-26      297\n",
       "21-23      255\n",
       "31-34      187\n",
       "Sub_20     103\n",
       "Plus_35     47\n",
       "Name: age_group, dtype: int64"
      ]
     },
     "execution_count": 1401,
     "metadata": {},
     "output_type": "execute_result"
    }
   ],
   "source": [
    "injuries_and_age.age_group.value_counts()"
   ]
  },
  {
   "cell_type": "code",
   "execution_count": 1400,
   "metadata": {
    "hidden": true
   },
   "outputs": [],
   "source": [
    "avg_miss = injuries_and_age[injuries_and_age.days_missed > 0].groupby('age_group').mean()"
   ]
  },
  {
   "cell_type": "code",
   "execution_count": 1418,
   "metadata": {
    "hidden": true
   },
   "outputs": [],
   "source": [
    "# In the next lines we're gonna extract the number of days and games missed by each player\n",
    "\n",
    "days = []\n",
    "games = []\n",
    "for each in range(len(injuries_and_age)):\n",
    "    if injuries_and_age.iloc[each,1] == 0:\n",
    "        days.append(round(avg_miss.loc[injuries_and_age.iloc[each,4],'days_missed'],0))\n",
    "        games.append(round(avg_miss.loc[injuries_and_age.iloc[each,4],'games_missed'],0))\n",
    "    elif injuries_and_age.iloc[each,1] > 0:\n",
    "        days.append(injuries_and_age.iloc[each,1])\n",
    "        games.append(injuries_and_age.iloc[each,2])"
   ]
  },
  {
   "cell_type": "code",
   "execution_count": 1420,
   "metadata": {
    "hidden": true
   },
   "outputs": [],
   "source": [
    "injuries_and_age['days_miss'] = days\n",
    "injuries_and_age['games_miss'] = games"
   ]
  },
  {
   "cell_type": "code",
   "execution_count": 1425,
   "metadata": {
    "hidden": true
   },
   "outputs": [],
   "source": [
    "injuries_and_age.drop('days_missed',axis=1,inplace=True)\n",
    "injuries_and_age.drop('games_missed',axis=1,inplace=True)"
   ]
  },
  {
   "cell_type": "code",
   "execution_count": 1428,
   "metadata": {
    "hidden": true
   },
   "outputs": [],
   "source": [
    "# Creating feature according to the number of days missed because of being injured or suspended\n",
    "# Taking the assumption that each player starts its professional career at the age of 16\n",
    "\n",
    "injuries_and_age['miss_days_per_y'] = injuries_and_age.days_miss / (injuries_and_age.age-16)"
   ]
  },
  {
   "cell_type": "code",
   "execution_count": 1431,
   "metadata": {
    "hidden": true
   },
   "outputs": [
    {
     "data": {
      "text/html": [
       "<div>\n",
       "<style scoped>\n",
       "    .dataframe tbody tr th:only-of-type {\n",
       "        vertical-align: middle;\n",
       "    }\n",
       "\n",
       "    .dataframe tbody tr th {\n",
       "        vertical-align: top;\n",
       "    }\n",
       "\n",
       "    .dataframe thead th {\n",
       "        text-align: right;\n",
       "    }\n",
       "</style>\n",
       "<table border=\"1\" class=\"dataframe\">\n",
       "  <thead>\n",
       "    <tr style=\"text-align: right;\">\n",
       "      <th></th>\n",
       "      <th>link</th>\n",
       "      <th>age</th>\n",
       "      <th>age_group</th>\n",
       "      <th>days_miss</th>\n",
       "      <th>games_miss</th>\n",
       "      <th>miss_days_per_y</th>\n",
       "    </tr>\n",
       "  </thead>\n",
       "  <tbody>\n",
       "    <tr>\n",
       "      <th>1164</th>\n",
       "      <td>/ryo-miyaichi/profil/spieler/129688</td>\n",
       "      <td>26</td>\n",
       "      <td>24-26</td>\n",
       "      <td>1207.0</td>\n",
       "      <td>121.0</td>\n",
       "      <td>120.700000</td>\n",
       "    </tr>\n",
       "    <tr>\n",
       "      <th>493</th>\n",
       "      <td>/joe-gomez/profil/spieler/256178</td>\n",
       "      <td>21</td>\n",
       "      <td>21-23</td>\n",
       "      <td>565.0</td>\n",
       "      <td>97.0</td>\n",
       "      <td>113.000000</td>\n",
       "    </tr>\n",
       "    <tr>\n",
       "      <th>876</th>\n",
       "      <td>/felix-platte/profil/spieler/195782</td>\n",
       "      <td>23</td>\n",
       "      <td>21-23</td>\n",
       "      <td>773.0</td>\n",
       "      <td>88.0</td>\n",
       "      <td>110.428571</td>\n",
       "    </tr>\n",
       "    <tr>\n",
       "      <th>920</th>\n",
       "      <td>/federico-mattiello/profil/spieler/200194</td>\n",
       "      <td>23</td>\n",
       "      <td>21-23</td>\n",
       "      <td>702.0</td>\n",
       "      <td>58.0</td>\n",
       "      <td>100.285714</td>\n",
       "    </tr>\n",
       "    <tr>\n",
       "      <th>115</th>\n",
       "      <td>/dominik-baumgartner/profil/spieler/206906</td>\n",
       "      <td>22</td>\n",
       "      <td>21-23</td>\n",
       "      <td>589.0</td>\n",
       "      <td>82.0</td>\n",
       "      <td>98.166667</td>\n",
       "    </tr>\n",
       "  </tbody>\n",
       "</table>\n",
       "</div>"
      ],
      "text/plain": [
       "                                            link  age age_group  days_miss  \\\n",
       "1164         /ryo-miyaichi/profil/spieler/129688   26     24-26     1207.0   \n",
       "493             /joe-gomez/profil/spieler/256178   21     21-23      565.0   \n",
       "876          /felix-platte/profil/spieler/195782   23     21-23      773.0   \n",
       "920    /federico-mattiello/profil/spieler/200194   23     21-23      702.0   \n",
       "115   /dominik-baumgartner/profil/spieler/206906   22     21-23      589.0   \n",
       "\n",
       "      games_miss  miss_days_per_y  \n",
       "1164       121.0       120.700000  \n",
       "493         97.0       113.000000  \n",
       "876         88.0       110.428571  \n",
       "920         58.0       100.285714  \n",
       "115         82.0        98.166667  "
      ]
     },
     "execution_count": 1431,
     "metadata": {},
     "output_type": "execute_result"
    }
   ],
   "source": [
    "injuries_and_age.sort_values(by='miss_days_per_y',ascending=False).head()"
   ]
  },
  {
   "cell_type": "code",
   "execution_count": 1433,
   "metadata": {
    "hidden": true
   },
   "outputs": [],
   "source": [
    "final_injuries = injuries_and_age.drop('age', axis=1)"
   ]
  },
  {
   "cell_type": "code",
   "execution_count": 1634,
   "metadata": {
    "hidden": true
   },
   "outputs": [],
   "source": [
    "final_injuries.to_csv(r'Final_datasets/Cleaned_data/Injuries_and_age.csv',index=False)"
   ]
  },
  {
   "cell_type": "markdown",
   "metadata": {
    "heading_collapsed": true,
    "hidden": true
   },
   "source": [
    "### Awards"
   ]
  },
  {
   "cell_type": "code",
   "execution_count": 1559,
   "metadata": {
    "hidden": true
   },
   "outputs": [
    {
     "data": {
      "text/html": [
       "<div>\n",
       "<style scoped>\n",
       "    .dataframe tbody tr th:only-of-type {\n",
       "        vertical-align: middle;\n",
       "    }\n",
       "\n",
       "    .dataframe tbody tr th {\n",
       "        vertical-align: top;\n",
       "    }\n",
       "\n",
       "    .dataframe thead th {\n",
       "        text-align: right;\n",
       "    }\n",
       "</style>\n",
       "<table border=\"1\" class=\"dataframe\">\n",
       "  <thead>\n",
       "    <tr style=\"text-align: right;\">\n",
       "      <th></th>\n",
       "      <th>Awards</th>\n",
       "      <th>Category</th>\n",
       "    </tr>\n",
       "  </thead>\n",
       "  <tbody>\n",
       "    <tr>\n",
       "      <th>255</th>\n",
       "      <td>World Cup third place</td>\n",
       "      <td>World Cup third place</td>\n",
       "    </tr>\n",
       "    <tr>\n",
       "      <th>256</th>\n",
       "      <td>World Cup winner</td>\n",
       "      <td>World Cup winner</td>\n",
       "    </tr>\n",
       "    <tr>\n",
       "      <th>257</th>\n",
       "      <td>World's Best Goalkeeper</td>\n",
       "      <td>Top individuals</td>\n",
       "    </tr>\n",
       "    <tr>\n",
       "      <th>258</th>\n",
       "      <td>Wurttemberg Cup winner</td>\n",
       "      <td>Others</td>\n",
       "    </tr>\n",
       "    <tr>\n",
       "      <th>259</th>\n",
       "      <td>Young player of the year</td>\n",
       "      <td>Minor individuals</td>\n",
       "    </tr>\n",
       "  </tbody>\n",
       "</table>\n",
       "</div>"
      ],
      "text/plain": [
       "                       Awards                Category\n",
       "255     World Cup third place  World Cup third place \n",
       "256          World Cup winner       World Cup winner \n",
       "257   World's Best Goalkeeper        Top individuals \n",
       "258    Wurttemberg Cup winner                 Others \n",
       "259  Young player of the year      Minor individuals "
      ]
     },
     "execution_count": 1559,
     "metadata": {},
     "output_type": "execute_result"
    }
   ],
   "source": [
    "awards_categories_df.tail()"
   ]
  },
  {
   "cell_type": "code",
   "execution_count": 1570,
   "metadata": {
    "hidden": true
   },
   "outputs": [],
   "source": [
    "awards_df.fillna(value=0,inplace=True)"
   ]
  },
  {
   "cell_type": "code",
   "execution_count": 1571,
   "metadata": {
    "hidden": true
   },
   "outputs": [],
   "source": [
    "for category in awards_categories_df.Category.unique():\n",
    "    sliced = awards_categories_df.Awards[awards_categories_df.Category==category].values\n",
    "    awards_df[category] = awards_df[sliced].sum(numeric_only=True,axis=1)"
   ]
  },
  {
   "cell_type": "code",
   "execution_count": 1589,
   "metadata": {
    "hidden": true
   },
   "outputs": [],
   "source": [
    "cols_to_save = list(awards_categories_df.Category.unique())\n",
    "cols_to_save.append('Unnamed: 0')"
   ]
  },
  {
   "cell_type": "code",
   "execution_count": 1591,
   "metadata": {
    "hidden": true
   },
   "outputs": [],
   "source": [
    "awards_def = awards_df[cols_to_save]"
   ]
  },
  {
   "cell_type": "code",
   "execution_count": 1592,
   "metadata": {
    "hidden": true
   },
   "outputs": [
    {
     "data": {
      "text/plain": [
       "(1200, 26)"
      ]
     },
     "execution_count": 1592,
     "metadata": {},
     "output_type": "execute_result"
    }
   ],
   "source": [
    "awards_def.shape"
   ]
  },
  {
   "cell_type": "code",
   "execution_count": 1606,
   "metadata": {
    "hidden": true,
    "scrolled": true
   },
   "outputs": [
    {
     "name": "stderr",
     "output_type": "stream",
     "text": [
      "/Users/gonzaloferreiro/anaconda3/lib/python3.6/site-packages/pandas/core/frame.py:3697: SettingWithCopyWarning: \n",
      "A value is trying to be set on a copy of a slice from a DataFrame\n",
      "\n",
      "See the caveats in the documentation: http://pandas.pydata.org/pandas-docs/stable/indexing.html#indexing-view-versus-copy\n",
      "  errors=errors)\n"
     ]
    }
   ],
   "source": [
    "# Dropping small awards\n",
    "\n",
    "awards_def.drop(['Player ','Others ', 'Promotion '],axis=1,inplace=True)"
   ]
  },
  {
   "cell_type": "code",
   "execution_count": 1608,
   "metadata": {
    "hidden": true
   },
   "outputs": [],
   "source": [
    "awards_def.columns = ['Continental Club Winner', 'Continental Nat Winner',\n",
    "       'Minor individuals ', 'League T2 Club Winner', 'Top individuals ',\n",
    "       'League T1 Club Winner', 'Continental Club Runner-up',\n",
    "       'Continental Nat Runner-up', 'Major individuals ',\n",
    "       'League T1 Runner-up', 'Under Continental Runner-up',\n",
    "       'Under Continental Winner', 'FIFA Club World Cup participant ',\n",
    "       'FIFA Club World Cup winner ', 'Olympic medalist ',\n",
    "       'League T2 Runner-up', 'Second place at the Olympic Games ',\n",
    "       'Third place at the Olympic Games ', 'World Cup participant ',\n",
    "       'World Cup runner-up ', 'World Cup third place ', 'World Cup winner ','link']"
   ]
  },
  {
   "cell_type": "code",
   "execution_count": 1614,
   "metadata": {
    "hidden": true
   },
   "outputs": [],
   "source": [
    "awards_def = awards_def[['link','Continental Club Winner', 'Continental Nat Winner',\n",
    "       'Minor individuals ', 'League T2 Club Winner', 'Top individuals ',\n",
    "       'League T1 Club Winner', 'Continental Club Runner-up',\n",
    "       'Continental Nat Runner-up', 'Major individuals ',\n",
    "       'League T1 Runner-up', 'Under Continental Runner-up',\n",
    "       'Under Continental Winner', 'FIFA Club World Cup participant ',\n",
    "       'FIFA Club World Cup winner ', 'Olympic medalist ',\n",
    "       'League T2 Runner-up', 'Second place at the Olympic Games ',\n",
    "       'Third place at the Olympic Games ', 'World Cup participant ',\n",
    "       'World Cup runner-up ', 'World Cup third place ', 'World Cup winner ']]"
   ]
  },
  {
   "cell_type": "code",
   "execution_count": 1616,
   "metadata": {
    "hidden": true
   },
   "outputs": [
    {
     "name": "stderr",
     "output_type": "stream",
     "text": [
      "/Users/gonzaloferreiro/anaconda3/lib/python3.6/site-packages/ipykernel_launcher.py:1: SettingWithCopyWarning: \n",
      "A value is trying to be set on a copy of a slice from a DataFrame.\n",
      "Try using .loc[row_indexer,col_indexer] = value instead\n",
      "\n",
      "See the caveats in the documentation: http://pandas.pydata.org/pandas-docs/stable/indexing.html#indexing-view-versus-copy\n",
      "  \"\"\"Entry point for launching an IPython kernel.\n"
     ]
    }
   ],
   "source": [
    "awards_def['total_awards'] = awards_def.sum(numeric_only=True,axis=1)"
   ]
  },
  {
   "cell_type": "code",
   "execution_count": 1618,
   "metadata": {
    "hidden": true
   },
   "outputs": [
    {
     "data": {
      "text/html": [
       "<div>\n",
       "<style scoped>\n",
       "    .dataframe tbody tr th:only-of-type {\n",
       "        vertical-align: middle;\n",
       "    }\n",
       "\n",
       "    .dataframe tbody tr th {\n",
       "        vertical-align: top;\n",
       "    }\n",
       "\n",
       "    .dataframe thead th {\n",
       "        text-align: right;\n",
       "    }\n",
       "</style>\n",
       "<table border=\"1\" class=\"dataframe\">\n",
       "  <thead>\n",
       "    <tr style=\"text-align: right;\">\n",
       "      <th></th>\n",
       "      <th>link</th>\n",
       "      <th>Continental Club Winner</th>\n",
       "      <th>Continental Nat Winner</th>\n",
       "      <th>Minor individuals</th>\n",
       "      <th>League T2 Club Winner</th>\n",
       "      <th>Top individuals</th>\n",
       "      <th>League T1 Club Winner</th>\n",
       "      <th>Continental Club Runner-up</th>\n",
       "      <th>Continental Nat Runner-up</th>\n",
       "      <th>Major individuals</th>\n",
       "      <th>...</th>\n",
       "      <th>FIFA Club World Cup winner</th>\n",
       "      <th>Olympic medalist</th>\n",
       "      <th>League T2 Runner-up</th>\n",
       "      <th>Second place at the Olympic Games</th>\n",
       "      <th>Third place at the Olympic Games</th>\n",
       "      <th>World Cup participant</th>\n",
       "      <th>World Cup runner-up</th>\n",
       "      <th>World Cup third place</th>\n",
       "      <th>World Cup winner</th>\n",
       "      <th>total_awards</th>\n",
       "    </tr>\n",
       "  </thead>\n",
       "  <tbody>\n",
       "    <tr>\n",
       "      <th>0</th>\n",
       "      <td>/max-clark/profil/spieler/183291</td>\n",
       "      <td>0.0</td>\n",
       "      <td>0.0</td>\n",
       "      <td>0.0</td>\n",
       "      <td>0.0</td>\n",
       "      <td>0.0</td>\n",
       "      <td>0.0</td>\n",
       "      <td>0.0</td>\n",
       "      <td>0.0</td>\n",
       "      <td>0.0</td>\n",
       "      <td>...</td>\n",
       "      <td>0.0</td>\n",
       "      <td>0.0</td>\n",
       "      <td>0.0</td>\n",
       "      <td>0.0</td>\n",
       "      <td>0.0</td>\n",
       "      <td>0.0</td>\n",
       "      <td>0.0</td>\n",
       "      <td>0.0</td>\n",
       "      <td>0.0</td>\n",
       "      <td>0.0</td>\n",
       "    </tr>\n",
       "    <tr>\n",
       "      <th>1</th>\n",
       "      <td>/sergio-postigo/profil/spieler/158791</td>\n",
       "      <td>0.0</td>\n",
       "      <td>0.0</td>\n",
       "      <td>0.0</td>\n",
       "      <td>0.0</td>\n",
       "      <td>0.0</td>\n",
       "      <td>0.0</td>\n",
       "      <td>0.0</td>\n",
       "      <td>0.0</td>\n",
       "      <td>0.0</td>\n",
       "      <td>...</td>\n",
       "      <td>0.0</td>\n",
       "      <td>0.0</td>\n",
       "      <td>0.0</td>\n",
       "      <td>0.0</td>\n",
       "      <td>0.0</td>\n",
       "      <td>0.0</td>\n",
       "      <td>0.0</td>\n",
       "      <td>0.0</td>\n",
       "      <td>0.0</td>\n",
       "      <td>0.0</td>\n",
       "    </tr>\n",
       "    <tr>\n",
       "      <th>2</th>\n",
       "      <td>/stanislav-iljutcenko/profil/spieler/191292</td>\n",
       "      <td>0.0</td>\n",
       "      <td>0.0</td>\n",
       "      <td>0.0</td>\n",
       "      <td>3.0</td>\n",
       "      <td>0.0</td>\n",
       "      <td>0.0</td>\n",
       "      <td>0.0</td>\n",
       "      <td>0.0</td>\n",
       "      <td>0.0</td>\n",
       "      <td>...</td>\n",
       "      <td>0.0</td>\n",
       "      <td>0.0</td>\n",
       "      <td>0.0</td>\n",
       "      <td>0.0</td>\n",
       "      <td>0.0</td>\n",
       "      <td>0.0</td>\n",
       "      <td>0.0</td>\n",
       "      <td>0.0</td>\n",
       "      <td>0.0</td>\n",
       "      <td>3.0</td>\n",
       "    </tr>\n",
       "    <tr>\n",
       "      <th>3</th>\n",
       "      <td>/ivan-marcone/profil/spieler/90451</td>\n",
       "      <td>0.0</td>\n",
       "      <td>0.0</td>\n",
       "      <td>0.0</td>\n",
       "      <td>3.0</td>\n",
       "      <td>0.0</td>\n",
       "      <td>0.0</td>\n",
       "      <td>0.0</td>\n",
       "      <td>0.0</td>\n",
       "      <td>0.0</td>\n",
       "      <td>...</td>\n",
       "      <td>0.0</td>\n",
       "      <td>0.0</td>\n",
       "      <td>0.0</td>\n",
       "      <td>0.0</td>\n",
       "      <td>0.0</td>\n",
       "      <td>0.0</td>\n",
       "      <td>0.0</td>\n",
       "      <td>0.0</td>\n",
       "      <td>0.0</td>\n",
       "      <td>3.0</td>\n",
       "    </tr>\n",
       "    <tr>\n",
       "      <th>4</th>\n",
       "      <td>/florent-mollet/profil/spieler/222859</td>\n",
       "      <td>0.0</td>\n",
       "      <td>0.0</td>\n",
       "      <td>0.0</td>\n",
       "      <td>0.0</td>\n",
       "      <td>0.0</td>\n",
       "      <td>0.0</td>\n",
       "      <td>0.0</td>\n",
       "      <td>0.0</td>\n",
       "      <td>0.0</td>\n",
       "      <td>...</td>\n",
       "      <td>0.0</td>\n",
       "      <td>0.0</td>\n",
       "      <td>0.0</td>\n",
       "      <td>0.0</td>\n",
       "      <td>0.0</td>\n",
       "      <td>0.0</td>\n",
       "      <td>0.0</td>\n",
       "      <td>0.0</td>\n",
       "      <td>0.0</td>\n",
       "      <td>0.0</td>\n",
       "    </tr>\n",
       "  </tbody>\n",
       "</table>\n",
       "<p>5 rows × 24 columns</p>\n",
       "</div>"
      ],
      "text/plain": [
       "                                          link  Continental Club Winner  \\\n",
       "0             /max-clark/profil/spieler/183291                      0.0   \n",
       "1        /sergio-postigo/profil/spieler/158791                      0.0   \n",
       "2  /stanislav-iljutcenko/profil/spieler/191292                      0.0   \n",
       "3           /ivan-marcone/profil/spieler/90451                      0.0   \n",
       "4        /florent-mollet/profil/spieler/222859                      0.0   \n",
       "\n",
       "   Continental Nat Winner  Minor individuals   League T2 Club Winner  \\\n",
       "0                     0.0                 0.0                    0.0   \n",
       "1                     0.0                 0.0                    0.0   \n",
       "2                     0.0                 0.0                    3.0   \n",
       "3                     0.0                 0.0                    3.0   \n",
       "4                     0.0                 0.0                    0.0   \n",
       "\n",
       "   Top individuals   League T1 Club Winner  Continental Club Runner-up  \\\n",
       "0               0.0                    0.0                         0.0   \n",
       "1               0.0                    0.0                         0.0   \n",
       "2               0.0                    0.0                         0.0   \n",
       "3               0.0                    0.0                         0.0   \n",
       "4               0.0                    0.0                         0.0   \n",
       "\n",
       "   Continental Nat Runner-up  Major individuals       ...       \\\n",
       "0                        0.0                 0.0      ...        \n",
       "1                        0.0                 0.0      ...        \n",
       "2                        0.0                 0.0      ...        \n",
       "3                        0.0                 0.0      ...        \n",
       "4                        0.0                 0.0      ...        \n",
       "\n",
       "   FIFA Club World Cup winner   Olympic medalist   League T2 Runner-up  \\\n",
       "0                          0.0                0.0                  0.0   \n",
       "1                          0.0                0.0                  0.0   \n",
       "2                          0.0                0.0                  0.0   \n",
       "3                          0.0                0.0                  0.0   \n",
       "4                          0.0                0.0                  0.0   \n",
       "\n",
       "   Second place at the Olympic Games   Third place at the Olympic Games   \\\n",
       "0                                 0.0                                0.0   \n",
       "1                                 0.0                                0.0   \n",
       "2                                 0.0                                0.0   \n",
       "3                                 0.0                                0.0   \n",
       "4                                 0.0                                0.0   \n",
       "\n",
       "   World Cup participant   World Cup runner-up   World Cup third place   \\\n",
       "0                     0.0                   0.0                     0.0   \n",
       "1                     0.0                   0.0                     0.0   \n",
       "2                     0.0                   0.0                     0.0   \n",
       "3                     0.0                   0.0                     0.0   \n",
       "4                     0.0                   0.0                     0.0   \n",
       "\n",
       "   World Cup winner   total_awards  \n",
       "0                0.0           0.0  \n",
       "1                0.0           0.0  \n",
       "2                0.0           3.0  \n",
       "3                0.0           3.0  \n",
       "4                0.0           0.0  \n",
       "\n",
       "[5 rows x 24 columns]"
      ]
     },
     "execution_count": 1618,
     "metadata": {},
     "output_type": "execute_result"
    }
   ],
   "source": [
    "awards_def.head()"
   ]
  },
  {
   "cell_type": "code",
   "execution_count": 1629,
   "metadata": {
    "hidden": true
   },
   "outputs": [],
   "source": [
    "awards_def.to_csv(r'Final_datasets/Cleaned_data/Awards_def.csv',index=False)"
   ]
  },
  {
   "cell_type": "markdown",
   "metadata": {
    "heading_collapsed": true,
    "hidden": true
   },
   "source": [
    "### National appeareces, ranking and agent"
   ]
  },
  {
   "cell_type": "markdown",
   "metadata": {
    "heading_collapsed": true,
    "hidden": true
   },
   "source": [
    "#### National appearences with nat team ranking"
   ]
  },
  {
   "cell_type": "code",
   "execution_count": 1183,
   "metadata": {
    "hidden": true
   },
   "outputs": [
    {
     "data": {
      "text/html": [
       "<div>\n",
       "<style scoped>\n",
       "    .dataframe tbody tr th:only-of-type {\n",
       "        vertical-align: middle;\n",
       "    }\n",
       "\n",
       "    .dataframe tbody tr th {\n",
       "        vertical-align: top;\n",
       "    }\n",
       "\n",
       "    .dataframe thead th {\n",
       "        text-align: right;\n",
       "    }\n",
       "</style>\n",
       "<table border=\"1\" class=\"dataframe\">\n",
       "  <thead>\n",
       "    <tr style=\"text-align: right;\">\n",
       "      <th></th>\n",
       "      <th>link</th>\n",
       "      <th>nationality</th>\n",
       "      <th>minutes</th>\n",
       "      <th>agent</th>\n",
       "    </tr>\n",
       "  </thead>\n",
       "  <tbody>\n",
       "    <tr>\n",
       "      <th>0</th>\n",
       "      <td>/max-clark/profil/spieler/183291</td>\n",
       "      <td>England</td>\n",
       "      <td>0</td>\n",
       "      <td>KIN</td>\n",
       "    </tr>\n",
       "    <tr>\n",
       "      <th>1</th>\n",
       "      <td>/sergio-postigo/profil/spieler/158791</td>\n",
       "      <td>Spain</td>\n",
       "      <td>0</td>\n",
       "      <td>JPA Soccer</td>\n",
       "    </tr>\n",
       "    <tr>\n",
       "      <th>2</th>\n",
       "      <td>/stanislav-iljutcenko/profil/spieler/191292</td>\n",
       "      <td>Russia</td>\n",
       "      <td>0</td>\n",
       "      <td>Coaches &amp; More GmbH</td>\n",
       "    </tr>\n",
       "    <tr>\n",
       "      <th>3</th>\n",
       "      <td>/ivan-marcone/profil/spieler/90451</td>\n",
       "      <td>Argentina</td>\n",
       "      <td>0</td>\n",
       "      <td>Christian Bragarnik</td>\n",
       "    </tr>\n",
       "    <tr>\n",
       "      <th>4</th>\n",
       "      <td>/florent-mollet/profil/spieler/222859</td>\n",
       "      <td>France</td>\n",
       "      <td>0</td>\n",
       "      <td>No agent</td>\n",
       "    </tr>\n",
       "  </tbody>\n",
       "</table>\n",
       "</div>"
      ],
      "text/plain": [
       "                                          link nationality  minutes  \\\n",
       "0             /max-clark/profil/spieler/183291     England        0   \n",
       "1        /sergio-postigo/profil/spieler/158791       Spain        0   \n",
       "2  /stanislav-iljutcenko/profil/spieler/191292      Russia        0   \n",
       "3           /ivan-marcone/profil/spieler/90451   Argentina        0   \n",
       "4        /florent-mollet/profil/spieler/222859      France        0   \n",
       "\n",
       "                 agent  \n",
       "0                  KIN  \n",
       "1           JPA Soccer  \n",
       "2  Coaches & More GmbH  \n",
       "3  Christian Bragarnik  \n",
       "4             No agent  "
      ]
     },
     "execution_count": 1183,
     "metadata": {},
     "output_type": "execute_result"
    }
   ],
   "source": [
    "national_apps_df.head()"
   ]
  },
  {
   "cell_type": "code",
   "execution_count": 1185,
   "metadata": {
    "hidden": true
   },
   "outputs": [
    {
     "name": "stdout",
     "output_type": "stream",
     "text": [
      "<class 'pandas.core.frame.DataFrame'>\n",
      "RangeIndex: 1200 entries, 0 to 1199\n",
      "Data columns (total 4 columns):\n",
      "link           1200 non-null object\n",
      "nationality    1198 non-null object\n",
      "minutes        1200 non-null int64\n",
      "agent          1200 non-null object\n",
      "dtypes: int64(1), object(3)\n",
      "memory usage: 37.6+ KB\n"
     ]
    }
   ],
   "source": [
    "national_apps_df.info()"
   ]
  },
  {
   "cell_type": "code",
   "execution_count": 1224,
   "metadata": {
    "hidden": true
   },
   "outputs": [
    {
     "data": {
      "text/html": [
       "<div>\n",
       "<style scoped>\n",
       "    .dataframe tbody tr th:only-of-type {\n",
       "        vertical-align: middle;\n",
       "    }\n",
       "\n",
       "    .dataframe tbody tr th {\n",
       "        vertical-align: top;\n",
       "    }\n",
       "\n",
       "    .dataframe thead th {\n",
       "        text-align: right;\n",
       "    }\n",
       "</style>\n",
       "<table border=\"1\" class=\"dataframe\">\n",
       "  <thead>\n",
       "    <tr style=\"text-align: right;\">\n",
       "      <th></th>\n",
       "      <th>nationality</th>\n",
       "      <th>pos</th>\n",
       "    </tr>\n",
       "  </thead>\n",
       "  <tbody>\n",
       "    <tr>\n",
       "      <th>170</th>\n",
       "      <td>Malaysia</td>\n",
       "      <td>171</td>\n",
       "    </tr>\n",
       "    <tr>\n",
       "      <th>171</th>\n",
       "      <td>Papua N. Guinea</td>\n",
       "      <td>172</td>\n",
       "    </tr>\n",
       "    <tr>\n",
       "      <th>172</th>\n",
       "      <td>Saint Lucia</td>\n",
       "      <td>173</td>\n",
       "    </tr>\n",
       "    <tr>\n",
       "      <th>173</th>\n",
       "      <td>Moldova</td>\n",
       "      <td>174</td>\n",
       "    </tr>\n",
       "    <tr>\n",
       "      <th>174</th>\n",
       "      <td>Grenada</td>\n",
       "      <td>175</td>\n",
       "    </tr>\n",
       "  </tbody>\n",
       "</table>\n",
       "</div>"
      ],
      "text/plain": [
       "         nationality  pos\n",
       "170         Malaysia  171\n",
       "171  Papua N. Guinea  172\n",
       "172      Saint Lucia  173\n",
       "173          Moldova  174\n",
       "174          Grenada  175"
      ]
     },
     "execution_count": 1224,
     "metadata": {},
     "output_type": "execute_result"
    }
   ],
   "source": [
    "nat_teams_ranking_df.tail()"
   ]
  },
  {
   "cell_type": "code",
   "execution_count": 1187,
   "metadata": {
    "hidden": true
   },
   "outputs": [
    {
     "name": "stdout",
     "output_type": "stream",
     "text": [
      "<class 'pandas.core.frame.DataFrame'>\n",
      "RangeIndex: 175 entries, 0 to 174\n",
      "Data columns (total 2 columns):\n",
      "Country     175 non-null object\n",
      "Position    175 non-null int64\n",
      "dtypes: int64(1), object(1)\n",
      "memory usage: 2.8+ KB\n"
     ]
    }
   ],
   "source": [
    "nat_teams_ranking_df.info()"
   ]
  },
  {
   "cell_type": "code",
   "execution_count": 1292,
   "metadata": {
    "hidden": true
   },
   "outputs": [],
   "source": [
    "# Matching columns name\n",
    "\n",
    "nat_teams_ranking_df.columns = [\"nationality\",'nation_pos']"
   ]
  },
  {
   "cell_type": "code",
   "execution_count": 1293,
   "metadata": {
    "hidden": true
   },
   "outputs": [],
   "source": [
    "# Adjusting some countries name by hand\n",
    "\n",
    "nat_teams_ranking_df['nationality'] = ['Bosnia-Herzegovina' if x == 'Bosnia' else 'United States' if \\\n",
    "                                       x == \"USA\" else \"Korea, South\" if x == \"South Korea\" else \"Cote d'Ivoire\" \\\n",
    "                                       if x == \"Ivory Coast\" else \"Northern Ireland\" if x == 'N. Ireland' \\\n",
    "                                       else x for x in nat_teams_ranking_df.nationality]"
   ]
  },
  {
   "cell_type": "code",
   "execution_count": 1294,
   "metadata": {
    "hidden": true
   },
   "outputs": [],
   "source": [
    "app_with_rank = national_apps_df.merge(nat_teams_ranking_df, how='left', on='nationality')"
   ]
  },
  {
   "cell_type": "code",
   "execution_count": 1297,
   "metadata": {
    "hidden": true
   },
   "outputs": [
    {
     "data": {
      "text/plain": [
       "Guadeloupe                 2\n",
       "Chinese Taipei (Taiwan)    1\n",
       "Curacao                    1\n",
       "Hongkong                   1\n",
       "Equatorial Guinea          1\n",
       "Cuba                       1\n",
       "Chad                       1\n",
       "Name: nationality, dtype: int64"
      ]
     },
     "execution_count": 1297,
     "metadata": {},
     "output_type": "execute_result"
    }
   ],
   "source": [
    "app_with_rank.nationality[pd.isnull(app_with_rank.nation_pos)].value_counts()"
   ]
  },
  {
   "cell_type": "code",
   "execution_count": 1299,
   "metadata": {
    "hidden": true
   },
   "outputs": [],
   "source": [
    "app_with_rank.fillna(app_with_rank.nation_pos.max(), inplace=True)"
   ]
  },
  {
   "cell_type": "code",
   "execution_count": 1300,
   "metadata": {
    "hidden": true
   },
   "outputs": [
    {
     "data": {
      "text/html": [
       "<div>\n",
       "<style scoped>\n",
       "    .dataframe tbody tr th:only-of-type {\n",
       "        vertical-align: middle;\n",
       "    }\n",
       "\n",
       "    .dataframe tbody tr th {\n",
       "        vertical-align: top;\n",
       "    }\n",
       "\n",
       "    .dataframe thead th {\n",
       "        text-align: right;\n",
       "    }\n",
       "</style>\n",
       "<table border=\"1\" class=\"dataframe\">\n",
       "  <thead>\n",
       "    <tr style=\"text-align: right;\">\n",
       "      <th></th>\n",
       "      <th>link</th>\n",
       "      <th>nationality</th>\n",
       "      <th>minutes</th>\n",
       "      <th>agent</th>\n",
       "      <th>nation_pos</th>\n",
       "    </tr>\n",
       "  </thead>\n",
       "  <tbody>\n",
       "    <tr>\n",
       "      <th>0</th>\n",
       "      <td>/max-clark/profil/spieler/183291</td>\n",
       "      <td>England</td>\n",
       "      <td>0</td>\n",
       "      <td>KIN</td>\n",
       "      <td>4.0</td>\n",
       "    </tr>\n",
       "    <tr>\n",
       "      <th>1</th>\n",
       "      <td>/sergio-postigo/profil/spieler/158791</td>\n",
       "      <td>Spain</td>\n",
       "      <td>0</td>\n",
       "      <td>JPA Soccer</td>\n",
       "      <td>9.0</td>\n",
       "    </tr>\n",
       "    <tr>\n",
       "      <th>2</th>\n",
       "      <td>/stanislav-iljutcenko/profil/spieler/191292</td>\n",
       "      <td>Russia</td>\n",
       "      <td>0</td>\n",
       "      <td>Coaches &amp; More GmbH</td>\n",
       "      <td>46.0</td>\n",
       "    </tr>\n",
       "    <tr>\n",
       "      <th>3</th>\n",
       "      <td>/ivan-marcone/profil/spieler/90451</td>\n",
       "      <td>Argentina</td>\n",
       "      <td>0</td>\n",
       "      <td>Christian Bragarnik</td>\n",
       "      <td>11.0</td>\n",
       "    </tr>\n",
       "    <tr>\n",
       "      <th>4</th>\n",
       "      <td>/florent-mollet/profil/spieler/222859</td>\n",
       "      <td>France</td>\n",
       "      <td>0</td>\n",
       "      <td>No agent</td>\n",
       "      <td>2.0</td>\n",
       "    </tr>\n",
       "  </tbody>\n",
       "</table>\n",
       "</div>"
      ],
      "text/plain": [
       "                                          link nationality  minutes  \\\n",
       "0             /max-clark/profil/spieler/183291     England        0   \n",
       "1        /sergio-postigo/profil/spieler/158791       Spain        0   \n",
       "2  /stanislav-iljutcenko/profil/spieler/191292      Russia        0   \n",
       "3           /ivan-marcone/profil/spieler/90451   Argentina        0   \n",
       "4        /florent-mollet/profil/spieler/222859      France        0   \n",
       "\n",
       "                 agent  nation_pos  \n",
       "0                  KIN         4.0  \n",
       "1           JPA Soccer         9.0  \n",
       "2  Coaches & More GmbH        46.0  \n",
       "3  Christian Bragarnik        11.0  \n",
       "4             No agent         2.0  "
      ]
     },
     "execution_count": 1300,
     "metadata": {},
     "output_type": "execute_result"
    }
   ],
   "source": [
    "app_with_rank.head()"
   ]
  },
  {
   "cell_type": "markdown",
   "metadata": {
    "hidden": true
   },
   "source": [
    "#### Agent cleaning"
   ]
  },
  {
   "cell_type": "code",
   "execution_count": 1301,
   "metadata": {
    "hidden": true
   },
   "outputs": [
    {
     "data": {
      "text/plain": [
       "No agent                233\n",
       "Relatives                38\n",
       "no agent                 26\n",
       "not clarified            24\n",
       "Stellar Football Ltd     20\n",
       "Name: agent, dtype: int64"
      ]
     },
     "execution_count": 1301,
     "metadata": {},
     "output_type": "execute_result"
    }
   ],
   "source": [
    "app_with_rank.agent.value_counts().head()"
   ]
  },
  {
   "cell_type": "code",
   "execution_count": 1302,
   "metadata": {
    "hidden": true
   },
   "outputs": [],
   "source": [
    "# Classifying agents according to the number of occurrences, not having agent or being relatives\n",
    "\n",
    "agent_clas = {}\n",
    "\n",
    "for agent, players in zip(app_with_rank.agent.value_counts().index, app_with_rank.agent.value_counts()):\n",
    "    if agent == 'No agent' or agent == 'no agent' or agent == 'not clarified':\n",
    "        agent_clas[agent] = 'No agent'\n",
    "    elif agent == 'Relatives':\n",
    "        agent_clas[agent] = 'Relatives'\n",
    "    elif players < 3:\n",
    "        agent_clas[agent] = 'Small'\n",
    "    elif players < 10:\n",
    "        agent_clas[agent] = \"Medium\"\n",
    "    else:\n",
    "        agent_clas[agent] = 'Big'"
   ]
  },
  {
   "cell_type": "code",
   "execution_count": 1303,
   "metadata": {
    "hidden": true
   },
   "outputs": [],
   "source": [
    "app_with_rank['type_agent'] = [agent_clas[x] for x in app_with_rank.agent]"
   ]
  },
  {
   "cell_type": "code",
   "execution_count": 1304,
   "metadata": {
    "hidden": true
   },
   "outputs": [],
   "source": [
    "app_with_rank.drop('agent',axis=1,inplace=True)"
   ]
  },
  {
   "cell_type": "markdown",
   "metadata": {
    "hidden": true
   },
   "source": [
    "#### Pond minutes by ranking"
   ]
  },
  {
   "cell_type": "code",
   "execution_count": 1310,
   "metadata": {
    "hidden": true
   },
   "outputs": [],
   "source": [
    "# It's not the same having played 100 minutes for the english national team, that having played 100 minutes\n",
    "# for the peruvian national team. That's why we'll pondering the minutes played according to the current\n",
    "# position of each national team in FIFA's ranking.\n",
    "# We'll be doing that by multiplying the minutes played by 1/ranking\n",
    "\n",
    "app_with_rank['pond_min'] = app_with_rank.minutes * (1/app_with_rank.nation_pos)"
   ]
  },
  {
   "cell_type": "code",
   "execution_count": 1314,
   "metadata": {
    "hidden": true
   },
   "outputs": [],
   "source": [
    "app_with_rank.drop('nation_pos', axis=1, inplace=True)"
   ]
  },
  {
   "cell_type": "code",
   "execution_count": 1318,
   "metadata": {
    "hidden": true
   },
   "outputs": [
    {
     "data": {
      "text/html": [
       "<div>\n",
       "<style scoped>\n",
       "    .dataframe tbody tr th:only-of-type {\n",
       "        vertical-align: middle;\n",
       "    }\n",
       "\n",
       "    .dataframe tbody tr th {\n",
       "        vertical-align: top;\n",
       "    }\n",
       "\n",
       "    .dataframe thead th {\n",
       "        text-align: right;\n",
       "    }\n",
       "</style>\n",
       "<table border=\"1\" class=\"dataframe\">\n",
       "  <thead>\n",
       "    <tr style=\"text-align: right;\">\n",
       "      <th></th>\n",
       "      <th>link</th>\n",
       "      <th>nationality</th>\n",
       "      <th>minutes</th>\n",
       "      <th>type_agent</th>\n",
       "      <th>pond_min</th>\n",
       "    </tr>\n",
       "  </thead>\n",
       "  <tbody>\n",
       "    <tr>\n",
       "      <th>455</th>\n",
       "      <td>/jan-vertonghen/profil/spieler/43250</td>\n",
       "      <td>Belgium</td>\n",
       "      <td>9562</td>\n",
       "      <td>Medium</td>\n",
       "      <td>9562.000000</td>\n",
       "    </tr>\n",
       "    <tr>\n",
       "      <th>785</th>\n",
       "      <td>/vincent-kompany/profil/spieler/9594</td>\n",
       "      <td>Belgium</td>\n",
       "      <td>7068</td>\n",
       "      <td>Small</td>\n",
       "      <td>7068.000000</td>\n",
       "    </tr>\n",
       "    <tr>\n",
       "      <th>797</th>\n",
       "      <td>/kevin-mirallas/profil/spieler/33639</td>\n",
       "      <td>Belgium</td>\n",
       "      <td>2815</td>\n",
       "      <td>Small</td>\n",
       "      <td>2815.000000</td>\n",
       "    </tr>\n",
       "    <tr>\n",
       "      <th>52</th>\n",
       "      <td>/neymar/profil/spieler/68290</td>\n",
       "      <td>Brazil</td>\n",
       "      <td>8022</td>\n",
       "      <td>Relatives</td>\n",
       "      <td>2674.000000</td>\n",
       "    </tr>\n",
       "    <tr>\n",
       "      <th>1096</th>\n",
       "      <td>/karim-benzema/profil/spieler/18922</td>\n",
       "      <td>France</td>\n",
       "      <td>5129</td>\n",
       "      <td>Small</td>\n",
       "      <td>2564.500000</td>\n",
       "    </tr>\n",
       "    <tr>\n",
       "      <th>757</th>\n",
       "      <td>/thiago-silva/profil/spieler/29241</td>\n",
       "      <td>Brazil</td>\n",
       "      <td>6391</td>\n",
       "      <td>Small</td>\n",
       "      <td>2130.333333</td>\n",
       "    </tr>\n",
       "    <tr>\n",
       "      <th>113</th>\n",
       "      <td>/iker-casillas/profil/spieler/3979</td>\n",
       "      <td>Spain</td>\n",
       "      <td>13444</td>\n",
       "      <td>Small</td>\n",
       "      <td>1493.777778</td>\n",
       "    </tr>\n",
       "    <tr>\n",
       "      <th>359</th>\n",
       "      <td>/laurent-ciman/profil/spieler/22338</td>\n",
       "      <td>Belgium</td>\n",
       "      <td>1493</td>\n",
       "      <td>No agent</td>\n",
       "      <td>1493.000000</td>\n",
       "    </tr>\n",
       "    <tr>\n",
       "      <th>183</th>\n",
       "      <td>/sergio-ramos/profil/spieler/25557</td>\n",
       "      <td>Spain</td>\n",
       "      <td>12686</td>\n",
       "      <td>Relatives</td>\n",
       "      <td>1409.555556</td>\n",
       "    </tr>\n",
       "    <tr>\n",
       "      <th>475</th>\n",
       "      <td>/steve-mandanda/profil/spieler/23951</td>\n",
       "      <td>France</td>\n",
       "      <td>2462</td>\n",
       "      <td>Small</td>\n",
       "      <td>1231.000000</td>\n",
       "    </tr>\n",
       "  </tbody>\n",
       "</table>\n",
       "</div>"
      ],
      "text/plain": [
       "                                      link nationality  minutes type_agent  \\\n",
       "455   /jan-vertonghen/profil/spieler/43250     Belgium     9562     Medium   \n",
       "785   /vincent-kompany/profil/spieler/9594     Belgium     7068      Small   \n",
       "797   /kevin-mirallas/profil/spieler/33639     Belgium     2815      Small   \n",
       "52            /neymar/profil/spieler/68290      Brazil     8022  Relatives   \n",
       "1096   /karim-benzema/profil/spieler/18922      France     5129      Small   \n",
       "757     /thiago-silva/profil/spieler/29241      Brazil     6391      Small   \n",
       "113     /iker-casillas/profil/spieler/3979       Spain    13444      Small   \n",
       "359    /laurent-ciman/profil/spieler/22338     Belgium     1493   No agent   \n",
       "183     /sergio-ramos/profil/spieler/25557       Spain    12686  Relatives   \n",
       "475   /steve-mandanda/profil/spieler/23951      France     2462      Small   \n",
       "\n",
       "         pond_min  \n",
       "455   9562.000000  \n",
       "785   7068.000000  \n",
       "797   2815.000000  \n",
       "52    2674.000000  \n",
       "1096  2564.500000  \n",
       "757   2130.333333  \n",
       "113   1493.777778  \n",
       "359   1493.000000  \n",
       "183   1409.555556  \n",
       "475   1231.000000  "
      ]
     },
     "execution_count": 1318,
     "metadata": {},
     "output_type": "execute_result"
    }
   ],
   "source": [
    "app_with_rank.sort_values(by='pond_min', ascending=False).head(10)"
   ]
  },
  {
   "cell_type": "code",
   "execution_count": 1630,
   "metadata": {
    "hidden": true
   },
   "outputs": [],
   "source": [
    "app_with_rank.to_csv(r'Final_datasets/Cleaned_data/Appearences_with_ranking.csv',index=False)"
   ]
  }
 ],
 "metadata": {
  "kernelspec": {
   "display_name": "Python 3",
   "language": "python",
   "name": "python3"
  },
  "language_info": {
   "codemirror_mode": {
    "name": "ipython",
    "version": 3
   },
   "file_extension": ".py",
   "mimetype": "text/x-python",
   "name": "python",
   "nbconvert_exporter": "python",
   "pygments_lexer": "ipython3",
   "version": "3.6.8"
  }
 },
 "nbformat": 4,
 "nbformat_minor": 2
}
