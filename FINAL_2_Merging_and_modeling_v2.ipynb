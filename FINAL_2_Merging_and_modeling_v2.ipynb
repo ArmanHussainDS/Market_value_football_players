{
 "cells": [
  {
   "cell_type": "code",
   "execution_count": 895,
   "metadata": {},
   "outputs": [],
   "source": [
    "import numpy as np\n",
    "import pandas as pd\n",
    "import seaborn as sns\n",
    "import matplotlib.pyplot as plt\n",
    "import scipy.stats as scistats\n",
    "from sklearn.metrics import r2_score, mean_squared_error\n",
    "from sklearn.linear_model import (LinearRegression, \n",
    "                                  Ridge, Lasso, RidgeCV, LassoCV, \n",
    "                                  ElasticNetCV, ElasticNet, \n",
    "                                  TheilSenRegressor, RANSACRegressor, HuberRegressor)\n",
    "from sklearn.ensemble import BaggingRegressor\n",
    "from sklearn.tree import DecisionTreeRegressor\n",
    "from sklearn.model_selection import train_test_split, cross_val_score, GridSearchCV\n",
    "from sklearn.preprocessing import StandardScaler\n",
    "import statsmodels.api as sm\n",
    "from statsmodels.sandbox.regression.predstd import wls_prediction_std\n",
    "from sklearn.svm import SVR, LinearSVR\n",
    "from sklearn.decomposition import PCA\n",
    "import re\n",
    "import warnings\n",
    "warnings.filterwarnings('ignore')\n",
    "scaler = StandardScaler()"
   ]
  },
  {
   "cell_type": "code",
   "execution_count": 2095,
   "metadata": {},
   "outputs": [],
   "source": [
    "# Base dataset\n",
    "players_and_teams = pd.read_csv('Final_datasets/Cleaned_data/Players_and_teams.csv') # Done"
   ]
  },
  {
   "cell_type": "code",
   "execution_count": 2096,
   "metadata": {},
   "outputs": [],
   "source": [
    "# Basic info and stats\n",
    "basic_info = pd.read_csv('Final_datasets/Cleaned_data/Basic_info.csv') # Done\n",
    "players_app_and_rank = pd.read_csv('Final_datasets/Cleaned_data/Appearences_with_ranking.csv') # Done\n",
    "injuries_and_age = pd.read_csv('Final_datasets/Cleaned_data/Injuries_and_age.csv') # Done"
   ]
  },
  {
   "cell_type": "code",
   "execution_count": 2097,
   "metadata": {},
   "outputs": [],
   "source": [
    "# Market value\n",
    "market_value = pd.read_csv('Final_datasets/Cleaned_data/Market_value.csv')"
   ]
  },
  {
   "cell_type": "code",
   "execution_count": 2098,
   "metadata": {},
   "outputs": [],
   "source": [
    "# Brand value\n",
    "google_results = pd.read_csv('Final_datasets/Cleaned_data/final_google_results_cleaned.csv') # Done\n",
    "twitter_thing = pd.read_csv('Final_datasets/Cleaned_data/final_twitter_cleaned.csv') # Done"
   ]
  },
  {
   "cell_type": "code",
   "execution_count": 2099,
   "metadata": {},
   "outputs": [],
   "source": [
    "# Stats\n",
    "stats = pd.read_csv('Final_datasets/Cleaned_data/final_stats_merged.csv') # Done"
   ]
  },
  {
   "cell_type": "code",
   "execution_count": 2100,
   "metadata": {},
   "outputs": [],
   "source": [
    "# Awards\n",
    "awards = pd.read_csv('Final_datasets/Cleaned_data/Awards_def.csv') # Done"
   ]
  },
  {
   "cell_type": "markdown",
   "metadata": {
    "heading_collapsed": true
   },
   "source": [
    "### Merging previously created datasets"
   ]
  },
  {
   "cell_type": "code",
   "execution_count": 2101,
   "metadata": {
    "hidden": true
   },
   "outputs": [
    {
     "data": {
      "text/html": [
       "<div>\n",
       "<style scoped>\n",
       "    .dataframe tbody tr th:only-of-type {\n",
       "        vertical-align: middle;\n",
       "    }\n",
       "\n",
       "    .dataframe tbody tr th {\n",
       "        vertical-align: top;\n",
       "    }\n",
       "\n",
       "    .dataframe thead th {\n",
       "        text-align: right;\n",
       "    }\n",
       "</style>\n",
       "<table border=\"1\" class=\"dataframe\">\n",
       "  <thead>\n",
       "    <tr style=\"text-align: right;\">\n",
       "      <th></th>\n",
       "      <th>player</th>\n",
       "      <th>lastname</th>\n",
       "      <th>team</th>\n",
       "      <th>team_clas</th>\n",
       "      <th>league</th>\n",
       "      <th>team_country</th>\n",
       "      <th>player_link_tm</th>\n",
       "      <th>player_link_ws</th>\n",
       "      <th>team_ws_link</th>\n",
       "      <th>team_tm_link</th>\n",
       "    </tr>\n",
       "  </thead>\n",
       "  <tbody>\n",
       "    <tr>\n",
       "      <th>0</th>\n",
       "      <td>Max Clark</td>\n",
       "      <td>Clark</td>\n",
       "      <td>Vitesse</td>\n",
       "      <td>Above 200</td>\n",
       "      <td>Eredivise (NET)</td>\n",
       "      <td>NET</td>\n",
       "      <td>/max-clark/profil/spieler/183291</td>\n",
       "      <td>/Players/313996/Show/Max-Clark</td>\n",
       "      <td>/Teams/255/Show/Netherlands-Vitesse</td>\n",
       "      <td>/vitesse-arnheim/startseite/verein/499</td>\n",
       "    </tr>\n",
       "    <tr>\n",
       "      <th>1</th>\n",
       "      <td>Richonell Margaret</td>\n",
       "      <td>Margaret</td>\n",
       "      <td>Vitesse</td>\n",
       "      <td>Above 200</td>\n",
       "      <td>Eredivise (NET)</td>\n",
       "      <td>NET</td>\n",
       "      <td>/richonell-margaret/profil/spieler/465326</td>\n",
       "      <td>/Players/369048/Show/Richonell-Margaret</td>\n",
       "      <td>/Teams/255/Show/Netherlands-Vitesse</td>\n",
       "      <td>/vitesse-arnheim/startseite/verein/499</td>\n",
       "    </tr>\n",
       "    <tr>\n",
       "      <th>2</th>\n",
       "      <td>Tim Matavz</td>\n",
       "      <td>Matavz</td>\n",
       "      <td>Vitesse</td>\n",
       "      <td>Above 200</td>\n",
       "      <td>Eredivise (NET)</td>\n",
       "      <td>NET</td>\n",
       "      <td>/tim-matavz/profil/spieler/50303</td>\n",
       "      <td>/Players/25518/Show/Tim-Matavz</td>\n",
       "      <td>/Teams/255/Show/Netherlands-Vitesse</td>\n",
       "      <td>/vitesse-arnheim/startseite/verein/499</td>\n",
       "    </tr>\n",
       "    <tr>\n",
       "      <th>3</th>\n",
       "      <td>Alexander Büttner</td>\n",
       "      <td>Büttner</td>\n",
       "      <td>Vitesse</td>\n",
       "      <td>Above 200</td>\n",
       "      <td>Eredivise (NET)</td>\n",
       "      <td>NET</td>\n",
       "      <td>/alexander-buttner/profil/spieler/38003</td>\n",
       "      <td>/Players/38147/Show/Alexander-Büttner</td>\n",
       "      <td>/Teams/255/Show/Netherlands-Vitesse</td>\n",
       "      <td>/vitesse-arnheim/startseite/verein/499</td>\n",
       "    </tr>\n",
       "    <tr>\n",
       "      <th>4</th>\n",
       "      <td>Rasmus Thelander</td>\n",
       "      <td>Thelander</td>\n",
       "      <td>Vitesse</td>\n",
       "      <td>Above 200</td>\n",
       "      <td>Eredivise (NET)</td>\n",
       "      <td>NET</td>\n",
       "      <td>/rasmus-thelander/profil/spieler/129092</td>\n",
       "      <td>/Players/81841/Show/Rasmus-Thelander</td>\n",
       "      <td>/Teams/255/Show/Netherlands-Vitesse</td>\n",
       "      <td>/vitesse-arnheim/startseite/verein/499</td>\n",
       "    </tr>\n",
       "  </tbody>\n",
       "</table>\n",
       "</div>"
      ],
      "text/plain": [
       "               player   lastname     team  team_clas           league  \\\n",
       "0           Max Clark      Clark  Vitesse  Above 200  Eredivise (NET)   \n",
       "1  Richonell Margaret   Margaret  Vitesse  Above 200  Eredivise (NET)   \n",
       "2          Tim Matavz     Matavz  Vitesse  Above 200  Eredivise (NET)   \n",
       "3   Alexander Büttner    Büttner  Vitesse  Above 200  Eredivise (NET)   \n",
       "4    Rasmus Thelander  Thelander  Vitesse  Above 200  Eredivise (NET)   \n",
       "\n",
       "  team_country                             player_link_tm  \\\n",
       "0          NET           /max-clark/profil/spieler/183291   \n",
       "1          NET  /richonell-margaret/profil/spieler/465326   \n",
       "2          NET           /tim-matavz/profil/spieler/50303   \n",
       "3          NET    /alexander-buttner/profil/spieler/38003   \n",
       "4          NET    /rasmus-thelander/profil/spieler/129092   \n",
       "\n",
       "                            player_link_ws  \\\n",
       "0           /Players/313996/Show/Max-Clark   \n",
       "1  /Players/369048/Show/Richonell-Margaret   \n",
       "2           /Players/25518/Show/Tim-Matavz   \n",
       "3    /Players/38147/Show/Alexander-Büttner   \n",
       "4     /Players/81841/Show/Rasmus-Thelander   \n",
       "\n",
       "                          team_ws_link                            team_tm_link  \n",
       "0  /Teams/255/Show/Netherlands-Vitesse  /vitesse-arnheim/startseite/verein/499  \n",
       "1  /Teams/255/Show/Netherlands-Vitesse  /vitesse-arnheim/startseite/verein/499  \n",
       "2  /Teams/255/Show/Netherlands-Vitesse  /vitesse-arnheim/startseite/verein/499  \n",
       "3  /Teams/255/Show/Netherlands-Vitesse  /vitesse-arnheim/startseite/verein/499  \n",
       "4  /Teams/255/Show/Netherlands-Vitesse  /vitesse-arnheim/startseite/verein/499  "
      ]
     },
     "execution_count": 2101,
     "metadata": {},
     "output_type": "execute_result"
    }
   ],
   "source": [
    "players_and_teams.head()"
   ]
  },
  {
   "cell_type": "code",
   "execution_count": 2102,
   "metadata": {
    "hidden": true
   },
   "outputs": [
    {
     "data": {
      "text/plain": [
       "(1198, 16)"
      ]
     },
     "execution_count": 2102,
     "metadata": {},
     "output_type": "execute_result"
    }
   ],
   "source": [
    "# Merging basedataset with basic info\n",
    "\n",
    "basic_info = basic_info.rename(columns = {'name':'player'})\n",
    "final_dataset = players_and_teams.merge(basic_info, how='inner', on=['player', 'team'])\n",
    "final_dataset.shape"
   ]
  },
  {
   "cell_type": "code",
   "execution_count": 2103,
   "metadata": {
    "hidden": true
   },
   "outputs": [
    {
     "data": {
      "text/html": [
       "<div>\n",
       "<style scoped>\n",
       "    .dataframe tbody tr th:only-of-type {\n",
       "        vertical-align: middle;\n",
       "    }\n",
       "\n",
       "    .dataframe tbody tr th {\n",
       "        vertical-align: top;\n",
       "    }\n",
       "\n",
       "    .dataframe thead th {\n",
       "        text-align: right;\n",
       "    }\n",
       "</style>\n",
       "<table border=\"1\" class=\"dataframe\">\n",
       "  <thead>\n",
       "    <tr style=\"text-align: right;\">\n",
       "      <th></th>\n",
       "      <th>current_value</th>\n",
       "      <th>highest_value</th>\n",
       "      <th>last_team</th>\n",
       "      <th>prev_team</th>\n",
       "      <th>prev_prev_team</th>\n",
       "      <th>link</th>\n",
       "      <th>value_loss</th>\n",
       "      <th>current_log</th>\n",
       "      <th>double_trans</th>\n",
       "    </tr>\n",
       "  </thead>\n",
       "  <tbody>\n",
       "    <tr>\n",
       "      <th>0</th>\n",
       "      <td>450000</td>\n",
       "      <td>450000</td>\n",
       "      <td>Vitesse</td>\n",
       "      <td>Hull City</td>\n",
       "      <td>Hull U23</td>\n",
       "      <td>/max-clark/profil/spieler/183291</td>\n",
       "      <td>0</td>\n",
       "      <td>13.017003</td>\n",
       "      <td>2.566256</td>\n",
       "    </tr>\n",
       "    <tr>\n",
       "      <th>1</th>\n",
       "      <td>2700000</td>\n",
       "      <td>2700000</td>\n",
       "      <td>Levante</td>\n",
       "      <td>Spezia Calcio</td>\n",
       "      <td>CD Leganés</td>\n",
       "      <td>/sergio-postigo/profil/spieler/158791</td>\n",
       "      <td>0</td>\n",
       "      <td>14.808762</td>\n",
       "      <td>2.695219</td>\n",
       "    </tr>\n",
       "    <tr>\n",
       "      <th>2</th>\n",
       "      <td>540000</td>\n",
       "      <td>630000</td>\n",
       "      <td>MSV Duisburg</td>\n",
       "      <td>VfL Osnabrück</td>\n",
       "      <td>Westf. Rhynern</td>\n",
       "      <td>/stanislav-iljutcenko/profil/spieler/191292</td>\n",
       "      <td>-90000</td>\n",
       "      <td>13.199324</td>\n",
       "      <td>2.580166</td>\n",
       "    </tr>\n",
       "    <tr>\n",
       "      <th>3</th>\n",
       "      <td>6750000</td>\n",
       "      <td>6750000</td>\n",
       "      <td>Boca Juniors</td>\n",
       "      <td>CD Cruz Azul</td>\n",
       "      <td>Lanús</td>\n",
       "      <td>/ivan-marcone/profil/spieler/90451</td>\n",
       "      <td>0</td>\n",
       "      <td>15.725053</td>\n",
       "      <td>2.755255</td>\n",
       "    </tr>\n",
       "    <tr>\n",
       "      <th>4</th>\n",
       "      <td>6300000</td>\n",
       "      <td>6300000</td>\n",
       "      <td>Montpellier</td>\n",
       "      <td>FC Metz</td>\n",
       "      <td>US Créteil</td>\n",
       "      <td>/florent-mollet/profil/spieler/222859</td>\n",
       "      <td>0</td>\n",
       "      <td>15.656060</td>\n",
       "      <td>2.750858</td>\n",
       "    </tr>\n",
       "  </tbody>\n",
       "</table>\n",
       "</div>"
      ],
      "text/plain": [
       "   current_value  highest_value     last_team      prev_team  prev_prev_team  \\\n",
       "0         450000         450000       Vitesse      Hull City        Hull U23   \n",
       "1        2700000        2700000       Levante  Spezia Calcio      CD Leganés   \n",
       "2         540000         630000  MSV Duisburg  VfL Osnabrück  Westf. Rhynern   \n",
       "3        6750000        6750000  Boca Juniors   CD Cruz Azul           Lanús   \n",
       "4        6300000        6300000   Montpellier        FC Metz      US Créteil   \n",
       "\n",
       "                                          link  value_loss  current_log  \\\n",
       "0             /max-clark/profil/spieler/183291           0    13.017003   \n",
       "1        /sergio-postigo/profil/spieler/158791           0    14.808762   \n",
       "2  /stanislav-iljutcenko/profil/spieler/191292      -90000    13.199324   \n",
       "3           /ivan-marcone/profil/spieler/90451           0    15.725053   \n",
       "4        /florent-mollet/profil/spieler/222859           0    15.656060   \n",
       "\n",
       "   double_trans  \n",
       "0      2.566256  \n",
       "1      2.695219  \n",
       "2      2.580166  \n",
       "3      2.755255  \n",
       "4      2.750858  "
      ]
     },
     "execution_count": 2103,
     "metadata": {},
     "output_type": "execute_result"
    }
   ],
   "source": [
    "market_value.head()"
   ]
  },
  {
   "cell_type": "code",
   "execution_count": 2104,
   "metadata": {
    "hidden": true
   },
   "outputs": [],
   "source": [
    "# Merging market value\n",
    "\n",
    "market_value.drop(['last_team','prev_team','prev_prev_team','current_value','value_loss'],axis=1,inplace=True)\n",
    "market_value=market_value.rename(columns = {'link':'player_link_tm'})\n",
    "final_dataset = final_dataset.merge(market_value, how='inner', on='player_link_tm')"
   ]
  },
  {
   "cell_type": "code",
   "execution_count": 2105,
   "metadata": {
    "hidden": true
   },
   "outputs": [
    {
     "data": {
      "text/plain": [
       "(1204, 23)"
      ]
     },
     "execution_count": 2105,
     "metadata": {},
     "output_type": "execute_result"
    }
   ],
   "source": [
    "# Merging player apps and rank\n",
    "\n",
    "players_app_and_rank.columns = ['player_link_tm', 'nationality', 'minutes', 'type_agent', 'pond_min']\n",
    "final_dataset = final_dataset.merge(players_app_and_rank, how='inner', on='player_link_tm')\n",
    "final_dataset.shape"
   ]
  },
  {
   "cell_type": "code",
   "execution_count": 2106,
   "metadata": {
    "hidden": true
   },
   "outputs": [
    {
     "data": {
      "text/plain": [
       "(1204, 27)"
      ]
     },
     "execution_count": 2106,
     "metadata": {},
     "output_type": "execute_result"
    }
   ],
   "source": [
    "# Merging injuries data\n",
    "\n",
    "injuries_and_age=injuries_and_age.rename(columns = {'link':'player_link_tm'})\n",
    "final_dataset = final_dataset.merge(injuries_and_age, how='inner', on='player_link_tm')\n",
    "final_dataset.shape"
   ]
  },
  {
   "cell_type": "code",
   "execution_count": 2107,
   "metadata": {
    "hidden": true
   },
   "outputs": [
    {
     "data": {
      "text/plain": [
       "(1212, 30)"
      ]
     },
     "execution_count": 2107,
     "metadata": {},
     "output_type": "execute_result"
    }
   ],
   "source": [
    "# Merging google data\n",
    "\n",
    "google_results=google_results.rename(columns = {'link':'player_link_tm'})\n",
    "final_dataset = final_dataset.merge(google_results, how='inner', on='player_link_tm')\n",
    "final_dataset.shape"
   ]
  },
  {
   "cell_type": "code",
   "execution_count": 2108,
   "metadata": {
    "hidden": true
   },
   "outputs": [
    {
     "data": {
      "text/plain": [
       "(1212, 30)"
      ]
     },
     "execution_count": 2108,
     "metadata": {},
     "output_type": "execute_result"
    }
   ],
   "source": [
    "# Some extra cleaning for the twitter data\n",
    "\n",
    "twitter_thing['player_link_clean'] = [str(x).replace('0 ','') for x in twitter_thing.Link]\n",
    "twitter_thing.drop(['Link','Positive','Negative','Neutral','Keyword'], axis=1, inplace=True)\n",
    "final_dataset.shape"
   ]
  },
  {
   "cell_type": "code",
   "execution_count": 2109,
   "metadata": {
    "hidden": true,
    "scrolled": true
   },
   "outputs": [
    {
     "data": {
      "text/plain": [
       "(1212, 31)"
      ]
     },
     "execution_count": 2109,
     "metadata": {},
     "output_type": "execute_result"
    }
   ],
   "source": [
    "# Merging twitter data\n",
    "\n",
    "twitter_thing['player_link_ws'] = [re.findall(r'\\S+(?=\\n1)', x)[0] for x in twitter_thing.player_link_clean]\n",
    "twitter_thing.drop('player_link_clean',axis=1,inplace=True)\n",
    "final_dataset = final_dataset.merge(twitter_thing, how='left', on='player_link_ws')\n",
    "final_dataset.tw_index.fillna(0,inplace=True)\n",
    "final_dataset.shape"
   ]
  },
  {
   "cell_type": "code",
   "execution_count": 2110,
   "metadata": {
    "hidden": true
   },
   "outputs": [
    {
     "data": {
      "text/plain": [
       "(1155, 93)"
      ]
     },
     "execution_count": 2110,
     "metadata": {},
     "output_type": "execute_result"
    }
   ],
   "source": [
    "# Merging stats\n",
    "\n",
    "stats=stats.rename(columns = {'link':'player_link_ws'})\n",
    "final_dataset = final_dataset.merge(stats, how='inner', on='player_link_ws')\n",
    "final_dataset.shape"
   ]
  },
  {
   "cell_type": "code",
   "execution_count": 2111,
   "metadata": {
    "hidden": true
   },
   "outputs": [
    {
     "data": {
      "text/plain": [
       "(1171, 116)"
      ]
     },
     "execution_count": 2111,
     "metadata": {},
     "output_type": "execute_result"
    }
   ],
   "source": [
    "# Merging awards\n",
    "\n",
    "awards=awards.rename(columns = {'link':'player_link_tm'})\n",
    "final_dataset = final_dataset.merge(awards, how='inner', on='player_link_tm')\n",
    "final_dataset.shape"
   ]
  },
  {
   "cell_type": "code",
   "execution_count": 2113,
   "metadata": {
    "hidden": true
   },
   "outputs": [],
   "source": [
    "final_dataset.drop_duplicates(subset=['player_link_tm','player_link_ws'], inplace=True)"
   ]
  },
  {
   "cell_type": "markdown",
   "metadata": {
    "heading_collapsed": true
   },
   "source": [
    "### Droping and dummifying"
   ]
  },
  {
   "cell_type": "code",
   "execution_count": 2114,
   "metadata": {
    "hidden": true
   },
   "outputs": [],
   "source": [
    "complete_dataset = final_dataset.copy()"
   ]
  },
  {
   "cell_type": "code",
   "execution_count": 2115,
   "metadata": {
    "hidden": true
   },
   "outputs": [],
   "source": [
    "final_dataset = final_dataset.rename(columns = {'minutes':'nat_team_min', \n",
    "                                                'pond_min': 'nat_team_min_pond',\n",
    "                                               'results': 'google_res',\n",
    "                                               'res_stand': 'stand_goog_res'})"
   ]
  },
  {
   "cell_type": "code",
   "execution_count": 2116,
   "metadata": {
    "hidden": true
   },
   "outputs": [],
   "source": [
    "final_dataset.to_csv(r'/Users/gonzaloferreiro/Documents/GA_Materials/DS_Inmersive/DSI8-lessons/projects/project-capstone/Moving_forward/Final_datasets/Working_files/final_with_clubes.csv',index=False)"
   ]
  },
  {
   "cell_type": "code",
   "execution_count": 2117,
   "metadata": {
    "hidden": true
   },
   "outputs": [],
   "source": [
    "final_link_ws = final_dataset.pop('player_link_ws')"
   ]
  },
  {
   "cell_type": "code",
   "execution_count": 2118,
   "metadata": {
    "hidden": true
   },
   "outputs": [],
   "source": [
    "final_link_tm = final_dataset.pop('player_link_tm')"
   ]
  },
  {
   "cell_type": "code",
   "execution_count": 2119,
   "metadata": {
    "hidden": true
   },
   "outputs": [
    {
     "data": {
      "text/plain": [
       "(1140, 114)"
      ]
     },
     "execution_count": 2119,
     "metadata": {},
     "output_type": "execute_result"
    }
   ],
   "source": [
    "final_dataset.shape"
   ]
  },
  {
   "cell_type": "code",
   "execution_count": 2120,
   "metadata": {
    "hidden": true
   },
   "outputs": [],
   "source": [
    "final_dataset.drop(['player','lastname','team','team_country',\n",
    "                   'team_ws_link','team_tm_link','position','nationality','search','last_team_x',\n",
    "                   'last_team_y', 'last_team', 'last_season'], axis=1, inplace=True)"
   ]
  },
  {
   "cell_type": "code",
   "execution_count": 2121,
   "metadata": {
    "hidden": true
   },
   "outputs": [],
   "source": [
    "numeric_final_features = final_dataset.select_dtypes(np.number)"
   ]
  },
  {
   "cell_type": "code",
   "execution_count": 2122,
   "metadata": {
    "hidden": true
   },
   "outputs": [],
   "source": [
    "string_final_features = final_dataset.select_dtypes(exclude=np.number)"
   ]
  },
  {
   "cell_type": "code",
   "execution_count": 2123,
   "metadata": {
    "hidden": true
   },
   "outputs": [
    {
     "data": {
      "text/plain": [
       "Index(['team_clas', 'league', 'pos_def', 'pref_side', 'type_agent',\n",
       "       'age_group'],\n",
       "      dtype='object')"
      ]
     },
     "execution_count": 2123,
     "metadata": {},
     "output_type": "execute_result"
    }
   ],
   "source": [
    "string_final_features.columns"
   ]
  },
  {
   "cell_type": "code",
   "execution_count": 2124,
   "metadata": {
    "hidden": true
   },
   "outputs": [],
   "source": [
    "dum_string_final_features = pd.get_dummies(string_final_features, drop_first=True)"
   ]
  },
  {
   "cell_type": "code",
   "execution_count": 2125,
   "metadata": {
    "hidden": true
   },
   "outputs": [],
   "source": [
    "dum_final = pd.concat([dum_string_final_features, numeric_final_features], axis=1, ignore_index=False)"
   ]
  },
  {
   "cell_type": "code",
   "execution_count": 2126,
   "metadata": {
    "hidden": true
   },
   "outputs": [
    {
     "data": {
      "text/plain": [
       "(1140, 129)"
      ]
     },
     "execution_count": 2126,
     "metadata": {},
     "output_type": "execute_result"
    }
   ],
   "source": [
    "dum_final.shape"
   ]
  },
  {
   "cell_type": "code",
   "execution_count": 2127,
   "metadata": {
    "hidden": true
   },
   "outputs": [],
   "source": [
    "dum_final.reset_index(inplace=True,drop=True)"
   ]
  },
  {
   "cell_type": "code",
   "execution_count": 2128,
   "metadata": {
    "hidden": true
   },
   "outputs": [],
   "source": [
    "dum_final.to_csv(r'/Users/gonzaloferreiro/Documents/GA_Materials/DS_Inmersive/DSI8-lessons/projects/project-capstone/Moving_forward/Final_datasets/Working_files/dum_final.csv', index=False)"
   ]
  },
  {
   "cell_type": "code",
   "execution_count": 2129,
   "metadata": {
    "hidden": true
   },
   "outputs": [],
   "source": [
    "dum_final = pd.read_csv('/Users/gonzaloferreiro/Documents/GA_Materials/DS_Inmersive/DSI8-lessons/projects/project-capstone/Moving_forward/Final_datasets/Working_files/dum_final.csv')"
   ]
  },
  {
   "cell_type": "code",
   "execution_count": 2130,
   "metadata": {
    "hidden": true
   },
   "outputs": [
    {
     "data": {
      "text/plain": [
       "(1140, 129)"
      ]
     },
     "execution_count": 2130,
     "metadata": {},
     "output_type": "execute_result"
    }
   ],
   "source": [
    "dum_final.shape"
   ]
  },
  {
   "cell_type": "markdown",
   "metadata": {
    "heading_collapsed": true
   },
   "source": [
    "### Models on teams"
   ]
  },
  {
   "cell_type": "markdown",
   "metadata": {
    "hidden": true
   },
   "source": [
    "Based on a project from Tilburg University about the same topic, I decided to create a dataset just with the dummy variables out of the last three teams were each player played"
   ]
  },
  {
   "cell_type": "markdown",
   "metadata": {
    "heading_collapsed": true,
    "hidden": true
   },
   "source": [
    "#### Simple linear regression"
   ]
  },
  {
   "cell_type": "code",
   "execution_count": 258,
   "metadata": {
    "hidden": true
   },
   "outputs": [],
   "source": [
    "complete_market_value_df = pd.read_csv('Final_datasets/Cleaned_data/Market_value.csv')"
   ]
  },
  {
   "cell_type": "code",
   "execution_count": 259,
   "metadata": {
    "hidden": true
   },
   "outputs": [
    {
     "data": {
      "text/html": [
       "<div>\n",
       "<style scoped>\n",
       "    .dataframe tbody tr th:only-of-type {\n",
       "        vertical-align: middle;\n",
       "    }\n",
       "\n",
       "    .dataframe tbody tr th {\n",
       "        vertical-align: top;\n",
       "    }\n",
       "\n",
       "    .dataframe thead th {\n",
       "        text-align: right;\n",
       "    }\n",
       "</style>\n",
       "<table border=\"1\" class=\"dataframe\">\n",
       "  <thead>\n",
       "    <tr style=\"text-align: right;\">\n",
       "      <th></th>\n",
       "      <th>current_value</th>\n",
       "      <th>highest_value</th>\n",
       "      <th>last_team</th>\n",
       "      <th>prev_team</th>\n",
       "      <th>prev_prev_team</th>\n",
       "      <th>link</th>\n",
       "      <th>value_loss</th>\n",
       "      <th>current_log</th>\n",
       "      <th>double_trans</th>\n",
       "    </tr>\n",
       "  </thead>\n",
       "  <tbody>\n",
       "    <tr>\n",
       "      <th>0</th>\n",
       "      <td>450000</td>\n",
       "      <td>450000</td>\n",
       "      <td>Vitesse</td>\n",
       "      <td>Hull City</td>\n",
       "      <td>Hull U23</td>\n",
       "      <td>/max-clark/profil/spieler/183291</td>\n",
       "      <td>0</td>\n",
       "      <td>13.017003</td>\n",
       "      <td>2.566256</td>\n",
       "    </tr>\n",
       "    <tr>\n",
       "      <th>1</th>\n",
       "      <td>2700000</td>\n",
       "      <td>2700000</td>\n",
       "      <td>Levante</td>\n",
       "      <td>Spezia Calcio</td>\n",
       "      <td>CD Leganés</td>\n",
       "      <td>/sergio-postigo/profil/spieler/158791</td>\n",
       "      <td>0</td>\n",
       "      <td>14.808762</td>\n",
       "      <td>2.695219</td>\n",
       "    </tr>\n",
       "    <tr>\n",
       "      <th>2</th>\n",
       "      <td>540000</td>\n",
       "      <td>630000</td>\n",
       "      <td>MSV Duisburg</td>\n",
       "      <td>VfL Osnabrück</td>\n",
       "      <td>Westf. Rhynern</td>\n",
       "      <td>/stanislav-iljutcenko/profil/spieler/191292</td>\n",
       "      <td>-90000</td>\n",
       "      <td>13.199324</td>\n",
       "      <td>2.580166</td>\n",
       "    </tr>\n",
       "    <tr>\n",
       "      <th>3</th>\n",
       "      <td>6750000</td>\n",
       "      <td>6750000</td>\n",
       "      <td>Boca Juniors</td>\n",
       "      <td>CD Cruz Azul</td>\n",
       "      <td>Lanús</td>\n",
       "      <td>/ivan-marcone/profil/spieler/90451</td>\n",
       "      <td>0</td>\n",
       "      <td>15.725053</td>\n",
       "      <td>2.755255</td>\n",
       "    </tr>\n",
       "    <tr>\n",
       "      <th>4</th>\n",
       "      <td>6300000</td>\n",
       "      <td>6300000</td>\n",
       "      <td>Montpellier</td>\n",
       "      <td>FC Metz</td>\n",
       "      <td>US Créteil</td>\n",
       "      <td>/florent-mollet/profil/spieler/222859</td>\n",
       "      <td>0</td>\n",
       "      <td>15.656060</td>\n",
       "      <td>2.750858</td>\n",
       "    </tr>\n",
       "  </tbody>\n",
       "</table>\n",
       "</div>"
      ],
      "text/plain": [
       "   current_value  highest_value     last_team      prev_team  prev_prev_team  \\\n",
       "0         450000         450000       Vitesse      Hull City        Hull U23   \n",
       "1        2700000        2700000       Levante  Spezia Calcio      CD Leganés   \n",
       "2         540000         630000  MSV Duisburg  VfL Osnabrück  Westf. Rhynern   \n",
       "3        6750000        6750000  Boca Juniors   CD Cruz Azul           Lanús   \n",
       "4        6300000        6300000   Montpellier        FC Metz      US Créteil   \n",
       "\n",
       "                                          link  value_loss  current_log  \\\n",
       "0             /max-clark/profil/spieler/183291           0    13.017003   \n",
       "1        /sergio-postigo/profil/spieler/158791           0    14.808762   \n",
       "2  /stanislav-iljutcenko/profil/spieler/191292      -90000    13.199324   \n",
       "3           /ivan-marcone/profil/spieler/90451           0    15.725053   \n",
       "4        /florent-mollet/profil/spieler/222859           0    15.656060   \n",
       "\n",
       "   double_trans  \n",
       "0      2.566256  \n",
       "1      2.695219  \n",
       "2      2.580166  \n",
       "3      2.755255  \n",
       "4      2.750858  "
      ]
     },
     "execution_count": 259,
     "metadata": {},
     "output_type": "execute_result"
    }
   ],
   "source": [
    "complete_market_value_df.head()"
   ]
  },
  {
   "cell_type": "code",
   "execution_count": 260,
   "metadata": {
    "hidden": true
   },
   "outputs": [],
   "source": [
    "y_teams = complete_market_value_df.pop('current_log')"
   ]
  },
  {
   "cell_type": "code",
   "execution_count": 261,
   "metadata": {
    "hidden": true
   },
   "outputs": [],
   "source": [
    "complete_market_value_df = complete_market_value_df[['last_team','prev_team','prev_prev_team']]"
   ]
  },
  {
   "cell_type": "code",
   "execution_count": 262,
   "metadata": {
    "hidden": true
   },
   "outputs": [],
   "source": [
    "dum_complete_market_value_df = pd.get_dummies(complete_market_value_df,drop_first=True)"
   ]
  },
  {
   "cell_type": "code",
   "execution_count": 263,
   "metadata": {
    "hidden": true
   },
   "outputs": [
    {
     "data": {
      "text/plain": [
       "(1200, 1639)"
      ]
     },
     "execution_count": 263,
     "metadata": {},
     "output_type": "execute_result"
    }
   ],
   "source": [
    "dum_complete_market_value_df.shape"
   ]
  },
  {
   "cell_type": "code",
   "execution_count": 264,
   "metadata": {
    "hidden": true
   },
   "outputs": [],
   "source": [
    "X_train_teams, X_test_teams, y_train_teams, y_test_teams = train_test_split(\n",
    "dum_complete_market_value_df, y_teams, test_size = 0.20, random_state=123)"
   ]
  },
  {
   "cell_type": "code",
   "execution_count": 268,
   "metadata": {
    "hidden": true
   },
   "outputs": [],
   "source": [
    "scaler = StandardScaler()\n",
    "X_train_teams_std = scaler.fit_transform(X_train_teams)\n",
    "X_test_teams_std = scaler.transform(X_test_teams)"
   ]
  },
  {
   "cell_type": "code",
   "execution_count": 269,
   "metadata": {
    "hidden": true
   },
   "outputs": [
    {
     "name": "stdout",
     "output_type": "stream",
     "text": [
      "Mean cross-validated training score: -3.851967926384291e+27\n",
      "Training score: 0.8652943787405634\n",
      "Test score: -4.10808403630116e+27\n"
     ]
    }
   ],
   "source": [
    "reg_teams = LinearRegression()\n",
    "reg_teams.fit(X_train_teams, y_train_teams)\n",
    "\n",
    "scores = cross_val_score(reg_teams, X_train_teams, y_train_teams, cv=5)\n",
    "print('Mean cross-validated training score:', scores.mean())\n",
    "\n",
    "print('Training score:', reg_teams.score(X_train_teams, y_train_teams))\n",
    "\n",
    "print('Test score:', reg_teams.score(X_test_teams, y_test_teams))"
   ]
  },
  {
   "cell_type": "markdown",
   "metadata": {
    "heading_collapsed": true,
    "hidden": true
   },
   "source": [
    "#### Ridge"
   ]
  },
  {
   "cell_type": "code",
   "execution_count": 270,
   "metadata": {
    "hidden": true
   },
   "outputs": [],
   "source": [
    "def alpha_scores(model, alpha_values, X_train, y_train):\n",
    "    scores = []\n",
    "    for alpha in alpha_values:\n",
    "        model_ = model(alpha)\n",
    "        scores.append(np.mean(cross_val_score(\n",
    "            model_, X_train, y_train, cv=5)))\n",
    "    return scores"
   ]
  },
  {
   "cell_type": "code",
   "execution_count": 271,
   "metadata": {
    "hidden": true
   },
   "outputs": [
    {
     "data": {
      "image/png": "[encoded data removed]",
      "text/plain": [
       "<Figure size 432x288 with 1 Axes>"
      ]
     },
     "metadata": {
      "needs_background": "light"
     },
     "output_type": "display_data"
    }
   ],
   "source": [
    "alpha_values = np.logspace(2,3,20)\n",
    "scores = alpha_scores(Ridge, alpha_values, X_train_teams, y_train_teams)\n",
    "\n",
    "plt.plot(alpha_values, [score for score in scores], lw=2)\n",
    "plt.ylabel('R2')\n",
    "plt.show()"
   ]
  },
  {
   "cell_type": "code",
   "execution_count": 215,
   "metadata": {
    "hidden": true
   },
   "outputs": [
    {
     "name": "stdout",
     "output_type": "stream",
     "text": [
      "Best alpha: 263.6650898730358\n",
      "Training score: 0.9493207456398254\n",
      "Test score: 0.3282533385099068\n",
      "Mean cross-validated training score: 0.33832415353733525\n"
     ]
    }
   ],
   "source": [
    "model_ridge_teams = RidgeCV(alphas=np.logspace(2,3,20), cv=5)\n",
    "\n",
    "model_ridge_teams.fit(X_train_teams, y_train_teams)\n",
    "\n",
    "print('Best alpha:', model_ridge_teams.alpha_)\n",
    "\n",
    "print('Training score:', model_ridge_teams.score(X_train_teams, y_train_teams))\n",
    "\n",
    "print('Test score:', model_ridge_teams.score(X_test_teams, y_test_teams))\n",
    "\n",
    "scores = cross_val_score(model_ridge_teams, X_train_teams, y_train_teams, cv=5)\n",
    "print('Mean cross-validated training score:', scores.mean())"
   ]
  },
  {
   "cell_type": "markdown",
   "metadata": {
    "heading_collapsed": true,
    "hidden": true
   },
   "source": [
    "#### Lasso"
   ]
  },
  {
   "cell_type": "code",
   "execution_count": 219,
   "metadata": {
    "hidden": true
   },
   "outputs": [
    {
     "data": {
      "image/png": "[encoded data removed]",
      "text/plain": [
       "<Figure size 432x288 with 1 Axes>"
      ]
     },
     "metadata": {
      "needs_background": "light"
     },
     "output_type": "display_data"
    }
   ],
   "source": [
    "alpha_values = np.logspace(-2,-1,10)\n",
    "scores = alpha_scores(Lasso, alpha_values, X_train_teams, y_train_teams)\n",
    "\n",
    "plt.plot(alpha_values, [score for score in scores], lw=2)\n",
    "plt.ylabel('R2')\n",
    "plt.show()"
   ]
  },
  {
   "cell_type": "code",
   "execution_count": 220,
   "metadata": {
    "hidden": true,
    "scrolled": true
   },
   "outputs": [
    {
     "name": "stdout",
     "output_type": "stream",
     "text": [
      "Best alpha: 0.016681005372000592\n",
      "Training score: 0.888793855959153\n",
      "Test score: 0.3682101993544653\n",
      "Mean cross-validated training score: 0.4011296137536185\n"
     ]
    }
   ],
   "source": [
    "lasso_model_teams = LassoCV(alphas=np.logspace(-2,-1,10), cv=5, \n",
    "                      tol=0.1, fit_intercept=True)\n",
    "\n",
    "lasso_model_teams.fit(X_train_teams, y_train_teams)\n",
    "\n",
    "print('Best alpha:', lasso_model_teams.alpha_)\n",
    "\n",
    "print('Training score:', lasso_model_teams.score(X_train_teams, y_train_teams))\n",
    "\n",
    "print('Test score:', lasso_model_teams.score(X_test_teams, y_test_teams))\n",
    "\n",
    "scores = cross_val_score(lasso_model_teams, X_train_teams, y_train_teams, cv=5)\n",
    "print('Mean cross-validated training score:', scores.mean())"
   ]
  },
  {
   "cell_type": "markdown",
   "metadata": {
    "heading_collapsed": true,
    "hidden": true
   },
   "source": [
    "#### Feature importance"
   ]
  },
  {
   "cell_type": "code",
   "execution_count": 221,
   "metadata": {
    "hidden": true
   },
   "outputs": [
    {
     "data": {
      "text/html": [
       "<div>\n",
       "<style scoped>\n",
       "    .dataframe tbody tr th:only-of-type {\n",
       "        vertical-align: middle;\n",
       "    }\n",
       "\n",
       "    .dataframe tbody tr th {\n",
       "        vertical-align: top;\n",
       "    }\n",
       "\n",
       "    .dataframe thead th {\n",
       "        text-align: right;\n",
       "    }\n",
       "</style>\n",
       "<table border=\"1\" class=\"dataframe\">\n",
       "  <thead>\n",
       "    <tr style=\"text-align: right;\">\n",
       "      <th></th>\n",
       "      <th>coef</th>\n",
       "      <th>variable</th>\n",
       "      <th>coef_abs</th>\n",
       "    </tr>\n",
       "  </thead>\n",
       "  <tbody>\n",
       "    <tr>\n",
       "      <th>105</th>\n",
       "      <td>0.238912</td>\n",
       "      <td>last_team_FC Barcelona</td>\n",
       "      <td>0.238912</td>\n",
       "    </tr>\n",
       "    <tr>\n",
       "      <th>209</th>\n",
       "      <td>0.197091</td>\n",
       "      <td>last_team_RB Leipzig</td>\n",
       "      <td>0.197091</td>\n",
       "    </tr>\n",
       "    <tr>\n",
       "      <th>21</th>\n",
       "      <td>0.196315</td>\n",
       "      <td>last_team_Arsenal</td>\n",
       "      <td>0.196315</td>\n",
       "    </tr>\n",
       "    <tr>\n",
       "      <th>166</th>\n",
       "      <td>0.182069</td>\n",
       "      <td>last_team_Liverpool</td>\n",
       "      <td>0.182069</td>\n",
       "    </tr>\n",
       "    <tr>\n",
       "      <th>255</th>\n",
       "      <td>0.174962</td>\n",
       "      <td>last_team_Spurs</td>\n",
       "      <td>0.174962</td>\n",
       "    </tr>\n",
       "  </tbody>\n",
       "</table>\n",
       "</div>"
      ],
      "text/plain": [
       "         coef                variable  coef_abs\n",
       "105  0.238912  last_team_FC Barcelona  0.238912\n",
       "209  0.197091    last_team_RB Leipzig  0.197091\n",
       "21   0.196315       last_team_Arsenal  0.196315\n",
       "166  0.182069     last_team_Liverpool  0.182069\n",
       "255  0.174962         last_team_Spurs  0.174962"
      ]
     },
     "execution_count": 221,
     "metadata": {},
     "output_type": "execute_result"
    }
   ],
   "source": [
    "df_coef_teams = pd.DataFrame({'coef': lasso_model_teams.coef_,\n",
    "                        'variable': X_train_teams.columns,\n",
    "                        'coef_abs': np.abs(lasso_model_teams.coef_)})\n",
    "\n",
    "df_coef_teams.sort_values(by='coef_abs', ascending=False).head()"
   ]
  },
  {
   "cell_type": "code",
   "execution_count": 222,
   "metadata": {
    "hidden": true
   },
   "outputs": [
    {
     "data": {
      "image/png": "[encoded data removed]",
      "text/plain": [
       "<Figure size 864x288 with 1 Axes>"
      ]
     },
     "metadata": {
      "needs_background": "light"
     },
     "output_type": "display_data"
    }
   ],
   "source": [
    "df_coef_teams.sort_values(by='coef_abs', ascending=False).head(25). \\\n",
    "plot(kind='bar', x='variable', y='coef_abs',\n",
    "      color='b', figsize=(12,4), label='Feature imp')\n",
    "\n",
    "plt.show()"
   ]
  },
  {
   "cell_type": "code",
   "execution_count": 223,
   "metadata": {
    "hidden": true
   },
   "outputs": [
    {
     "data": {
      "image/png": "[encoded data removed]",
      "text/plain": [
       "<Figure size 864x288 with 1 Axes>"
      ]
     },
     "metadata": {
      "needs_background": "light"
     },
     "output_type": "display_data"
    }
   ],
   "source": [
    "df_coef_teams.sort_values(by='coef_abs').head(50). \\\n",
    "plot(kind='bar', x='variable', y='coef_abs',\n",
    "      color='b', figsize=(12,4), label='Feature imp')\n",
    "\n",
    "plt.show()"
   ]
  },
  {
   "cell_type": "code",
   "execution_count": 224,
   "metadata": {
    "hidden": true
   },
   "outputs": [],
   "source": [
    "df_coef_teams.sort_values(by='coef_abs', ascending=False, inplace=True)"
   ]
  },
  {
   "cell_type": "code",
   "execution_count": 225,
   "metadata": {
    "hidden": true
   },
   "outputs": [],
   "source": [
    "df_coef_teams['order'] = [x for x in range(1,len(df_coef_teams)+1)]"
   ]
  },
  {
   "cell_type": "code",
   "execution_count": 226,
   "metadata": {
    "hidden": true
   },
   "outputs": [],
   "source": [
    "shitty_vars_teams = df_coef_teams.variable[df_coef_teams.coef_abs == 0].values"
   ]
  },
  {
   "cell_type": "code",
   "execution_count": 227,
   "metadata": {
    "hidden": true
   },
   "outputs": [],
   "source": [
    "cool_vars_teams = list(df_coef_teams.variable[~df_coef_teams.variable.isin(shitty_vars_teams)])"
   ]
  },
  {
   "cell_type": "code",
   "execution_count": 234,
   "metadata": {
    "hidden": true
   },
   "outputs": [],
   "source": [
    "cool_cool_vars_teams = df_coef_teams.variable[df_coef_teams.coef_abs > 0.15].values"
   ]
  },
  {
   "cell_type": "code",
   "execution_count": 235,
   "metadata": {
    "hidden": true
   },
   "outputs": [],
   "source": [
    "filtered_teams = dum_complete_market_value_df.loc[:,cool_cool_vars_teams]"
   ]
  },
  {
   "cell_type": "code",
   "execution_count": 236,
   "metadata": {
    "hidden": true
   },
   "outputs": [
    {
     "data": {
      "text/plain": [
       "(1200, 8)"
      ]
     },
     "execution_count": 236,
     "metadata": {},
     "output_type": "execute_result"
    }
   ],
   "source": [
    "filtered_teams.shape"
   ]
  },
  {
   "cell_type": "markdown",
   "metadata": {
    "heading_collapsed": true,
    "hidden": true
   },
   "source": [
    "#### Setting up data for mega dataset (used later)"
   ]
  },
  {
   "cell_type": "code",
   "execution_count": 396,
   "metadata": {
    "hidden": true
   },
   "outputs": [],
   "source": [
    "for_link = pd.read_csv('Final_datasets/Cleaned_data/Market_value.csv')"
   ]
  },
  {
   "cell_type": "code",
   "execution_count": 397,
   "metadata": {
    "hidden": true
   },
   "outputs": [],
   "source": [
    "y_teams_look = pd.concat([y_teams, for_link.link],axis=1)"
   ]
  },
  {
   "cell_type": "code",
   "execution_count": 398,
   "metadata": {
    "hidden": true
   },
   "outputs": [],
   "source": [
    "filtered_teams_wlink = filtered_teams.copy()"
   ]
  },
  {
   "cell_type": "code",
   "execution_count": 399,
   "metadata": {
    "hidden": true
   },
   "outputs": [],
   "source": [
    "filtered_teams_wlink['link'] = for_link.link"
   ]
  },
  {
   "cell_type": "code",
   "execution_count": 400,
   "metadata": {
    "hidden": true
   },
   "outputs": [
    {
     "data": {
      "text/plain": [
       "(1200, 9)"
      ]
     },
     "execution_count": 400,
     "metadata": {},
     "output_type": "execute_result"
    }
   ],
   "source": [
    "filtered_teams_wlink.shape"
   ]
  },
  {
   "cell_type": "markdown",
   "metadata": {
    "heading_collapsed": true
   },
   "source": [
    "### Complete final dataset (all the features excepting teams)"
   ]
  },
  {
   "cell_type": "markdown",
   "metadata": {
    "heading_collapsed": true,
    "hidden": true
   },
   "source": [
    "#### Linear Regression"
   ]
  },
  {
   "cell_type": "code",
   "execution_count": 1559,
   "metadata": {
    "hidden": true
   },
   "outputs": [],
   "source": [
    "y_2 = dum_final.pop('double_trans')"
   ]
  },
  {
   "cell_type": "code",
   "execution_count": 1560,
   "metadata": {
    "hidden": true
   },
   "outputs": [],
   "source": [
    "y = dum_final.pop('current_log')"
   ]
  },
  {
   "cell_type": "code",
   "execution_count": 1561,
   "metadata": {
    "hidden": true
   },
   "outputs": [],
   "source": [
    "X_train, X_test, y_train, y_test = train_test_split(\n",
    "dum_final, y, test_size = 0.20, random_state=123)"
   ]
  },
  {
   "cell_type": "code",
   "execution_count": 1562,
   "metadata": {
    "hidden": true
   },
   "outputs": [],
   "source": [
    "scaler = StandardScaler()\n",
    "X_train_std = pd.DataFrame(scaler.fit_transform(X_train),columns=X_train.columns,index=X_train.index)\n",
    "X_test_std = pd.DataFrame(scaler.transform(X_test),columns=X_test.columns,index=X_test.index)"
   ]
  },
  {
   "cell_type": "code",
   "execution_count": 1563,
   "metadata": {
    "hidden": true
   },
   "outputs": [
    {
     "data": {
      "text/plain": [
       "LinearRegression(copy_X=True, fit_intercept=True, n_jobs=None,\n",
       "         normalize=False)"
      ]
     },
     "execution_count": 1563,
     "metadata": {},
     "output_type": "execute_result"
    }
   ],
   "source": [
    "simple_linear = LinearRegression()\n",
    "\n",
    "simple_linear.fit(X_train, y_train)"
   ]
  },
  {
   "cell_type": "code",
   "execution_count": 1578,
   "metadata": {
    "hidden": true
   },
   "outputs": [
    {
     "name": "stdout",
     "output_type": "stream",
     "text": [
      "Mean cross-validated training score: 0.6772519544733198\n"
     ]
    }
   ],
   "source": [
    "scores = cross_val_score(simple_linear, X_train, y_train, cv=5)\n",
    "print('Mean cross-validated training score:',np.mean(scores))"
   ]
  },
  {
   "cell_type": "code",
   "execution_count": 1579,
   "metadata": {
    "hidden": true
   },
   "outputs": [
    {
     "name": "stdout",
     "output_type": "stream",
     "text": [
      "Training score: 0.8189015878646291\n",
      "Test score: 0.7266894981425448\n"
     ]
    }
   ],
   "source": [
    "print('Training score:', simple_linear.score(X_train, y_train))\n",
    "\n",
    "print('Test score:', simple_linear.score(X_test, y_test))"
   ]
  },
  {
   "cell_type": "code",
   "execution_count": 1580,
   "metadata": {
    "hidden": true
   },
   "outputs": [],
   "source": [
    "X_train_2, X_test_2, y_train_2, y_test_2 = train_test_split(\n",
    "dum_final, y_2, test_size = 0.20, random_state=123)"
   ]
  },
  {
   "cell_type": "code",
   "execution_count": 1581,
   "metadata": {
    "hidden": true
   },
   "outputs": [],
   "source": [
    "scaler = StandardScaler()\n",
    "X_train_2_std = pd.DataFrame(scaler.fit_transform(X_train_2),columns=X_train.columns, index=X_train.index)\n",
    "X_test_2_std = pd.DataFrame(scaler.transform(X_test_2),columns=X_train.columns, index=X_test.index)"
   ]
  },
  {
   "cell_type": "code",
   "execution_count": 1582,
   "metadata": {
    "hidden": true
   },
   "outputs": [
    {
     "name": "stdout",
     "output_type": "stream",
     "text": [
      "Mean cross-validated training score: 0.6566721205858428\n",
      "Training score: 0.8014235993343232\n",
      "Test score: 0.6839832308493485\n"
     ]
    }
   ],
   "source": [
    "test_model = LinearRegression()\n",
    "test_model.fit(X_train_2, y_train_2)\n",
    "\n",
    "scores = cross_val_score(test_model, X_train_2, y_train_2, cv=5)\n",
    "print('Mean cross-validated training score:', scores.mean())\n",
    "\n",
    "print('Training score:', test_model.score(X_train_2, y_train_2))\n",
    "\n",
    "print('Test score:', test_model.score(X_test_2, y_test_2))"
   ]
  },
  {
   "cell_type": "markdown",
   "metadata": {
    "heading_collapsed": true,
    "hidden": true
   },
   "source": [
    "#### Ridge"
   ]
  },
  {
   "cell_type": "code",
   "execution_count": 1598,
   "metadata": {
    "hidden": true
   },
   "outputs": [
    {
     "data": {
      "image/png": "[encoded data removed]",
      "text/plain": [
       "<Figure size 432x288 with 1 Axes>"
      ]
     },
     "metadata": {
      "needs_background": "light"
     },
     "output_type": "display_data"
    }
   ],
   "source": [
    "alpha_values = np.logspace(-1,3,20)\n",
    "scores = alpha_scores(Ridge, alpha_values, X_train, y_train)\n",
    "\n",
    "plt.plot(alpha_values, [score for score in scores], lw=2)\n",
    "plt.ylabel('R2')\n",
    "plt.show()"
   ]
  },
  {
   "cell_type": "code",
   "execution_count": 2262,
   "metadata": {
    "hidden": true
   },
   "outputs": [
    {
     "name": "stdout",
     "output_type": "stream",
     "text": [
      "Best alpha: 2.0691380811147893\n",
      "Training score: 0.8037531562024312\n",
      "Test score: 0.7815932567804511\n",
      "Mean cross-validated training score: 0.7205774856367155\n"
     ]
    }
   ],
   "source": [
    "# Best without standardization\n",
    "\n",
    "model_ridge = RidgeCV(alphas=np.logspace(-1,4,20), cv=5)\n",
    "\n",
    "model_ridge.fit(X_train, y_train)\n",
    "\n",
    "print('Best alpha:', model_ridge.alpha_)\n",
    "\n",
    "print('Training score:', model_ridge.score(X_train, y_train))\n",
    "\n",
    "print('Test score:', model_ridge.score(X_test, y_test))\n",
    "\n",
    "scores = cross_val_score(model_ridge, X_train, y_train, cv=5)\n",
    "print('Mean cross-validated training score:', scores.mean())"
   ]
  },
  {
   "cell_type": "code",
   "execution_count": 1601,
   "metadata": {
    "hidden": true,
    "scrolled": true
   },
   "outputs": [
    {
     "data": {
      "image/png": "[encoded data removed]",
      "text/plain": [
       "<Figure size 432x288 with 1 Axes>"
      ]
     },
     "metadata": {
      "needs_background": "light"
     },
     "output_type": "display_data"
    }
   ],
   "source": [
    "alpha_values = np.logspace(-2,2,20)\n",
    "scores = alpha_scores(Ridge, alpha_values, X_train_2, y_train_2)\n",
    "\n",
    "plt.plot(alpha_values, [score for score in scores], lw=2)\n",
    "plt.ylabel('R2')\n",
    "plt.show()"
   ]
  },
  {
   "cell_type": "code",
   "execution_count": 1602,
   "metadata": {
    "hidden": true
   },
   "outputs": [
    {
     "name": "stdout",
     "output_type": "stream",
     "text": [
      "Best alpha: 2.06913808111479\n",
      "Training score: 0.7845403226588403\n",
      "Test score: 0.7560789237176916\n",
      "Mean cross-validated training score: 0.6963123405969391\n"
     ]
    }
   ],
   "source": [
    "model_ridge_2 = RidgeCV(alphas=np.logspace(-2,2,20), cv=5)\n",
    "\n",
    "model_ridge_2.fit(X_train_2, y_train_2)\n",
    "\n",
    "print('Best alpha:', model_ridge_2.alpha_)\n",
    "\n",
    "print('Training score:', model_ridge_2.score(X_train_2, y_train_2))\n",
    "\n",
    "print('Test score:', model_ridge_2.score(X_test_2, y_test_2))\n",
    "\n",
    "scores = cross_val_score(model_ridge_2, X_train_2, y_train_2, cv=5)\n",
    "print('Mean cross-validated training score:', scores.mean())"
   ]
  },
  {
   "cell_type": "markdown",
   "metadata": {
    "heading_collapsed": true,
    "hidden": true
   },
   "source": [
    "#### Lasso"
   ]
  },
  {
   "cell_type": "markdown",
   "metadata": {
    "heading_collapsed": true,
    "hidden": true
   },
   "source": [
    "##### Modelling"
   ]
  },
  {
   "cell_type": "code",
   "execution_count": 1606,
   "metadata": {
    "hidden": true
   },
   "outputs": [
    {
     "data": {
      "image/png": "[encoded data removed]",
      "text/plain": [
       "<Figure size 432x288 with 1 Axes>"
      ]
     },
     "metadata": {
      "needs_background": "light"
     },
     "output_type": "display_data"
    }
   ],
   "source": [
    "alpha_values = np.logspace(-3,-2,20)\n",
    "scores = alpha_scores(Lasso, alpha_values, X_train, y_train)\n",
    "\n",
    "plt.plot(alpha_values, [score for score in scores], lw=2)\n",
    "plt.ylabel('R2')\n",
    "plt.show()"
   ]
  },
  {
   "cell_type": "code",
   "execution_count": 1607,
   "metadata": {
    "hidden": true
   },
   "outputs": [
    {
     "name": "stdout",
     "output_type": "stream",
     "text": [
      "Best alpha: 0.0030391953823131978\n",
      "Training score: 0.7920633354046815\n",
      "Test score: 0.7783767537263766\n",
      "Mean cross-validated training score: 0.7237116730818608\n"
     ]
    }
   ],
   "source": [
    "lasso_model = LassoCV(alphas=np.logspace(-3,-2,30), cv=5, \n",
    "                      tol=0.1, fit_intercept=True)\n",
    "\n",
    "lasso_model.fit(X_train, y_train)\n",
    "\n",
    "print('Best alpha:', lasso_model.alpha_)\n",
    "\n",
    "print('Training score:', lasso_model.score(X_train, y_train))\n",
    "\n",
    "print('Test score:', lasso_model.score(X_test, y_test))\n",
    "\n",
    "scores = cross_val_score(lasso_model, X_train, y_train, cv=5)\n",
    "print('Mean cross-validated training score:', scores.mean())"
   ]
  },
  {
   "cell_type": "code",
   "execution_count": 1608,
   "metadata": {
    "hidden": true
   },
   "outputs": [],
   "source": [
    "lasso_pred = lasso_model.predict(X_test)"
   ]
  },
  {
   "cell_type": "code",
   "execution_count": 1609,
   "metadata": {
    "hidden": true
   },
   "outputs": [],
   "source": [
    "lasso_res = y_test - lasso_pred"
   ]
  },
  {
   "cell_type": "code",
   "execution_count": 1739,
   "metadata": {
    "hidden": true
   },
   "outputs": [],
   "source": [
    "test_lasso_score = mean_squared_error(y_test, lasso_pred)"
   ]
  },
  {
   "cell_type": "code",
   "execution_count": 1740,
   "metadata": {
    "hidden": true
   },
   "outputs": [
    {
     "data": {
      "text/plain": [
       "0.47327680763431834"
      ]
     },
     "execution_count": 1740,
     "metadata": {},
     "output_type": "execute_result"
    }
   ],
   "source": [
    "test_lasso_score"
   ]
  },
  {
   "cell_type": "code",
   "execution_count": 1610,
   "metadata": {
    "hidden": true
   },
   "outputs": [],
   "source": [
    "from statsmodels.graphics.gofplots import qqplot"
   ]
  },
  {
   "cell_type": "code",
   "execution_count": 1611,
   "metadata": {
    "hidden": true
   },
   "outputs": [
    {
     "data": {
      "image/png": "[encoded data removed]",
      "text/plain": [
       "<Figure size 1080x360 with 2 Axes>"
      ]
     },
     "metadata": {
      "needs_background": "light"
     },
     "output_type": "display_data"
    }
   ],
   "source": [
    "fig, ax = plt.subplots(nrows=1, ncols=2, figsize=(15,5))\n",
    "qqplot(lasso_res, line='s', ax=ax[0]);\n",
    "sns.distplot(lasso_res, ax=ax[1]);\n",
    "plt.show()"
   ]
  },
  {
   "cell_type": "markdown",
   "metadata": {
    "heading_collapsed": true,
    "hidden": true
   },
   "source": [
    "##### Checking feature importance and filtering a new dataset"
   ]
  },
  {
   "cell_type": "code",
   "execution_count": 1613,
   "metadata": {
    "hidden": true
   },
   "outputs": [
    {
     "data": {
      "text/html": [
       "<div>\n",
       "<style scoped>\n",
       "    .dataframe tbody tr th:only-of-type {\n",
       "        vertical-align: middle;\n",
       "    }\n",
       "\n",
       "    .dataframe tbody tr th {\n",
       "        vertical-align: top;\n",
       "    }\n",
       "\n",
       "    .dataframe thead th {\n",
       "        text-align: right;\n",
       "    }\n",
       "</style>\n",
       "<table border=\"1\" class=\"dataframe\">\n",
       "  <thead>\n",
       "    <tr style=\"text-align: right;\">\n",
       "      <th></th>\n",
       "      <th>coef</th>\n",
       "      <th>variable</th>\n",
       "      <th>coef_abs</th>\n",
       "    </tr>\n",
       "  </thead>\n",
       "  <tbody>\n",
       "    <tr>\n",
       "      <th>32</th>\n",
       "      <td>-2.083036</td>\n",
       "      <td>age_group_Plus_35</td>\n",
       "      <td>2.083036</td>\n",
       "    </tr>\n",
       "    <tr>\n",
       "      <th>31</th>\n",
       "      <td>-0.806071</td>\n",
       "      <td>age_group_31-34</td>\n",
       "      <td>0.806071</td>\n",
       "    </tr>\n",
       "    <tr>\n",
       "      <th>4</th>\n",
       "      <td>-0.800565</td>\n",
       "      <td>league_Bundesliga 2 (GER)</td>\n",
       "      <td>0.800565</td>\n",
       "    </tr>\n",
       "    <tr>\n",
       "      <th>0</th>\n",
       "      <td>0.677396</td>\n",
       "      <td>team_clas_Top 10</td>\n",
       "      <td>0.677396</td>\n",
       "    </tr>\n",
       "    <tr>\n",
       "      <th>69</th>\n",
       "      <td>0.604454</td>\n",
       "      <td>last_rating</td>\n",
       "      <td>0.604454</td>\n",
       "    </tr>\n",
       "  </tbody>\n",
       "</table>\n",
       "</div>"
      ],
      "text/plain": [
       "        coef                   variable  coef_abs\n",
       "32 -2.083036          age_group_Plus_35  2.083036\n",
       "31 -0.806071            age_group_31-34  0.806071\n",
       "4  -0.800565  league_Bundesliga 2 (GER)  0.800565\n",
       "0   0.677396           team_clas_Top 10  0.677396\n",
       "69  0.604454                last_rating  0.604454"
      ]
     },
     "execution_count": 1613,
     "metadata": {},
     "output_type": "execute_result"
    }
   ],
   "source": [
    "df_coef = pd.DataFrame({'coef': lasso_model.coef_,\n",
    "                        'variable': X_train.columns,\n",
    "                        'coef_abs': np.abs(lasso_model.coef_)})\n",
    "\n",
    "df_coef.sort_values(by='coef_abs', ascending=False).head()"
   ]
  },
  {
   "cell_type": "code",
   "execution_count": 1615,
   "metadata": {
    "hidden": true
   },
   "outputs": [
    {
     "data": {
      "image/png": "[encoded data removed]",
      "text/plain": [
       "<Figure size 864x288 with 1 Axes>"
      ]
     },
     "metadata": {
      "needs_background": "light"
     },
     "output_type": "display_data"
    }
   ],
   "source": [
    "df_coef.sort_values(by='coef_abs', ascending=False).head(25). \\\n",
    "plot(kind='bar', x='variable', y='coef_abs',\n",
    "      color='b', figsize=(12,4), label='Feature imp')\n",
    "\n",
    "plt.show()"
   ]
  },
  {
   "cell_type": "code",
   "execution_count": 1616,
   "metadata": {
    "hidden": true,
    "scrolled": false
   },
   "outputs": [
    {
     "data": {
      "image/png": "[encoded data removed]",
      "text/plain": [
       "<Figure size 864x288 with 1 Axes>"
      ]
     },
     "metadata": {
      "needs_background": "light"
     },
     "output_type": "display_data"
    }
   ],
   "source": [
    "df_coef.sort_values(by='coef_abs').head(50). \\\n",
    "plot(kind='bar', x='variable', y='coef_abs',\n",
    "      color='b', figsize=(12,4), label='Feature imp')\n",
    "\n",
    "plt.show()"
   ]
  },
  {
   "cell_type": "code",
   "execution_count": 1617,
   "metadata": {
    "hidden": true
   },
   "outputs": [],
   "source": [
    "df_coef.sort_values(by='coef_abs', ascending=False, inplace=True)"
   ]
  },
  {
   "cell_type": "code",
   "execution_count": 1618,
   "metadata": {
    "hidden": true
   },
   "outputs": [],
   "source": [
    "df_coef['order'] = [x for x in range(1,len(df_coef)+1)]"
   ]
  },
  {
   "cell_type": "code",
   "execution_count": 1619,
   "metadata": {
    "hidden": true
   },
   "outputs": [],
   "source": [
    "shitty_vars = df_coef.variable[df_coef.coef_abs == 0].values"
   ]
  },
  {
   "cell_type": "code",
   "execution_count": 1620,
   "metadata": {
    "hidden": true
   },
   "outputs": [],
   "source": [
    "cool_vars = list(df_coef.variable[~df_coef.variable.isin(shitty_vars)])"
   ]
  },
  {
   "cell_type": "code",
   "execution_count": 1621,
   "metadata": {
    "hidden": true
   },
   "outputs": [],
   "source": [
    "filtered_final_dataset = dum_final.loc[:,cool_vars]"
   ]
  },
  {
   "cell_type": "code",
   "execution_count": 1622,
   "metadata": {
    "hidden": true
   },
   "outputs": [],
   "source": [
    "filtered_final_dataset.reset_index(drop=True,inplace=True)"
   ]
  },
  {
   "cell_type": "markdown",
   "metadata": {
    "heading_collapsed": true,
    "hidden": true
   },
   "source": [
    "##### New simple regression on filtered data"
   ]
  },
  {
   "cell_type": "code",
   "execution_count": 1625,
   "metadata": {
    "hidden": true
   },
   "outputs": [],
   "source": [
    "X_train_filt, X_test_filt, y_train_filt, y_test_filt = train_test_split(\n",
    "filtered_final_dataset, y, test_size = 0.20, random_state=123)"
   ]
  },
  {
   "cell_type": "code",
   "execution_count": 1626,
   "metadata": {
    "hidden": true
   },
   "outputs": [],
   "source": [
    "X_train_filt_std = pd.DataFrame(scaler.fit_transform(X_train_filt),columns=X_train_filt.columns,index=X_train_filt.index)\n",
    "X_test_filt_std = pd.DataFrame(scaler.transform(X_test_filt),columns=X_train_filt.columns,index=X_test_filt.index)"
   ]
  },
  {
   "cell_type": "code",
   "execution_count": 1627,
   "metadata": {
    "hidden": true
   },
   "outputs": [
    {
     "name": "stdout",
     "output_type": "stream",
     "text": [
      "Mean cross-validated training score: 0.728454769693665\n",
      "Training score: 0.8004992227901726\n",
      "Test score: 0.7755368203800763\n"
     ]
    }
   ],
   "source": [
    "test_model = LinearRegression()\n",
    "test_model.fit(X_train_filt, y_train_filt)\n",
    "\n",
    "scores = cross_val_score(test_model, X_train_filt, y_train_filt, cv=5)\n",
    "print('Mean cross-validated training score:', scores.mean())\n",
    "\n",
    "print('Training score:', test_model.score(X_train_filt, y_train_filt))\n",
    "\n",
    "print('Test score:', test_model.score(X_test_filt, y_test_filt))"
   ]
  },
  {
   "cell_type": "code",
   "execution_count": 1628,
   "metadata": {
    "hidden": true
   },
   "outputs": [
    {
     "name": "stdout",
     "output_type": "stream",
     "text": [
      "Mean cross-validated training score: 0.7284547694699806\n",
      "Training score: 0.8004992227901726\n",
      "Test score: 0.7755368203398749\n"
     ]
    }
   ],
   "source": [
    "test_model_std = LinearRegression()\n",
    "test_model_std.fit(X_train_filt_std, y_train_filt)\n",
    "\n",
    "scores = cross_val_score(test_model_std, X_train_filt_std, y_train_filt, cv=5)\n",
    "print('Mean cross-validated training score:', scores.mean())\n",
    "\n",
    "print('Training score:', test_model_std.score(X_train_filt_std, y_train_filt))\n",
    "\n",
    "print('Test score:', test_model_std.score(X_test_filt_std, y_test_filt))"
   ]
  },
  {
   "cell_type": "markdown",
   "metadata": {
    "heading_collapsed": true,
    "hidden": true
   },
   "source": [
    "##### New Lasso on filtered data"
   ]
  },
  {
   "cell_type": "code",
   "execution_count": 1629,
   "metadata": {
    "hidden": true
   },
   "outputs": [
    {
     "data": {
      "image/png": "[encoded data removed]",
      "text/plain": [
       "<Figure size 432x288 with 1 Axes>"
      ]
     },
     "metadata": {
      "needs_background": "light"
     },
     "output_type": "display_data"
    }
   ],
   "source": [
    "# Better with standardization\n",
    "\n",
    "alpha_values = np.logspace(-3,-2,20)\n",
    "scores = alpha_scores(Lasso, alpha_values, X_train_filt_std, y_train_filt)\n",
    "\n",
    "plt.plot(alpha_values, [score for score in scores], lw=2)\n",
    "plt.ylabel('R2')\n",
    "plt.show()"
   ]
  },
  {
   "cell_type": "code",
   "execution_count": 1630,
   "metadata": {
    "hidden": true,
    "scrolled": true
   },
   "outputs": [
    {
     "name": "stdout",
     "output_type": "stream",
     "text": [
      "Best alpha: 0.0030391953823131978\n",
      "Training score: 0.7930673942379054\n",
      "Test score: 0.7808158687584104\n",
      "Mean cross-validated training score: 0.7118016196845821\n"
     ]
    }
   ],
   "source": [
    "lasso_cool_model = LassoCV(alphas=np.logspace(-3,-2,30), cv=5, \n",
    "                      tol=0.1, fit_intercept=True)\n",
    "\n",
    "lasso_model.fit(X_train_filt_std, y_train_filt)\n",
    "\n",
    "print('Best alpha:', lasso_model.alpha_)\n",
    "\n",
    "print('Training score:', lasso_model.score(X_train_filt_std, y_train_filt))\n",
    "\n",
    "print('Test score:', lasso_model.score(X_test_filt_std, y_test_filt))\n",
    "\n",
    "scores = cross_val_score(lasso_cool_model, X_train_filt_std, y_train_filt, cv=5)\n",
    "print('Mean cross-validated training score:', scores.mean())"
   ]
  },
  {
   "cell_type": "markdown",
   "metadata": {
    "heading_collapsed": true,
    "hidden": true
   },
   "source": [
    "#### Trees"
   ]
  },
  {
   "cell_type": "code",
   "execution_count": 2164,
   "metadata": {
    "hidden": true
   },
   "outputs": [],
   "source": [
    "final_basic_tree = DecisionTreeRegressor(random_state=123)"
   ]
  },
  {
   "cell_type": "code",
   "execution_count": 2165,
   "metadata": {
    "hidden": true
   },
   "outputs": [
    {
     "data": {
      "text/plain": [
       "GridSearchCV(cv=5, error_score='raise-deprecating',\n",
       "       estimator=DecisionTreeRegressor(criterion='mse', max_depth=None, max_features=None,\n",
       "           max_leaf_nodes=None, min_impurity_decrease=0.0,\n",
       "           min_impurity_split=None, min_samples_leaf=1,\n",
       "           min_samples_split=2, min_weight_fraction_leaf=0.0,\n",
       "           presort=False, random_state=123, splitter='best'),\n",
       "       fit_params=None, iid='warn', n_jobs=None,\n",
       "       param_grid={'max_depth': [6], 'max_features': [108], 'max_leaf_nodes': [109, 110], 'min_samples_leaf': [2], 'min_samples_split': [18, 19, 20]},\n",
       "       pre_dispatch='2*n_jobs', refit=True, return_train_score='warn',\n",
       "       scoring=None, verbose=0)"
      ]
     },
     "execution_count": 2165,
     "metadata": {},
     "output_type": "execute_result"
    }
   ],
   "source": [
    "final_basic_tree_params = {'max_depth': [6],\n",
    "          'max_features': [108],\n",
    "          'max_leaf_nodes': [109,110],\n",
    "          'min_samples_leaf': [2],\n",
    "          'min_samples_split': [18,19,20]\n",
    "          }\n",
    "\n",
    "final_basic_tree_grid = GridSearchCV(\n",
    "        estimator=final_basic_tree,\n",
    "        param_grid=final_basic_tree_params, cv=5)\n",
    "\n",
    "final_basic_tree_grid.fit(X_train_std, y_train)"
   ]
  },
  {
   "cell_type": "code",
   "execution_count": 2166,
   "metadata": {
    "hidden": true
   },
   "outputs": [
    {
     "data": {
      "text/plain": [
       "{'max_depth': 6,\n",
       " 'max_features': 108,\n",
       " 'max_leaf_nodes': 109,\n",
       " 'min_samples_leaf': 2,\n",
       " 'min_samples_split': 19}"
      ]
     },
     "execution_count": 2166,
     "metadata": {},
     "output_type": "execute_result"
    }
   ],
   "source": [
    "final_basic_tree_grid.best_params_"
   ]
  },
  {
   "cell_type": "code",
   "execution_count": 2167,
   "metadata": {
    "hidden": true
   },
   "outputs": [
    {
     "data": {
      "text/plain": [
       "0.8546389421134577"
      ]
     },
     "execution_count": 2167,
     "metadata": {},
     "output_type": "execute_result"
    }
   ],
   "source": [
    "final_basic_tree_grid.score(X_test_std, y_test)"
   ]
  },
  {
   "cell_type": "code",
   "execution_count": 2169,
   "metadata": {
    "hidden": true
   },
   "outputs": [
    {
     "data": {
      "text/plain": [
       "0.9269194666238414"
      ]
     },
     "execution_count": 2169,
     "metadata": {},
     "output_type": "execute_result"
    }
   ],
   "source": [
    "final_basic_tree_grid.score(X_train_std, y_train)"
   ]
  },
  {
   "cell_type": "code",
   "execution_count": 2184,
   "metadata": {
    "hidden": true
   },
   "outputs": [],
   "source": [
    "scores = cross_val_score(final_basic_tree_grid, X_train_std, y_train, cv=5)"
   ]
  },
  {
   "cell_type": "code",
   "execution_count": 2186,
   "metadata": {
    "hidden": true
   },
   "outputs": [
    {
     "data": {
      "text/plain": [
       "0.8188634532793347"
      ]
     },
     "execution_count": 2186,
     "metadata": {},
     "output_type": "execute_result"
    }
   ],
   "source": [
    "scores.mean()"
   ]
  },
  {
   "cell_type": "markdown",
   "metadata": {
    "heading_collapsed": true
   },
   "source": [
    "### New dataset only with remaining features after regularization from previous datasets"
   ]
  },
  {
   "cell_type": "markdown",
   "metadata": {
    "heading_collapsed": true,
    "hidden": true
   },
   "source": [
    "#### Setting up dataset"
   ]
  },
  {
   "cell_type": "markdown",
   "metadata": {
    "hidden": true
   },
   "source": [
    "The mega dataset was created merging the remaining features after regularization, from both, the teams dataset, and the complete dataset. This ended up being the dataset used throughout the modelling."
   ]
  },
  {
   "cell_type": "code",
   "execution_count": 1645,
   "metadata": {
    "hidden": true
   },
   "outputs": [],
   "source": [
    "filtered_final_dataset_wlink = filtered_final_dataset.copy()"
   ]
  },
  {
   "cell_type": "code",
   "execution_count": 1646,
   "metadata": {
    "hidden": true
   },
   "outputs": [],
   "source": [
    "final_link_tm.reset_index(inplace=True,drop=True)"
   ]
  },
  {
   "cell_type": "code",
   "execution_count": 1647,
   "metadata": {
    "hidden": true
   },
   "outputs": [],
   "source": [
    "filtered_final_dataset_wlink['link'] = final_link_tm"
   ]
  },
  {
   "cell_type": "code",
   "execution_count": 1648,
   "metadata": {
    "hidden": true
   },
   "outputs": [],
   "source": [
    "mega_dataset = filtered_teams_wlink.merge(filtered_final_dataset_wlink, how='inner', on='link')"
   ]
  },
  {
   "cell_type": "code",
   "execution_count": 1649,
   "metadata": {
    "hidden": true
   },
   "outputs": [],
   "source": [
    "y_look = pd.concat([y,final_link_tm],axis=1)"
   ]
  },
  {
   "cell_type": "code",
   "execution_count": 1650,
   "metadata": {
    "hidden": true
   },
   "outputs": [],
   "source": [
    "y_look = y_look.rename(columns = {'player_link_tm':'link'})"
   ]
  },
  {
   "cell_type": "code",
   "execution_count": 1651,
   "metadata": {
    "hidden": true
   },
   "outputs": [],
   "source": [
    "y_mega = y_look.merge(y_teams_look, how='inner', on='link')"
   ]
  },
  {
   "cell_type": "code",
   "execution_count": 1652,
   "metadata": {
    "hidden": true
   },
   "outputs": [
    {
     "data": {
      "text/plain": [
       "Index(['current_log_x', 'link', 'current_log_y'], dtype='object')"
      ]
     },
     "execution_count": 1652,
     "metadata": {},
     "output_type": "execute_result"
    }
   ],
   "source": [
    "y_mega.columns"
   ]
  },
  {
   "cell_type": "code",
   "execution_count": 1653,
   "metadata": {
    "hidden": true
   },
   "outputs": [],
   "source": [
    "y_mega.drop('current_log_x',inplace=True,axis=1)"
   ]
  },
  {
   "cell_type": "code",
   "execution_count": 1654,
   "metadata": {
    "hidden": true
   },
   "outputs": [],
   "source": [
    "mega_dataset = mega_dataset.merge(y_mega, how='inner', on='link')"
   ]
  },
  {
   "cell_type": "code",
   "execution_count": 1655,
   "metadata": {
    "hidden": true
   },
   "outputs": [],
   "source": [
    "mega_dataset.reset_index(drop=False,inplace=True)"
   ]
  },
  {
   "cell_type": "code",
   "execution_count": 1656,
   "metadata": {
    "hidden": true
   },
   "outputs": [],
   "source": [
    "mega_links = mega_dataset.pop('link')"
   ]
  },
  {
   "cell_type": "code",
   "execution_count": 2132,
   "metadata": {
    "hidden": true
   },
   "outputs": [],
   "source": [
    "mega_links.to_csv(r'/Users/gonzaloferreiro/Documents/GA_Materials/DS_Inmersive/DSI8-lessons/projects/project-capstone/Moving_forward/Final_datasets/Working_files/mega_links.csv',index=False)"
   ]
  },
  {
   "cell_type": "code",
   "execution_count": 1657,
   "metadata": {
    "hidden": true
   },
   "outputs": [],
   "source": [
    "mega_dataset.to_csv(r'/Users/gonzaloferreiro/Documents/GA_Materials/DS_Inmersive/DSI8-lessons/projects/project-capstone/Moving_forward/Final_datasets/Working_files/mega_dataset.csv',index=False)\n"
   ]
  },
  {
   "cell_type": "code",
   "execution_count": 1658,
   "metadata": {
    "hidden": true
   },
   "outputs": [],
   "source": [
    "mega_dataset = pd.read_csv('/Users/gonzaloferreiro/Documents/GA_Materials/DS_Inmersive/DSI8-lessons/projects/project-capstone/Moving_forward/Final_datasets/Working_files/mega_dataset.csv')"
   ]
  },
  {
   "cell_type": "code",
   "execution_count": 1659,
   "metadata": {
    "hidden": true
   },
   "outputs": [],
   "source": [
    "y_mega = mega_dataset.pop('current_log_y')"
   ]
  },
  {
   "cell_type": "code",
   "execution_count": 1660,
   "metadata": {
    "hidden": true
   },
   "outputs": [
    {
     "name": "stdout",
     "output_type": "stream",
     "text": [
      "(1143, 98)\n",
      "(1143,)\n",
      "(1143,)\n"
     ]
    }
   ],
   "source": [
    "# Checking out shapes just in case\n",
    "\n",
    "print(mega_dataset.shape)\n",
    "print(y_mega.shape)\n",
    "print(mega_links.shape)"
   ]
  },
  {
   "cell_type": "markdown",
   "metadata": {
    "heading_collapsed": true,
    "hidden": true
   },
   "source": [
    "#### Simple linear regression"
   ]
  },
  {
   "cell_type": "code",
   "execution_count": 2134,
   "metadata": {
    "hidden": true
   },
   "outputs": [],
   "source": [
    "X_train_mega, X_test_mega, y_train_mega, y_test_mega = train_test_split(\n",
    "mega_dataset, y_mega, test_size = 0.20, random_state=123)"
   ]
  },
  {
   "cell_type": "code",
   "execution_count": 2141,
   "metadata": {
    "hidden": true
   },
   "outputs": [],
   "source": [
    "X_train_mega_std = pd.DataFrame(scaler.fit_transform(X_train_mega),columns=X_train_mega.columns, index=X_train_mega.index)\n",
    "X_test_mega_std = pd.DataFrame(scaler.transform(X_test_mega),columns=X_test_mega.columns, index=X_test_mega.index)\n",
    "mega_std = pd.DataFrame(scaler.transform(mega_dataset),columns=mega_dataset.columns, index=mega_dataset.index)\n"
   ]
  },
  {
   "cell_type": "code",
   "execution_count": 2136,
   "metadata": {
    "hidden": true
   },
   "outputs": [
    {
     "name": "stdout",
     "output_type": "stream",
     "text": [
      "Mean cross-validated training score: 0.6941990044074281\n",
      "Training score: 0.7954978211770092\n",
      "Test score: 0.8113601378628542\n"
     ]
    }
   ],
   "source": [
    "regresion_mega = LinearRegression()\n",
    "regresion_mega.fit(X_train_mega_std, y_train_mega)\n",
    "\n",
    "scores = cross_val_score(regresion_mega, X_train_mega_std, y_train_mega, cv=5)\n",
    "print('Mean cross-validated training score:', scores.mean())\n",
    "\n",
    "print('Training score:', regresion_mega.score(X_train_mega_std, y_train_mega))\n",
    "\n",
    "print('Test score:', regresion_mega.score(X_test_mega_std, y_test_mega))"
   ]
  },
  {
   "cell_type": "markdown",
   "metadata": {
    "heading_collapsed": true,
    "hidden": true
   },
   "source": [
    "#### Lasso"
   ]
  },
  {
   "cell_type": "code",
   "execution_count": 2257,
   "metadata": {
    "hidden": true
   },
   "outputs": [
    {
     "data": {
      "image/png": "[encoded data removed]",
      "text/plain": [
       "<Figure size 432x288 with 1 Axes>"
      ]
     },
     "metadata": {
      "needs_background": "light"
     },
     "output_type": "display_data"
    }
   ],
   "source": [
    "# Standardization doesn't change anything\n",
    "\n",
    "alpha_values = np.logspace(-2,-1.6,30)\n",
    "scores = alpha_scores(Lasso, alpha_values, X_train_mega_std, y_train_mega)\n",
    "\n",
    "plt.plot(alpha_values, [score for score in scores], lw=2)\n",
    "plt.ylabel('R2')\n",
    "plt.show()"
   ]
  },
  {
   "cell_type": "code",
   "execution_count": 2260,
   "metadata": {
    "hidden": true
   },
   "outputs": [
    {
     "name": "stdout",
     "output_type": "stream",
     "text": [
      "Best alpha: 0.017158635894253232\n",
      "Training score: 0.7761637957757568\n",
      "Test score: 0.8000885936528762\n",
      "Mean cross-validated training score: 0.7167327158302463\n"
     ]
    }
   ],
   "source": [
    "model_lasso_mega = LassoCV(alphas=np.logspace(-2,-1.6,30), cv=5)\n",
    "\n",
    "model_lasso_mega.fit(X_train_mega_std, y_train_mega)\n",
    "\n",
    "print('Best alpha:', model_lasso_mega.alpha_)\n",
    "\n",
    "print('Training score:', model_lasso_mega.score(X_train_mega_std, y_train_mega))\n",
    "\n",
    "print('Test score:', model_lasso_mega.score(X_test_mega_std, y_test_mega))\n",
    "\n",
    "scores = cross_val_score(model_lasso_mega, X_train_mega_std, y_train_mega, cv=5)\n",
    "print('Mean cross-validated training score:', scores.mean())"
   ]
  },
  {
   "cell_type": "code",
   "execution_count": 2311,
   "metadata": {
    "hidden": true
   },
   "outputs": [],
   "source": [
    "filename_lasso = 'lasso.sav'\n",
    "pickle.dump(model_lasso_mega, open(filename_lasso, 'wb'))"
   ]
  },
  {
   "cell_type": "code",
   "execution_count": 1802,
   "metadata": {
    "hidden": true
   },
   "outputs": [
    {
     "data": {
      "text/plain": [
       "0.8005157447787287"
      ]
     },
     "execution_count": 1802,
     "metadata": {},
     "output_type": "execute_result"
    }
   ],
   "source": [
    "loaded_model_lasso = pickle.load(open(filename_lasso, 'rb'))\n",
    "loaded_model_lasso.score(X_test_mega_std, y_test_mega)"
   ]
  },
  {
   "cell_type": "markdown",
   "metadata": {
    "heading_collapsed": true,
    "hidden": true
   },
   "source": [
    "#### Lasso without highest value"
   ]
  },
  {
   "cell_type": "code",
   "execution_count": 1779,
   "metadata": {
    "hidden": true
   },
   "outputs": [
    {
     "data": {
      "image/png": "[encoded data removed]",
      "text/plain": [
       "<Figure size 432x288 with 1 Axes>"
      ]
     },
     "metadata": {
      "needs_background": "light"
     },
     "output_type": "display_data"
    }
   ],
   "source": [
    "# Standardization doesn't change anything\n",
    "\n",
    "alpha_values = np.logspace(-2,-1,20)\n",
    "scores = alpha_scores(Lasso, alpha_values, X_train_w_highest, y_train_mega)\n",
    "\n",
    "plt.plot(alpha_values, [score for score in scores], lw=2)\n",
    "plt.ylabel('R2')\n",
    "plt.show()"
   ]
  },
  {
   "cell_type": "code",
   "execution_count": 1780,
   "metadata": {
    "hidden": true
   },
   "outputs": [
    {
     "name": "stdout",
     "output_type": "stream",
     "text": [
      "Best alpha: 0.01\n",
      "Training score: 0.7749700769977425\n",
      "Test score: 0.7978180181293469\n",
      "Mean cross-validated training score: 0.6758085970338936\n"
     ]
    }
   ],
   "source": [
    "model_lasso_mega = RidgeCV(alphas=np.logspace(-2,-1,20), cv=5)\n",
    "\n",
    "model_lasso_mega.fit(X_train_w_highest, y_train_mega)\n",
    "\n",
    "print('Best alpha:', model_lasso_mega.alpha_)\n",
    "\n",
    "print('Training score:', model_lasso_mega.score(X_train_w_highest, y_train_mega))\n",
    "\n",
    "print('Test score:', model_lasso_mega.score(X_test_w_highest, y_test_mega))\n",
    "\n",
    "scores = cross_val_score(model_lasso_mega, X_train_w_highest, y_train_mega, cv=5)\n",
    "print('Mean cross-validated training score:', scores.mean())"
   ]
  },
  {
   "cell_type": "markdown",
   "metadata": {
    "heading_collapsed": true,
    "hidden": true
   },
   "source": [
    "#### Ridge"
   ]
  },
  {
   "cell_type": "code",
   "execution_count": 1782,
   "metadata": {
    "hidden": true
   },
   "outputs": [
    {
     "data": {
      "image/png": "[encoded data removed]",
      "text/plain": [
       "<Figure size 432x288 with 1 Axes>"
      ]
     },
     "metadata": {
      "needs_background": "light"
     },
     "output_type": "display_data"
    }
   ],
   "source": [
    "# Standardization makes it a little worst\n",
    "\n",
    "alpha_values = np.logspace(1,2,20)\n",
    "scores = alpha_scores(Ridge, alpha_values, X_train_mega_std, y_train_mega)\n",
    "\n",
    "plt.plot(alpha_values, [score for score in scores], lw=2)\n",
    "plt.ylabel('R2')\n",
    "plt.show()"
   ]
  },
  {
   "cell_type": "code",
   "execution_count": 1783,
   "metadata": {
    "hidden": true,
    "scrolled": true
   },
   "outputs": [
    {
     "name": "stdout",
     "output_type": "stream",
     "text": [
      "Best alpha: 78.47599703514611\n",
      "Training score: 0.7860791833368175\n",
      "Test score: 0.8050695856797669\n",
      "Mean cross-validated training score: 0.7003970049163508\n"
     ]
    }
   ],
   "source": [
    "model_ridge_mega = RidgeCV(alphas=np.logspace(1,2,20), cv=5)\n",
    "\n",
    "model_ridge_mega.fit(X_train_mega_std, y_train_mega)\n",
    "\n",
    "print('Best alpha:', model_ridge_mega.alpha_)\n",
    "\n",
    "print('Training score:', model_ridge_mega.score(X_train_mega_std, y_train_mega))\n",
    "\n",
    "print('Test score:', model_ridge_mega.score(X_test_mega_std, y_test_mega))\n",
    "\n",
    "scores = cross_val_score(model_ridge_mega, X_train_mega, y_train_mega, cv=5)\n",
    "print('Mean cross-validated training score:', scores.mean())"
   ]
  },
  {
   "cell_type": "code",
   "execution_count": 462,
   "metadata": {
    "hidden": true
   },
   "outputs": [],
   "source": [
    "pred_ridge_mega = model_ridge_mega.predict(X_train_mega)\n",
    "ridge_res_mega = [np.abs(x-y) for x,y in zip(y_train_mega, pred_ridge_mega)]"
   ]
  },
  {
   "cell_type": "code",
   "execution_count": 463,
   "metadata": {
    "hidden": true
   },
   "outputs": [
    {
     "data": {
      "text/plain": [
       "2.391628766962711"
      ]
     },
     "execution_count": 463,
     "metadata": {},
     "output_type": "execute_result"
    }
   ],
   "source": [
    "np.max(ridge_res_mega)"
   ]
  },
  {
   "cell_type": "markdown",
   "metadata": {
    "heading_collapsed": true,
    "hidden": true
   },
   "source": [
    "#### Trees"
   ]
  },
  {
   "cell_type": "code",
   "execution_count": 1673,
   "metadata": {
    "hidden": true
   },
   "outputs": [],
   "source": [
    "basic_tree = DecisionTreeRegressor(random_state=123)"
   ]
  },
  {
   "cell_type": "code",
   "execution_count": 1674,
   "metadata": {
    "hidden": true
   },
   "outputs": [
    {
     "data": {
      "text/plain": [
       "dict_keys(['criterion', 'max_depth', 'max_features', 'max_leaf_nodes', 'min_impurity_decrease', 'min_impurity_split', 'min_samples_leaf', 'min_samples_split', 'min_weight_fraction_leaf', 'presort', 'random_state', 'splitter'])"
      ]
     },
     "execution_count": 1674,
     "metadata": {},
     "output_type": "execute_result"
    }
   ],
   "source": [
    "basic_tree.get_params().keys()"
   ]
  },
  {
   "cell_type": "code",
   "execution_count": 1687,
   "metadata": {
    "hidden": true
   },
   "outputs": [
    {
     "data": {
      "text/plain": [
       "GridSearchCV(cv=5, error_score='raise-deprecating',\n",
       "       estimator=DecisionTreeRegressor(criterion='mse', max_depth=None, max_features=None,\n",
       "           max_leaf_nodes=None, min_impurity_decrease=0.0,\n",
       "           min_impurity_split=None, min_samples_leaf=1,\n",
       "           min_samples_split=2, min_weight_fraction_leaf=0.0,\n",
       "           presort=False, random_state=123, splitter='best'),\n",
       "       fit_params=None, iid='warn', n_jobs=None,\n",
       "       param_grid={'max_depth': [7], 'max_features': [88], 'max_leaf_nodes': [64, 65, 66], 'min_samples_leaf': [3], 'min_samples_split': [18]},\n",
       "       pre_dispatch='2*n_jobs', refit=True, return_train_score='warn',\n",
       "       scoring=None, verbose=0)"
      ]
     },
     "execution_count": 1687,
     "metadata": {},
     "output_type": "execute_result"
    }
   ],
   "source": [
    "basic_tree_params = {'max_depth': [7],\n",
    "          'max_features': [88],\n",
    "          'max_leaf_nodes': [65],\n",
    "          'min_samples_leaf': [3],\n",
    "          'min_samples_split': [18]\n",
    "          }\n",
    "\n",
    "basic_tree_grid = GridSearchCV(\n",
    "        estimator=basic_tree,\n",
    "        param_grid=basic_tree_params, cv=5)\n",
    "\n",
    "basic_tree_grid.fit(X_train_mega_std, y_train_mega)"
   ]
  },
  {
   "cell_type": "code",
   "execution_count": 1686,
   "metadata": {
    "hidden": true
   },
   "outputs": [
    {
     "data": {
      "text/plain": [
       "{'max_depth': 7,\n",
       " 'max_features': 88,\n",
       " 'max_leaf_nodes': 65,\n",
       " 'min_samples_leaf': 3,\n",
       " 'min_samples_split': 18}"
      ]
     },
     "execution_count": 1686,
     "metadata": {},
     "output_type": "execute_result"
    }
   ],
   "source": [
    "basic_tree_grid.best_params_"
   ]
  },
  {
   "cell_type": "code",
   "execution_count": 1688,
   "metadata": {
    "hidden": true
   },
   "outputs": [
    {
     "data": {
      "text/plain": [
       "0.9259086564526284"
      ]
     },
     "execution_count": 1688,
     "metadata": {},
     "output_type": "execute_result"
    }
   ],
   "source": [
    "basic_tree_grid.score(X_train_mega_std, y_train_mega)"
   ]
  },
  {
   "cell_type": "code",
   "execution_count": 1689,
   "metadata": {
    "hidden": true
   },
   "outputs": [
    {
     "data": {
      "text/plain": [
       "0.8357400757244058"
      ]
     },
     "execution_count": 1689,
     "metadata": {},
     "output_type": "execute_result"
    }
   ],
   "source": [
    "basic_tree_grid.score(X_test_mega_std, y_test_mega)"
   ]
  },
  {
   "cell_type": "code",
   "execution_count": 1690,
   "metadata": {
    "hidden": true
   },
   "outputs": [
    {
     "data": {
      "text/plain": [
       "0.8264403632859187"
      ]
     },
     "execution_count": 1690,
     "metadata": {},
     "output_type": "execute_result"
    }
   ],
   "source": [
    "scores = cross_val_score(basic_tree_grid, X_train_mega_std, y_train_mega, cv=5)\n",
    "scores.mean()"
   ]
  },
  {
   "cell_type": "markdown",
   "metadata": {
    "heading_collapsed": true,
    "hidden": true
   },
   "source": [
    "#### Tree with bagging [BEST MODEL]"
   ]
  },
  {
   "cell_type": "code",
   "execution_count": 2142,
   "metadata": {
    "hidden": true
   },
   "outputs": [],
   "source": [
    "# Saving final datasets used to train and test just in case\n",
    "X_train_mega_std.to_csv(r'/Users/gonzaloferreiro/Documents/GA_Materials/DS_Inmersive/DSI8-lessons/projects/project-capstone/Moving_forward/Final_datasets/Working_files/Train-test_datasets/X_train_mega_std',index=False)\n",
    "X_test_mega_std.to_csv(r'/Users/gonzaloferreiro/Documents/GA_Materials/DS_Inmersive/DSI8-lessons/projects/project-capstone/Moving_forward/Final_datasets/Working_files/Train-test_datasets/X_test_mega_std',index=False)\n",
    "X_train_mega.to_csv(r'/Users/gonzaloferreiro/Documents/GA_Materials/DS_Inmersive/DSI8-lessons/projects/project-capstone/Moving_forward/Final_datasets/Working_files/Train-test_datasets/X_train_mega',index=False)\n",
    "X_test_mega.to_csv(r'/Users/gonzaloferreiro/Documents/GA_Materials/DS_Inmersive/DSI8-lessons/projects/project-capstone/Moving_forward/Final_datasets/Working_files/Train-test_datasets/X_test_mega',index=False)\n",
    "y_train_mega.to_csv(r'/Users/gonzaloferreiro/Documents/GA_Materials/DS_Inmersive/DSI8-lessons/projects/project-capstone/Moving_forward/Final_datasets/Working_files/Train-test_datasets/y_train_mega',index=False)\n",
    "y_test_mega.to_csv(r'/Users/gonzaloferreiro/Documents/GA_Materials/DS_Inmersive/DSI8-lessons/projects/project-capstone/Moving_forward/Final_datasets/Working_files/Train-test_datasets/y_test_mega',index=False)\n",
    "mega_std.to_csv(r'/Users/gonzaloferreiro/Documents/GA_Materials/DS_Inmersive/DSI8-lessons/projects/project-capstone/Moving_forward/Final_datasets/Working_files/Train-test_datasets/mega_std',index=False)"
   ]
  },
  {
   "cell_type": "code",
   "execution_count": 1698,
   "metadata": {
    "hidden": true
   },
   "outputs": [],
   "source": [
    "tree_to_bag = DecisionTreeRegressor(random_state=123)"
   ]
  },
  {
   "cell_type": "code",
   "execution_count": 1726,
   "metadata": {
    "hidden": true
   },
   "outputs": [],
   "source": [
    "bagging_tree = BaggingRegressor(base_estimator=tree_to_bag, random_state=1, n_estimators=2000)"
   ]
  },
  {
   "cell_type": "code",
   "execution_count": 1753,
   "metadata": {
    "hidden": true
   },
   "outputs": [
    {
     "data": {
      "text/plain": [
       "GridSearchCV(cv=3, error_score='raise-deprecating',\n",
       "       estimator=BaggingRegressor(base_estimator=DecisionTreeRegressor(criterion='mse', max_depth=None, max_features=None,\n",
       "           max_leaf_nodes=None, min_impurity_decrease=0.0,\n",
       "           min_impurity_split=None, min_samples_leaf=1,\n",
       "           min_samples_split=2, min_weight_fraction_leaf=0.0,\n",
       "       ...estimators=2000, n_jobs=None, oob_score=False,\n",
       "         random_state=1, verbose=0, warm_start=False),\n",
       "       fit_params=None, iid='warn', n_jobs=None,\n",
       "       param_grid={'base_estimator__max_depth': [16, 17, 18], 'base_estimator__max_features': [0.85, 0.9], 'base_estimator__max_leaf_nodes': [94], 'base_estimator__min_samples_leaf': [1], 'base_estimator__min_samples_split': [10], 'max_features': [1.0], 'max_samples': [1.0]},\n",
       "       pre_dispatch='2*n_jobs', refit=True, return_train_score='warn',\n",
       "       scoring=None, verbose=0)"
      ]
     },
     "execution_count": 1753,
     "metadata": {},
     "output_type": "execute_result"
    }
   ],
   "source": [
    "bagging_tree_params = {'base_estimator__max_depth': [16,17,18],\n",
    "                       'base_estimator__max_features': [0.85,0.9],\n",
    "                       'base_estimator__max_leaf_nodes': [94],\n",
    "                       'base_estimator__min_samples_leaf': [1],\n",
    "                       'base_estimator__min_samples_split': [10],\n",
    "                       #'bootstrap': [True,False],\n",
    "                       #'bootstrap_features': [True,False],\n",
    "                       'max_features': [1.0],\n",
    "                       'max_samples': [1.0]}\n",
    "          \n",
    "\n",
    "bagging_tree_grid = GridSearchCV(\n",
    "        estimator=bagging_tree,\n",
    "        param_grid=bagging_tree_params, cv=3)\n",
    "\n",
    "bagging_tree_grid.fit(X_train_mega_std, y_train_mega)"
   ]
  },
  {
   "cell_type": "code",
   "execution_count": 1725,
   "metadata": {
    "hidden": true,
    "scrolled": false
   },
   "outputs": [
    {
     "data": {
      "text/plain": [
       "{'base_estimator__max_depth': 17,\n",
       " 'base_estimator__max_features': 0.85,\n",
       " 'base_estimator__max_leaf_nodes': 94,\n",
       " 'base_estimator__min_samples_leaf': 1,\n",
       " 'base_estimator__min_samples_split': 10,\n",
       " 'max_features': 1.0,\n",
       " 'max_samples': 1.0}"
      ]
     },
     "execution_count": 1725,
     "metadata": {},
     "output_type": "execute_result"
    }
   ],
   "source": [
    "bagging_tree_grid.best_params_"
   ]
  },
  {
   "cell_type": "code",
   "execution_count": 1730,
   "metadata": {
    "hidden": true
   },
   "outputs": [],
   "source": [
    "import pickle\n",
    "filename = 'bagging_tree.sav'\n",
    "pickle.dump(bagging_tree_grid, open(filename, 'wb'))"
   ]
  },
  {
   "cell_type": "code",
   "execution_count": 1728,
   "metadata": {
    "hidden": true
   },
   "outputs": [
    {
     "data": {
      "text/plain": [
       "0.887395335350463"
      ]
     },
     "execution_count": 1728,
     "metadata": {},
     "output_type": "execute_result"
    }
   ],
   "source": [
    "bagging_tree_grid.best_estimator_.score(X_test_mega_std, y_test_mega)"
   ]
  },
  {
   "cell_type": "code",
   "execution_count": 1729,
   "metadata": {
    "hidden": true
   },
   "outputs": [
    {
     "data": {
      "text/plain": [
       "0.9646604676485424"
      ]
     },
     "execution_count": 1729,
     "metadata": {},
     "output_type": "execute_result"
    }
   ],
   "source": [
    "bagging_tree_grid.best_estimator_.score(X_train_mega_std, y_train_mega)"
   ]
  },
  {
   "cell_type": "code",
   "execution_count": 2015,
   "metadata": {
    "hidden": true
   },
   "outputs": [
    {
     "data": {
      "text/plain": [
       "0.866463231099224"
      ]
     },
     "execution_count": 2015,
     "metadata": {},
     "output_type": "execute_result"
    }
   ],
   "source": [
    "scores = cross_val_score(bagging_tree_grid, X_train_mega_std, y_train_mega, cv=5)\n",
    "scores.mean()"
   ]
  },
  {
   "cell_type": "code",
   "execution_count": 1732,
   "metadata": {
    "hidden": true
   },
   "outputs": [],
   "source": [
    "bagging_tree_test_pred = bagging_tree_grid.best_estimator_.predict(X_test_mega_std)\n",
    "bagging_tree_train_pred = bagging_tree_grid.best_estimator_.predict(X_train_mega_std)"
   ]
  },
  {
   "cell_type": "code",
   "execution_count": 1741,
   "metadata": {
    "hidden": true
   },
   "outputs": [],
   "source": [
    "train_mse_score = mean_squared_error(y_train_mega, bagging_tree_train_pred)\n",
    "test_mse_score = mean_squared_error(y_test_mega, bagging_tree_test_pred)"
   ]
  },
  {
   "cell_type": "code",
   "execution_count": 1734,
   "metadata": {
    "hidden": true
   },
   "outputs": [
    {
     "data": {
      "text/plain": [
       "0.25543246127974284"
      ]
     },
     "execution_count": 1734,
     "metadata": {},
     "output_type": "execute_result"
    }
   ],
   "source": [
    "test_mse_score"
   ]
  },
  {
   "cell_type": "markdown",
   "metadata": {
    "heading_collapsed": true,
    "hidden": true
   },
   "source": [
    "##### Saving dataset with predictions as this was the best model"
   ]
  },
  {
   "cell_type": "code",
   "execution_count": 1744,
   "metadata": {
    "hidden": true
   },
   "outputs": [],
   "source": [
    "y_tot_mega = pd.concat([y_test_mega,y_train_mega])\n",
    "y_tot_mega.sort_index(axis=0,inplace=True)"
   ]
  },
  {
   "cell_type": "code",
   "execution_count": 1745,
   "metadata": {
    "hidden": true
   },
   "outputs": [],
   "source": [
    "X_tot_mega = pd.concat([X_test_mega_std,X_train_mega_std])\n",
    "X_tot_mega.sort_index(axis=0,inplace=True)"
   ]
  },
  {
   "cell_type": "code",
   "execution_count": 1746,
   "metadata": {
    "hidden": true
   },
   "outputs": [],
   "source": [
    "pred_tot_mega = bagging_tree_grid.predict(X_tot_mega)"
   ]
  },
  {
   "cell_type": "code",
   "execution_count": 1747,
   "metadata": {
    "hidden": true
   },
   "outputs": [],
   "source": [
    "mega_final = pd.concat([y_tot_mega, mega_links],axis=1)\n",
    "mega_final['pred'] = pred_tot_mega"
   ]
  },
  {
   "cell_type": "code",
   "execution_count": 1748,
   "metadata": {
    "hidden": true
   },
   "outputs": [],
   "source": [
    "# Creating column for currrent value\n",
    "mega_final['current'] = round(np.exp(mega_final['current_log_y']))\n",
    "\n",
    "# Creating column for predictions without log transform\n",
    "mega_final['pred_real'] = round(np.exp(mega_final['pred']))"
   ]
  },
  {
   "cell_type": "code",
   "execution_count": 1749,
   "metadata": {
    "hidden": true
   },
   "outputs": [],
   "source": [
    "mega_final=mega_final.rename(columns = {'link':'player_link_tm'})"
   ]
  },
  {
   "cell_type": "code",
   "execution_count": 2029,
   "metadata": {
    "hidden": true,
    "scrolled": true
   },
   "outputs": [],
   "source": [
    "mega_final_merged = mega_final.merge(complete_dataset,on='player_link_tm',how='inner')\n",
    "mega_final_merged['google_res'] = X_tot_mega.google_res"
   ]
  },
  {
   "cell_type": "code",
   "execution_count": 2030,
   "metadata": {
    "hidden": true
   },
   "outputs": [],
   "source": [
    "# Saving dataset to be used later\n",
    "mega_final_merged.to_csv(r'/Users/gonzaloferreiro/Documents/GA_Materials/DS_Inmersive/DSI8-lessons/projects/project-capstone/Moving_forward/Final_datasets/Working_files/Final_with_predictions.csv',index=False)"
   ]
  },
  {
   "cell_type": "markdown",
   "metadata": {
    "heading_collapsed": true
   },
   "source": [
    "### Trying some robust models"
   ]
  },
  {
   "cell_type": "markdown",
   "metadata": {
    "heading_collapsed": true,
    "hidden": true
   },
   "source": [
    "#### Ranscac Sklearn"
   ]
  },
  {
   "cell_type": "code",
   "execution_count": 1949,
   "metadata": {
    "hidden": true
   },
   "outputs": [],
   "source": [
    "ransac = RANSACRegressor(base_estimator=LinearRegression(),\n",
    "                         is_data_valid=None, is_model_valid=None, \n",
    "                         loss='absolute_loss', max_skips=10, \n",
    "                         max_trials=100, min_samples=250, \n",
    "                         random_state=123, residual_threshold=5, \n",
    "                         stop_n_inliers=1000, stop_score=1)\n",
    "\n",
    "# HuberRegressor with RANSAC shit\n",
    "# TheilSenRegressor with RANSAC around 0.35"
   ]
  },
  {
   "cell_type": "code",
   "execution_count": 1950,
   "metadata": {
    "hidden": true
   },
   "outputs": [
    {
     "data": {
      "text/plain": [
       "RANSACRegressor(base_estimator=LinearRegression(copy_X=True, fit_intercept=True, n_jobs=None,\n",
       "         normalize=False),\n",
       "        is_data_valid=None, is_model_valid=None, loss='absolute_loss',\n",
       "        max_skips=10, max_trials=100, min_samples=250, random_state=123,\n",
       "        residual_threshold=5, stop_n_inliers=1000, stop_probability=0.99,\n",
       "        stop_score=1)"
      ]
     },
     "execution_count": 1950,
     "metadata": {},
     "output_type": "execute_result"
    }
   ],
   "source": [
    "ransac.fit(X_train_mega_std, y_train_mega)"
   ]
  },
  {
   "cell_type": "code",
   "execution_count": 1951,
   "metadata": {
    "hidden": true
   },
   "outputs": [
    {
     "data": {
      "text/plain": [
       "0.7954978211770092"
      ]
     },
     "execution_count": 1951,
     "metadata": {},
     "output_type": "execute_result"
    }
   ],
   "source": [
    "ransac.score(X_train_mega_std,y_train_mega)"
   ]
  },
  {
   "cell_type": "code",
   "execution_count": 1952,
   "metadata": {
    "hidden": true
   },
   "outputs": [
    {
     "data": {
      "text/plain": [
       "0.8113601378628541"
      ]
     },
     "execution_count": 1952,
     "metadata": {},
     "output_type": "execute_result"
    }
   ],
   "source": [
    "ransac.score(X_test_mega_std,y_test_mega)"
   ]
  },
  {
   "cell_type": "code",
   "execution_count": 1953,
   "metadata": {
    "hidden": true
   },
   "outputs": [
    {
     "name": "stdout",
     "output_type": "stream",
     "text": [
      "Mean cross-validated training score: 0.611989184162615\n"
     ]
    }
   ],
   "source": [
    "scores = cross_val_score(ransac, X_train_mega_std, y_train_mega, cv=5)\n",
    "print('Mean cross-validated training score:', scores.mean())"
   ]
  },
  {
   "cell_type": "code",
   "execution_count": 1954,
   "metadata": {
    "hidden": true
   },
   "outputs": [],
   "source": [
    "ransac_pred = ransac.estimator_.predict(X_test_mega_std)"
   ]
  },
  {
   "cell_type": "code",
   "execution_count": 1955,
   "metadata": {
    "hidden": true
   },
   "outputs": [],
   "source": [
    "ransac_res = y_test_mega - ransac_pred"
   ]
  },
  {
   "cell_type": "code",
   "execution_count": 1956,
   "metadata": {
    "hidden": true
   },
   "outputs": [
    {
     "data": {
      "image/png": "[encoded data removed]",
      "text/plain": [
       "<Figure size 1080x360 with 2 Axes>"
      ]
     },
     "metadata": {
      "needs_background": "light"
     },
     "output_type": "display_data"
    }
   ],
   "source": [
    "fig, ax = plt.subplots(nrows=1, ncols=2, figsize=(15,5))\n",
    "qqplot(ransac_res, line='s', ax=ax[0]);\n",
    "sns.distplot(ransac_res, ax=ax[1]);\n",
    "plt.show()"
   ]
  },
  {
   "cell_type": "markdown",
   "metadata": {
    "heading_collapsed": true,
    "hidden": true
   },
   "source": [
    "#### Huber Regressor statsmodel"
   ]
  },
  {
   "cell_type": "code",
   "execution_count": 1957,
   "metadata": {
    "hidden": true
   },
   "outputs": [
    {
     "name": "stdout",
     "output_type": "stream",
     "text": [
      "0.6159239757487188\n",
      "0.5485370197158412\n",
      "0.5475697645720141\n",
      "0.555715274512655\n",
      "0.5594507880221298\n",
      "0.5611109914216772\n",
      "0.5524405684808122\n",
      "0.519039990406031\n",
      "0.5584947652423555\n",
      "0.5427736899706159\n",
      "0.5503235187169618\n",
      "0.5298788942808371\n",
      "0.5214897314445296\n",
      "0.4811680222234409\n",
      "0.5276354097416505\n",
      "0.48879407312180223\n",
      "0.37688090788866546\n",
      "0.3560513803488917\n",
      "0.44509848307344635\n",
      "0.41497633662477396\n"
     ]
    }
   ],
   "source": [
    "# Trying Huber Regressor with statsmodel and severa alpha values, but none reaches a good r2 score\n",
    "\n",
    "for x in list(np.linspace(0.01, 1, 20)):\n",
    "    huber_t = sm.OLS(y_train_mega, X_train_mega)\n",
    "    hub_results = huber_t.fit_regularized(alpha=x)\n",
    "    mega_pred = hub_results.predict(X_test_mega)\n",
    "    print(r2_score(y_test_mega, mega_pred))"
   ]
  },
  {
   "cell_type": "markdown",
   "metadata": {
    "heading_collapsed": true,
    "hidden": true
   },
   "source": [
    "#### Huber Sklearn with Grid Search"
   ]
  },
  {
   "cell_type": "code",
   "execution_count": 1959,
   "metadata": {
    "hidden": true
   },
   "outputs": [],
   "source": [
    "hub_model = HuberRegressor(max_iter=5000)"
   ]
  },
  {
   "cell_type": "code",
   "execution_count": 2002,
   "metadata": {
    "hidden": true
   },
   "outputs": [
    {
     "data": {
      "text/plain": [
       "GridSearchCV(cv=5, error_score='raise-deprecating',\n",
       "       estimator=HuberRegressor(alpha=0.0001, epsilon=1.35, fit_intercept=True, max_iter=10000,\n",
       "        tol=1e-05, warm_start=False),\n",
       "       fit_params=None, iid='warn', n_jobs=None,\n",
       "       param_grid={'alpha': [110], 'epsilon': [36.6], 'fit_intercept': [True]},\n",
       "       pre_dispatch='2*n_jobs', refit=True, return_train_score='warn',\n",
       "       scoring=None, verbose=0)"
      ]
     },
     "execution_count": 2002,
     "metadata": {},
     "output_type": "execute_result"
    }
   ],
   "source": [
    "huber_params = {\n",
    "    'alpha': [110],\n",
    "    'epsilon': [36.6],\n",
    "    'fit_intercept': [True],\n",
    "}\n",
    "\n",
    "huber_grid = GridSearchCV(\n",
    "        estimator=hub_model,\n",
    "        param_grid=huber_params, cv=5)\n",
    "\n",
    "huber_grid.fit(X_train_mega_std, y_train_mega)"
   ]
  },
  {
   "cell_type": "code",
   "execution_count": 2003,
   "metadata": {
    "hidden": true,
    "scrolled": true
   },
   "outputs": [
    {
     "data": {
      "text/plain": [
       "HuberRegressor(alpha=110, epsilon=36.6, fit_intercept=True, max_iter=10000,\n",
       "        tol=1e-05, warm_start=False)"
      ]
     },
     "execution_count": 2003,
     "metadata": {},
     "output_type": "execute_result"
    }
   ],
   "source": [
    "huber_grid.best_estimator_"
   ]
  },
  {
   "cell_type": "code",
   "execution_count": 2005,
   "metadata": {
    "hidden": true
   },
   "outputs": [
    {
     "data": {
      "text/plain": [
       "0.7864290249561654"
      ]
     },
     "execution_count": 2005,
     "metadata": {},
     "output_type": "execute_result"
    }
   ],
   "source": [
    "huber_grid.score(X_train_mega_std,y_train_mega)"
   ]
  },
  {
   "cell_type": "code",
   "execution_count": 2004,
   "metadata": {
    "hidden": true
   },
   "outputs": [
    {
     "data": {
      "text/plain": [
       "0.8053959584884288"
      ]
     },
     "execution_count": 2004,
     "metadata": {},
     "output_type": "execute_result"
    }
   ],
   "source": [
    "huber_grid.score(X_test_mega_std, y_test_mega)"
   ]
  },
  {
   "cell_type": "code",
   "execution_count": 2194,
   "metadata": {
    "hidden": true
   },
   "outputs": [
    {
     "name": "stdout",
     "output_type": "stream",
     "text": [
      "Mean cross-validated training score: 0.7152310907760976\n"
     ]
    }
   ],
   "source": [
    "scores = cross_val_score(huber_grid, X_train_mega_std, y_train_mega, cv=5)\n",
    "print('Mean cross-validated training score:', scores.mean())"
   ]
  },
  {
   "cell_type": "code",
   "execution_count": 2007,
   "metadata": {
    "hidden": true
   },
   "outputs": [],
   "source": [
    "feature_importance = pd.DataFrame(huber_grid.best_estimator_.coef_,\n",
    "                                  index=X_train_mega_std.columns,\n",
    "                                  columns=['Coef'])"
   ]
  },
  {
   "cell_type": "code",
   "execution_count": 2010,
   "metadata": {
    "hidden": true
   },
   "outputs": [
    {
     "data": {
      "text/html": [
       "<div>\n",
       "<style scoped>\n",
       "    .dataframe tbody tr th:only-of-type {\n",
       "        vertical-align: middle;\n",
       "    }\n",
       "\n",
       "    .dataframe tbody tr th {\n",
       "        vertical-align: top;\n",
       "    }\n",
       "\n",
       "    .dataframe thead th {\n",
       "        text-align: right;\n",
       "    }\n",
       "</style>\n",
       "<table border=\"1\" class=\"dataframe\">\n",
       "  <thead>\n",
       "    <tr style=\"text-align: right;\">\n",
       "      <th></th>\n",
       "      <th>Coef</th>\n",
       "    </tr>\n",
       "  </thead>\n",
       "  <tbody>\n",
       "    <tr>\n",
       "      <th>highest_value</th>\n",
       "      <td>0.403308</td>\n",
       "    </tr>\n",
       "    <tr>\n",
       "      <th>previous_mins</th>\n",
       "      <td>0.246701</td>\n",
       "    </tr>\n",
       "    <tr>\n",
       "      <th>last_mins</th>\n",
       "      <td>0.235750</td>\n",
       "    </tr>\n",
       "    <tr>\n",
       "      <th>last_rating</th>\n",
       "      <td>0.188748</td>\n",
       "    </tr>\n",
       "    <tr>\n",
       "      <th>previous_shots</th>\n",
       "      <td>0.180550</td>\n",
       "    </tr>\n",
       "  </tbody>\n",
       "</table>\n",
       "</div>"
      ],
      "text/plain": [
       "                    Coef\n",
       "highest_value   0.403308\n",
       "previous_mins   0.246701\n",
       "last_mins       0.235750\n",
       "last_rating     0.188748\n",
       "previous_shots  0.180550"
      ]
     },
     "execution_count": 2010,
     "metadata": {},
     "output_type": "execute_result"
    }
   ],
   "source": [
    "feature_importance.sort_values(by='Coef',ascending=False).head()"
   ]
  },
  {
   "cell_type": "code",
   "execution_count": 593,
   "metadata": {
    "hidden": true
   },
   "outputs": [],
   "source": [
    "theil_model = TheilSenRegressor(max_iter=10000, n_jobs=3)"
   ]
  },
  {
   "cell_type": "code",
   "execution_count": 592,
   "metadata": {
    "hidden": true
   },
   "outputs": [
    {
     "data": {
      "text/plain": [
       "['copy_X',\n",
       " 'fit_intercept',\n",
       " 'max_iter',\n",
       " 'max_subpopulation',\n",
       " 'n_jobs',\n",
       " 'n_subsamples',\n",
       " 'random_state',\n",
       " 'tol',\n",
       " 'verbose']"
      ]
     },
     "execution_count": 592,
     "metadata": {},
     "output_type": "execute_result"
    }
   ],
   "source": [
    "list(theil_model.get_params().keys())"
   ]
  },
  {
   "cell_type": "code",
   "execution_count": 606,
   "metadata": {
    "hidden": true
   },
   "outputs": [
    {
     "name": "stdout",
     "output_type": "stream",
     "text": [
      "Breakdown point: 0.006490954398717719\n",
      "Number of samples: 731\n",
      "Tolerable outliers: 4\n",
      "Number of subpopulations: 10000\n"
     ]
    },
    {
     "name": "stderr",
     "output_type": "stream",
     "text": [
      "[Parallel(n_jobs=3)]: Using backend LokyBackend with 3 concurrent workers.\n",
      "[Parallel(n_jobs=3)]: Done   3 out of   3 | elapsed:    8.9s finished\n"
     ]
    },
    {
     "name": "stdout",
     "output_type": "stream",
     "text": [
      "Breakdown point: 0.006490954398717719\n",
      "Number of samples: 731\n",
      "Tolerable outliers: 4\n",
      "Number of subpopulations: 10000\n"
     ]
    },
    {
     "name": "stderr",
     "output_type": "stream",
     "text": [
      "[Parallel(n_jobs=3)]: Using backend LokyBackend with 3 concurrent workers.\n",
      "[Parallel(n_jobs=3)]: Done   3 out of   3 | elapsed:    9.3s finished\n"
     ]
    },
    {
     "name": "stdout",
     "output_type": "stream",
     "text": [
      "Breakdown point: 0.006490954398717719\n",
      "Number of samples: 731\n",
      "Tolerable outliers: 4\n",
      "Number of subpopulations: 10000\n"
     ]
    },
    {
     "name": "stderr",
     "output_type": "stream",
     "text": [
      "[Parallel(n_jobs=3)]: Using backend LokyBackend with 3 concurrent workers.\n",
      "[Parallel(n_jobs=3)]: Done   3 out of   3 | elapsed:    9.1s finished\n"
     ]
    },
    {
     "name": "stdout",
     "output_type": "stream",
     "text": [
      "Breakdown point: 0.006490954398717719\n",
      "Number of samples: 731\n",
      "Tolerable outliers: 4\n",
      "Number of subpopulations: 10000\n"
     ]
    },
    {
     "name": "stderr",
     "output_type": "stream",
     "text": [
      "[Parallel(n_jobs=3)]: Using backend LokyBackend with 3 concurrent workers.\n",
      "[Parallel(n_jobs=3)]: Done   3 out of   3 | elapsed:    9.0s finished\n"
     ]
    },
    {
     "name": "stdout",
     "output_type": "stream",
     "text": [
      "Breakdown point: 0.006492231085747258\n",
      "Number of samples: 732\n",
      "Tolerable outliers: 4\n",
      "Number of subpopulations: 10000\n"
     ]
    },
    {
     "name": "stderr",
     "output_type": "stream",
     "text": [
      "[Parallel(n_jobs=3)]: Using backend LokyBackend with 3 concurrent workers.\n",
      "[Parallel(n_jobs=3)]: Done   3 out of   3 | elapsed:    9.0s finished\n"
     ]
    },
    {
     "name": "stdout",
     "output_type": "stream",
     "text": [
      "Breakdown point: 0.006490954398717719\n",
      "Number of samples: 731\n",
      "Tolerable outliers: 4\n",
      "Number of subpopulations: 10000\n"
     ]
    },
    {
     "name": "stderr",
     "output_type": "stream",
     "text": [
      "[Parallel(n_jobs=3)]: Using backend LokyBackend with 3 concurrent workers.\n",
      "[Parallel(n_jobs=3)]: Done   3 out of   3 | elapsed:    9.1s finished\n"
     ]
    },
    {
     "name": "stdout",
     "output_type": "stream",
     "text": [
      "Breakdown point: 0.006490954398717719\n",
      "Number of samples: 731\n",
      "Tolerable outliers: 4\n",
      "Number of subpopulations: 10000\n"
     ]
    },
    {
     "name": "stderr",
     "output_type": "stream",
     "text": [
      "[Parallel(n_jobs=3)]: Using backend LokyBackend with 3 concurrent workers.\n",
      "[Parallel(n_jobs=3)]: Done   3 out of   3 | elapsed:    8.8s finished\n"
     ]
    },
    {
     "name": "stdout",
     "output_type": "stream",
     "text": [
      "Breakdown point: 0.006490954398717719\n",
      "Number of samples: 731\n",
      "Tolerable outliers: 4\n",
      "Number of subpopulations: 10000\n"
     ]
    },
    {
     "name": "stderr",
     "output_type": "stream",
     "text": [
      "[Parallel(n_jobs=3)]: Using backend LokyBackend with 3 concurrent workers.\n",
      "[Parallel(n_jobs=3)]: Done   3 out of   3 | elapsed:    9.0s finished\n"
     ]
    },
    {
     "name": "stdout",
     "output_type": "stream",
     "text": [
      "Breakdown point: 0.006490954398717719\n",
      "Number of samples: 731\n",
      "Tolerable outliers: 4\n",
      "Number of subpopulations: 10000\n"
     ]
    },
    {
     "name": "stderr",
     "output_type": "stream",
     "text": [
      "[Parallel(n_jobs=3)]: Using backend LokyBackend with 3 concurrent workers.\n",
      "[Parallel(n_jobs=3)]: Done   3 out of   3 | elapsed:    9.0s finished\n"
     ]
    },
    {
     "name": "stdout",
     "output_type": "stream",
     "text": [
      "Breakdown point: 0.006492231085747258\n",
      "Number of samples: 732\n",
      "Tolerable outliers: 4\n",
      "Number of subpopulations: 10000\n"
     ]
    },
    {
     "name": "stderr",
     "output_type": "stream",
     "text": [
      "[Parallel(n_jobs=3)]: Using backend LokyBackend with 3 concurrent workers.\n",
      "[Parallel(n_jobs=3)]: Done   3 out of   3 | elapsed:    9.2s finished\n"
     ]
    },
    {
     "name": "stdout",
     "output_type": "stream",
     "text": [
      "Breakdown point: 0.006490954398717719\n",
      "Number of samples: 731\n",
      "Tolerable outliers: 4\n",
      "Number of subpopulations: 10000\n"
     ]
    },
    {
     "name": "stderr",
     "output_type": "stream",
     "text": [
      "[Parallel(n_jobs=3)]: Using backend LokyBackend with 3 concurrent workers.\n",
      "[Parallel(n_jobs=3)]: Done   3 out of   3 | elapsed:    9.0s finished\n"
     ]
    },
    {
     "name": "stdout",
     "output_type": "stream",
     "text": [
      "Breakdown point: 0.006490954398717719\n",
      "Number of samples: 731\n",
      "Tolerable outliers: 4\n",
      "Number of subpopulations: 10000\n"
     ]
    },
    {
     "name": "stderr",
     "output_type": "stream",
     "text": [
      "[Parallel(n_jobs=3)]: Using backend LokyBackend with 3 concurrent workers.\n",
      "[Parallel(n_jobs=3)]: Done   3 out of   3 | elapsed:    8.8s finished\n"
     ]
    },
    {
     "name": "stdout",
     "output_type": "stream",
     "text": [
      "Breakdown point: 0.006490954398717719\n",
      "Number of samples: 731\n",
      "Tolerable outliers: 4\n",
      "Number of subpopulations: 10000\n"
     ]
    },
    {
     "name": "stderr",
     "output_type": "stream",
     "text": [
      "[Parallel(n_jobs=3)]: Using backend LokyBackend with 3 concurrent workers.\n",
      "[Parallel(n_jobs=3)]: Done   3 out of   3 | elapsed:    8.9s finished\n"
     ]
    },
    {
     "name": "stdout",
     "output_type": "stream",
     "text": [
      "Breakdown point: 0.006490954398717719\n",
      "Number of samples: 731\n",
      "Tolerable outliers: 4\n",
      "Number of subpopulations: 10000\n"
     ]
    },
    {
     "name": "stderr",
     "output_type": "stream",
     "text": [
      "[Parallel(n_jobs=3)]: Using backend LokyBackend with 3 concurrent workers.\n",
      "[Parallel(n_jobs=3)]: Done   3 out of   3 | elapsed:    9.0s finished\n"
     ]
    },
    {
     "name": "stdout",
     "output_type": "stream",
     "text": [
      "Breakdown point: 0.006492231085747258\n",
      "Number of samples: 732\n",
      "Tolerable outliers: 4\n",
      "Number of subpopulations: 10000\n"
     ]
    },
    {
     "name": "stderr",
     "output_type": "stream",
     "text": [
      "[Parallel(n_jobs=3)]: Using backend LokyBackend with 3 concurrent workers.\n",
      "[Parallel(n_jobs=3)]: Done   3 out of   3 | elapsed:    9.0s finished\n"
     ]
    },
    {
     "name": "stdout",
     "output_type": "stream",
     "text": [
      "Breakdown point: 0.006490954398717719\n",
      "Number of samples: 731\n",
      "Tolerable outliers: 4\n",
      "Number of subpopulations: 10000\n"
     ]
    },
    {
     "name": "stderr",
     "output_type": "stream",
     "text": [
      "[Parallel(n_jobs=3)]: Using backend LokyBackend with 3 concurrent workers.\n",
      "[Parallel(n_jobs=3)]: Done   3 out of   3 | elapsed:    8.8s finished\n"
     ]
    },
    {
     "name": "stdout",
     "output_type": "stream",
     "text": [
      "Breakdown point: 0.006490954398717719\n",
      "Number of samples: 731\n",
      "Tolerable outliers: 4\n",
      "Number of subpopulations: 10000\n"
     ]
    },
    {
     "name": "stderr",
     "output_type": "stream",
     "text": [
      "[Parallel(n_jobs=3)]: Using backend LokyBackend with 3 concurrent workers.\n",
      "[Parallel(n_jobs=3)]: Done   3 out of   3 | elapsed:    8.8s finished\n"
     ]
    },
    {
     "name": "stdout",
     "output_type": "stream",
     "text": [
      "Breakdown point: 0.006490954398717719\n",
      "Number of samples: 731\n",
      "Tolerable outliers: 4\n",
      "Number of subpopulations: 10000\n"
     ]
    },
    {
     "name": "stderr",
     "output_type": "stream",
     "text": [
      "[Parallel(n_jobs=3)]: Using backend LokyBackend with 3 concurrent workers.\n",
      "[Parallel(n_jobs=3)]: Done   3 out of   3 | elapsed:    9.2s finished\n"
     ]
    },
    {
     "name": "stdout",
     "output_type": "stream",
     "text": [
      "Breakdown point: 0.006490954398717719\n",
      "Number of samples: 731\n",
      "Tolerable outliers: 4\n",
      "Number of subpopulations: 10000\n"
     ]
    },
    {
     "name": "stderr",
     "output_type": "stream",
     "text": [
      "[Parallel(n_jobs=3)]: Using backend LokyBackend with 3 concurrent workers.\n",
      "[Parallel(n_jobs=3)]: Done   3 out of   3 | elapsed:    8.9s finished\n"
     ]
    },
    {
     "name": "stdout",
     "output_type": "stream",
     "text": [
      "Breakdown point: 0.006492231085747258\n",
      "Number of samples: 732\n",
      "Tolerable outliers: 4\n",
      "Number of subpopulations: 10000\n"
     ]
    },
    {
     "name": "stderr",
     "output_type": "stream",
     "text": [
      "[Parallel(n_jobs=3)]: Using backend LokyBackend with 3 concurrent workers.\n",
      "[Parallel(n_jobs=3)]: Done   3 out of   3 | elapsed:    9.0s finished\n"
     ]
    },
    {
     "name": "stdout",
     "output_type": "stream",
     "text": [
      "Breakdown point: 0.006490954398717719\n",
      "Number of samples: 731\n",
      "Tolerable outliers: 4\n",
      "Number of subpopulations: 10000\n"
     ]
    },
    {
     "name": "stderr",
     "output_type": "stream",
     "text": [
      "[Parallel(n_jobs=3)]: Using backend LokyBackend with 3 concurrent workers.\n",
      "[Parallel(n_jobs=3)]: Done   3 out of   3 | elapsed:    8.9s finished\n"
     ]
    },
    {
     "name": "stdout",
     "output_type": "stream",
     "text": [
      "Breakdown point: 0.006490954398717719\n",
      "Number of samples: 731\n",
      "Tolerable outliers: 4\n",
      "Number of subpopulations: 10000\n"
     ]
    },
    {
     "name": "stderr",
     "output_type": "stream",
     "text": [
      "[Parallel(n_jobs=3)]: Using backend LokyBackend with 3 concurrent workers.\n",
      "[Parallel(n_jobs=3)]: Done   3 out of   3 | elapsed:    8.8s finished\n"
     ]
    },
    {
     "name": "stdout",
     "output_type": "stream",
     "text": [
      "Breakdown point: 0.006490954398717719\n",
      "Number of samples: 731\n",
      "Tolerable outliers: 4\n",
      "Number of subpopulations: 10000\n"
     ]
    },
    {
     "name": "stderr",
     "output_type": "stream",
     "text": [
      "[Parallel(n_jobs=3)]: Using backend LokyBackend with 3 concurrent workers.\n",
      "[Parallel(n_jobs=3)]: Done   3 out of   3 | elapsed:    8.9s finished\n"
     ]
    },
    {
     "name": "stdout",
     "output_type": "stream",
     "text": [
      "Breakdown point: 0.006490954398717719\n",
      "Number of samples: 731\n",
      "Tolerable outliers: 4\n",
      "Number of subpopulations: 10000\n"
     ]
    },
    {
     "name": "stderr",
     "output_type": "stream",
     "text": [
      "[Parallel(n_jobs=3)]: Using backend LokyBackend with 3 concurrent workers.\n",
      "[Parallel(n_jobs=3)]: Done   3 out of   3 | elapsed:    8.9s finished\n"
     ]
    },
    {
     "name": "stdout",
     "output_type": "stream",
     "text": [
      "Breakdown point: 0.006492231085747258\n",
      "Number of samples: 732\n",
      "Tolerable outliers: 4\n",
      "Number of subpopulations: 10000\n"
     ]
    },
    {
     "name": "stderr",
     "output_type": "stream",
     "text": [
      "[Parallel(n_jobs=3)]: Using backend LokyBackend with 3 concurrent workers.\n",
      "[Parallel(n_jobs=3)]: Done   3 out of   3 | elapsed:    9.0s finished\n"
     ]
    },
    {
     "name": "stdout",
     "output_type": "stream",
     "text": [
      "Breakdown point: 0.006678065873253702\n",
      "Number of samples: 914\n",
      "Tolerable outliers: 6\n",
      "Number of subpopulations: 10000\n"
     ]
    },
    {
     "name": "stderr",
     "output_type": "stream",
     "text": [
      "[Parallel(n_jobs=3)]: Using backend LokyBackend with 3 concurrent workers.\n",
      "[Parallel(n_jobs=3)]: Done   3 out of   3 | elapsed:    8.9s finished\n"
     ]
    },
    {
     "data": {
      "text/plain": [
       "GridSearchCV(cv=5, error_score='raise-deprecating',\n",
       "       estimator=TheilSenRegressor(copy_X=True, fit_intercept=True, max_iter=10000,\n",
       "         max_subpopulation=10000, n_jobs=3, n_subsamples=None,\n",
       "         random_state=None, tol=0.001, verbose=False),\n",
       "       fit_params=None, iid='warn', n_jobs=None,\n",
       "       param_grid={'verbose': [True], 'tol': [0.1, 1, 2, 3, 4], 'fit_intercept': [True]},\n",
       "       pre_dispatch='2*n_jobs', refit=True, return_train_score='warn',\n",
       "       scoring=None, verbose=0)"
      ]
     },
     "execution_count": 606,
     "metadata": {},
     "output_type": "execute_result"
    }
   ],
   "source": [
    "theil_params = {\n",
    "    'verbose': [True],\n",
    "    'tol': [0.1,1,2,3,4],\n",
    "    'fit_intercept': [True]\n",
    "}\n",
    "\n",
    "theil_grid = GridSearchCV(\n",
    "        estimator=theil_model,\n",
    "        param_grid=theil_params, cv=5)\n",
    "\n",
    "theil_grid.fit(X_train_mega, y_train_mega)"
   ]
  },
  {
   "cell_type": "code",
   "execution_count": 607,
   "metadata": {
    "hidden": true
   },
   "outputs": [
    {
     "data": {
      "text/plain": [
       "TheilSenRegressor(copy_X=True, fit_intercept=True, max_iter=10000,\n",
       "         max_subpopulation=10000, n_jobs=3, n_subsamples=None,\n",
       "         random_state=None, tol=1, verbose=True)"
      ]
     },
     "execution_count": 607,
     "metadata": {},
     "output_type": "execute_result"
    }
   ],
   "source": [
    "theil_grid.best_estimator_"
   ]
  },
  {
   "cell_type": "code",
   "execution_count": 608,
   "metadata": {
    "hidden": true
   },
   "outputs": [
    {
     "data": {
      "text/plain": [
       "-14.982066964607753"
      ]
     },
     "execution_count": 608,
     "metadata": {},
     "output_type": "execute_result"
    }
   ],
   "source": [
    "theil_grid.score(X_test_mega_std, y_test_mega)"
   ]
  },
  {
   "cell_type": "markdown",
   "metadata": {
    "heading_collapsed": true
   },
   "source": [
    "### Trying with PCA"
   ]
  },
  {
   "cell_type": "markdown",
   "metadata": {
    "heading_collapsed": true,
    "hidden": true
   },
   "source": [
    "#### Intro EDA"
   ]
  },
  {
   "cell_type": "code",
   "execution_count": 1027,
   "metadata": {
    "hidden": true
   },
   "outputs": [],
   "source": [
    "X_std = scaler.fit_transform(X_train_mega_std)"
   ]
  },
  {
   "cell_type": "code",
   "execution_count": 1028,
   "metadata": {
    "hidden": true
   },
   "outputs": [
    {
     "data": {
      "text/plain": [
       "PCA(copy=True, iterated_power='auto', n_components=92, random_state=None,\n",
       "  svd_solver='auto', tol=0.0, whiten=False)"
      ]
     },
     "execution_count": 1028,
     "metadata": {},
     "output_type": "execute_result"
    }
   ],
   "source": [
    "pca = PCA(n_components=92)\n",
    "pca.fit(X_std)"
   ]
  },
  {
   "cell_type": "code",
   "execution_count": 1029,
   "metadata": {
    "hidden": true
   },
   "outputs": [
    {
     "data": {
      "image/png": "[encoded data removed]",
      "text/plain": [
       "<Figure size 432x288 with 1 Axes>"
      ]
     },
     "metadata": {
      "needs_background": "light"
     },
     "output_type": "display_data"
    }
   ],
   "source": [
    "plt.plot(pca.explained_variance_ratio_, lw=4, label='Explained var')\n",
    "plt.plot(np.cumsum(pca.explained_variance_ratio_), lw=4, label='Cum explained var')\n",
    "plt.legend(loc=(1.1,0.8))\n",
    "plt.show()"
   ]
  },
  {
   "cell_type": "code",
   "execution_count": 1030,
   "metadata": {
    "hidden": true
   },
   "outputs": [
    {
     "name": "stdout",
     "output_type": "stream",
     "text": [
      "Number of principal components:\t 92\n",
      "Explained variance ratio:\t [0.124 0.08  0.062 0.035 0.032 0.027 0.026 0.025 0.021 0.02  0.019 0.018\n",
      " 0.017 0.017 0.016 0.016 0.016 0.014 0.014 0.014 0.013 0.013 0.013 0.012\n",
      " 0.012 0.012 0.012 0.011 0.011 0.011 0.011 0.01  0.01  0.01  0.01  0.009\n",
      " 0.009 0.009 0.009 0.008 0.008 0.008 0.008 0.007 0.007 0.007 0.006 0.006\n",
      " 0.006 0.006 0.005 0.005 0.005 0.005 0.005 0.004 0.004 0.004 0.004 0.004\n",
      " 0.004 0.004 0.003 0.003 0.003 0.003 0.003 0.003 0.003 0.002 0.002 0.002\n",
      " 0.002 0.002 0.002 0.002 0.002 0.002 0.002 0.001 0.001 0.001 0.001 0.001\n",
      " 0.001 0.001 0.001 0.001 0.001 0.001 0.    0.   ]\n",
      "Explained variance cum\"\t [0.124 0.204 0.266 0.301 0.333 0.36  0.386 0.411 0.432 0.452 0.471 0.489\n",
      " 0.506 0.523 0.539 0.555 0.571 0.585 0.599 0.613 0.626 0.639 0.652 0.664\n",
      " 0.676 0.688 0.7   0.711 0.722 0.733 0.744 0.754 0.764 0.774 0.784 0.793\n",
      " 0.802 0.811 0.82  0.828 0.836 0.844 0.852 0.859 0.866 0.873 0.879 0.885\n",
      " 0.891 0.897 0.902 0.907 0.912 0.917 0.922 0.926 0.93  0.934 0.938 0.942\n",
      " 0.946 0.95  0.953 0.956 0.959 0.962 0.965 0.968 0.971 0.973 0.975 0.977\n",
      " 0.979 0.981 0.983 0.985 0.987 0.989 0.991 0.992 0.993 0.994 0.995 0.996\n",
      " 0.997 0.998 0.999 1.    1.001 1.002 1.002 1.002]\n"
     ]
    }
   ],
   "source": [
    "print(\"Number of principal components:\\t\", pca.n_components_)\n",
    "print(\"Explained variance ratio:\\t\", np.round(pca.explained_variance_ratio_, 3))\n",
    "print('Explained variance cum\"\\t', np.cumsum(np.round(pca.explained_variance_ratio_,3)))\n",
    "      "
   ]
  },
  {
   "cell_type": "markdown",
   "metadata": {
    "hidden": true
   },
   "source": [
    "#### Finding if it is worth it to go deeper with PCA"
   ]
  },
  {
   "cell_type": "markdown",
   "metadata": {
    "heading_collapsed": true,
    "hidden": true
   },
   "source": [
    "##### Testing with Ridge"
   ]
  },
  {
   "cell_type": "code",
   "execution_count": 1796,
   "metadata": {
    "hidden": true
   },
   "outputs": [],
   "source": [
    "def best_pca_ridge_choser(data,y):\n",
    "    scores = []\n",
    "    for x in range(1,data.shape[1]):\n",
    "        pca_ = PCA(n_components=x)\n",
    "        pca_.fit(data)\n",
    "        X_pca = pca_.transform(data)\n",
    "        ridge_pca = RidgeCV(cv=5)\n",
    "        ridge_pca.fit(X_pca, y)\n",
    "        score = ridge_pca.score(X_pca, y)\n",
    "        scores.append(score)\n",
    "    return scores"
   ]
  },
  {
   "cell_type": "code",
   "execution_count": 1797,
   "metadata": {
    "hidden": true,
    "scrolled": true
   },
   "outputs": [],
   "source": [
    "ridge_scores = best_pca_ridge_choser(X_train_mega_std,y_train_mega)"
   ]
  },
  {
   "cell_type": "code",
   "execution_count": 1798,
   "metadata": {
    "hidden": true
   },
   "outputs": [
    {
     "data": {
      "text/plain": [
       "[<matplotlib.lines.Line2D at 0x1c29ffad68>]"
      ]
     },
     "execution_count": 1798,
     "metadata": {},
     "output_type": "execute_result"
    },
    {
     "data": {
      "image/png": "[encoded data removed]",
      "text/plain": [
       "<Figure size 432x288 with 1 Axes>"
      ]
     },
     "metadata": {
      "needs_background": "light"
     },
     "output_type": "display_data"
    }
   ],
   "source": [
    "# PCA using linear regression reaches its best scores when using the same number of components as features we have\n",
    "# In conclusion: not worth using it \n",
    "\n",
    "plt.plot(ridge_scores)"
   ]
  },
  {
   "cell_type": "markdown",
   "metadata": {
    "hidden": true
   },
   "source": [
    "##### Test with trees"
   ]
  },
  {
   "cell_type": "code",
   "execution_count": 1418,
   "metadata": {
    "hidden": true
   },
   "outputs": [],
   "source": [
    "def best_tree_choser(data,y,start,end,ran):\n",
    "    scores = []\n",
    "    best_score = 0\n",
    "    return_model = 'nada'\n",
    "    best_pca = 0\n",
    "    for x in range(start,end,ran):\n",
    "        pca_ = PCA(n_components=x)\n",
    "        pca_.fit(data)\n",
    "        X_pca = pca_.transform(data)\n",
    "        \n",
    "        tree= DecisionTreeRegressor(random_state=123)\n",
    "        tree_params = {'max_depth': [6,8,12],\n",
    "          'max_features': np.linspace(0.8,1.0,3),\n",
    "          'max_leaf_nodes': [40,50,60],\n",
    "          'min_samples_leaf': [1,2],\n",
    "          'min_samples_split': [2,5,10]\n",
    "          }\n",
    "        \n",
    "        basic_tree_grid = GridSearchCV(\n",
    "        estimator=tree,\n",
    "        param_grid=tree_params, cv=3)\n",
    "        \n",
    "        basic_tree_grid.fit(X_pca, y)\n",
    "        score = basic_tree_grid.score(X_pca, y)\n",
    "        scores.append(score)\n",
    "        if score > best_score:\n",
    "            best_score = score\n",
    "            return_model = basic_tree_grid\n",
    "            best_pca = x\n",
    "    return scores, return_model, best_pca"
   ]
  },
  {
   "cell_type": "code",
   "execution_count": 1791,
   "metadata": {
    "hidden": true
   },
   "outputs": [],
   "source": [
    "tree_scores, best_model, best_pca = best_tree_choser(X_train_mega_std,y_train_mega,20,92,4)"
   ]
  },
  {
   "cell_type": "code",
   "execution_count": 2362,
   "metadata": {
    "hidden": true
   },
   "outputs": [
    {
     "data": {
      "text/plain": [
       "[<matplotlib.lines.Line2D at 0x1c3d4ebbe0>]"
      ]
     },
     "execution_count": 2362,
     "metadata": {},
     "output_type": "execute_result"
    },
    {
     "data": {
      "image/png": "[encoded data removed]",
      "text/plain": [
       "<Figure size 432x288 with 1 Axes>"
      ]
     },
     "metadata": {
      "needs_background": "light"
     },
     "output_type": "display_data"
    }
   ],
   "source": [
    "# PCA using decision trees also reaches its best scores when using the same number of components as features we have\n",
    "# In conclusion: not worth using it either\n",
    "\n",
    "plt.plot(range(20,92,4),tree_scores)"
   ]
  },
  {
   "cell_type": "code",
   "execution_count": 1793,
   "metadata": {
    "hidden": true,
    "scrolled": true
   },
   "outputs": [
    {
     "data": {
      "text/plain": [
       "GridSearchCV(cv=3, error_score='raise-deprecating',\n",
       "       estimator=DecisionTreeRegressor(criterion='mse', max_depth=None, max_features=None,\n",
       "           max_leaf_nodes=None, min_impurity_decrease=0.0,\n",
       "           min_impurity_split=None, min_samples_leaf=1,\n",
       "           min_samples_split=2, min_weight_fraction_leaf=0.0,\n",
       "           presort=False, random_state=123, splitter='best'),\n",
       "       fit_params=None, iid='warn', n_jobs=None,\n",
       "       param_grid={'max_depth': [6, 8, 12], 'max_features': array([0.8, 0.9, 1. ]), 'max_leaf_nodes': [40, 50, 60], 'min_samples_leaf': [1, 2], 'min_samples_split': [2, 5, 10]},\n",
       "       pre_dispatch='2*n_jobs', refit=True, return_train_score='warn',\n",
       "       scoring=None, verbose=0)"
      ]
     },
     "execution_count": 1793,
     "metadata": {},
     "output_type": "execute_result"
    }
   ],
   "source": [
    "best_model"
   ]
  },
  {
   "cell_type": "code",
   "execution_count": 1794,
   "metadata": {
    "hidden": true
   },
   "outputs": [
    {
     "data": {
      "text/plain": [
       "DecisionTreeRegressor(criterion='mse', max_depth=8, max_features=0.8,\n",
       "           max_leaf_nodes=40, min_impurity_decrease=0.0,\n",
       "           min_impurity_split=None, min_samples_leaf=1,\n",
       "           min_samples_split=5, min_weight_fraction_leaf=0.0,\n",
       "           presort=False, random_state=123, splitter='best')"
      ]
     },
     "execution_count": 1794,
     "metadata": {},
     "output_type": "execute_result"
    }
   ],
   "source": [
    "best_model.best_estimator_"
   ]
  }
 ],
 "metadata": {
  "kernelspec": {
   "display_name": "Python 3",
   "language": "python",
   "name": "python3"
  },
  "language_info": {
   "codemirror_mode": {
    "name": "ipython",
    "version": 3
   },
   "file_extension": ".py",
   "mimetype": "text/x-python",
   "name": "python",
   "nbconvert_exporter": "python",
   "pygments_lexer": "ipython3",
   "version": "3.6.8"
  },
  "notify_time": "5"
 },
 "nbformat": 4,
 "nbformat_minor": 2
}
