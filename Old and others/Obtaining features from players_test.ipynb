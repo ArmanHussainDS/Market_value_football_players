{
 "cells": [
  {
   "cell_type": "code",
   "execution_count": 4,
   "metadata": {},
   "outputs": [],
   "source": [
    "import requests\n",
    "import bs4\n",
    "from bs4 import BeautifulSoup\n",
    "from tqdm import tqdm_notebook\n",
    "from torrequest import TorRequest\n",
    "from pprint import pprint\n",
    "import pandas as pd\n",
    "from retrying import retry\n",
    "import re\n",
    "from selenium import webdriver\n",
    "from webdriver_manager.chrome import ChromeDriverManager\n",
    "from selenium.webdriver.support.ui import WebDriverWait\n",
    "import numpy as np"
   ]
  },
  {
   "cell_type": "code",
   "execution_count": 6,
   "metadata": {},
   "outputs": [],
   "source": [
    "test_players = pd.read_csv('/Users/gonzaloferreiro/Documents/GA_Materials/DS_Inmersive/DSI8-lessons/projects/project-capstone/Moving_forward/test_players.csv')"
   ]
  },
  {
   "cell_type": "code",
   "execution_count": 7,
   "metadata": {},
   "outputs": [
    {
     "data": {
      "text/html": [
       "<div>\n",
       "<style scoped>\n",
       "    .dataframe tbody tr th:only-of-type {\n",
       "        vertical-align: middle;\n",
       "    }\n",
       "\n",
       "    .dataframe tbody tr th {\n",
       "        vertical-align: top;\n",
       "    }\n",
       "\n",
       "    .dataframe thead th {\n",
       "        text-align: right;\n",
       "    }\n",
       "</style>\n",
       "<table border=\"1\" class=\"dataframe\">\n",
       "  <thead>\n",
       "    <tr style=\"text-align: right;\">\n",
       "      <th></th>\n",
       "      <th>link</th>\n",
       "      <th>player</th>\n",
       "      <th>team</th>\n",
       "    </tr>\n",
       "  </thead>\n",
       "  <tbody>\n",
       "    <tr>\n",
       "      <th>0</th>\n",
       "      <td>/Players/371335/Show/Juan-Orellana</td>\n",
       "      <td>Juan Orellana</td>\n",
       "      <td>San Martin de Tucuman</td>\n",
       "    </tr>\n",
       "    <tr>\n",
       "      <th>1</th>\n",
       "      <td>/Players/345352/Show/Nahuel-Menéndez</td>\n",
       "      <td>Nahuel Menéndez</td>\n",
       "      <td>San Martin de Tucuman</td>\n",
       "    </tr>\n",
       "    <tr>\n",
       "      <th>2</th>\n",
       "      <td>/Players/42834/Show/Tino-Costa</td>\n",
       "      <td>Tino Costa</td>\n",
       "      <td>San Martin de Tucuman</td>\n",
       "    </tr>\n",
       "    <tr>\n",
       "      <th>3</th>\n",
       "      <td>/Players/135235/Show/Matías-García</td>\n",
       "      <td>Matías García</td>\n",
       "      <td>San Martin de Tucuman</td>\n",
       "    </tr>\n",
       "    <tr>\n",
       "      <th>4</th>\n",
       "      <td>/Players/129130/Show/Rodrigo-Gómez</td>\n",
       "      <td>Rodrigo Gómez</td>\n",
       "      <td>San Martin de Tucuman</td>\n",
       "    </tr>\n",
       "  </tbody>\n",
       "</table>\n",
       "</div>"
      ],
      "text/plain": [
       "                                   link           player  \\\n",
       "0    /Players/371335/Show/Juan-Orellana    Juan Orellana   \n",
       "1  /Players/345352/Show/Nahuel-Menéndez  Nahuel Menéndez   \n",
       "2        /Players/42834/Show/Tino-Costa       Tino Costa   \n",
       "3    /Players/135235/Show/Matías-García    Matías García   \n",
       "4    /Players/129130/Show/Rodrigo-Gómez    Rodrigo Gómez   \n",
       "\n",
       "                    team  \n",
       "0  San Martin de Tucuman  \n",
       "1  San Martin de Tucuman  \n",
       "2  San Martin de Tucuman  \n",
       "3  San Martin de Tucuman  \n",
       "4  San Martin de Tucuman  "
      ]
     },
     "execution_count": 7,
     "metadata": {},
     "output_type": "execute_result"
    }
   ],
   "source": [
    "test_players.head()"
   ]
  },
  {
   "cell_type": "code",
   "execution_count": 8,
   "metadata": {},
   "outputs": [],
   "source": [
    "def get_soup(URL):\n",
    "    driver = webdriver.Chrome(ChromeDriverManager().install())\n",
    "    wait = WebDriverWait(driver, 10)\n",
    "    driver.get(URL)\n",
    "    if len(driver.find_elements_by_css_selector(\"[name=ROBOTS]\")) > 0:\n",
    "        driver.get(URL)\n",
    "    soup = BeautifulSoup(driver.page_source)\n",
    "    driver.close()\n",
    "    return soup"
   ]
  },
  {
   "cell_type": "markdown",
   "metadata": {},
   "source": [
    "**Whoscored scrapping**"
   ]
  },
  {
   "cell_type": "code",
   "execution_count": 9,
   "metadata": {},
   "outputs": [],
   "source": [
    "def extract_player_info_block(players_df):\n",
    "    \n",
    "    links = players_df.link\n",
    "    teams = players_df.team\n",
    "    \n",
    "    player_info = {'name': [],\n",
    "                  'position': [],\n",
    "                  'nationality': [],\n",
    "                  'height': [],\n",
    "                  'weight': [],\n",
    "                  'team': []} \n",
    "\n",
    "    for each_link, each_team in zip(links,teams):\n",
    "        URL = 'https://www.whoscored.com' + each_link\n",
    "        print(URL)\n",
    "        soup = get_soup(URL)\n",
    "        text = \"\"\n",
    "        for each in soup.find_all('dl', attrs={'class':'player-info-block'}):\n",
    "            try:\n",
    "                text = text + str(each)\n",
    "            except:\n",
    "                None\n",
    "        \n",
    "        name = re.findall(r'((?<=Name:</dt>\\n<dd>).+(?=</dd>\\n</dl><dl class))', text)\n",
    "        height = re.findall(r'((?<=Height:</dt>\\n<dd>).+(?=cm</dd>))', text)\n",
    "        position = re.findall(r'((?<=Positions:</dt>\\n<dd>\\n<ul>\\n<li>).*(?= |</li>))', text)\n",
    "        nation = re.findall(r'((?<=\"iconize iconize-icon-left\">\\n).+(?=\\n))', text)\n",
    "        weight = re.findall(r'((?<=Weight:</dt>\\n<dd>).+(?=kg))', text)\n",
    "        \n",
    "        player_info['name'].append(name[0]) if len(name) >0 else player_info['name'].append(np.nan)\n",
    "        player_info['position'].append(position[0].strip()) if len(position) >0 else player_info['position'].append(np.nan)\n",
    "        player_info['nationality'].append(nation[0].strip()[0:3].upper()) if len(nation) >0 else player_info['nationality'].append(np.nan)\n",
    "        player_info['height'].append(height[0]) if len(height) >0 else player_info['height'].append(np.nan)\n",
    "        player_info['weight'].append(weight[0]) if len(weight) >0 else player_info['weight'].append(np.nan)\n",
    "        player_info['team'].append(each_team)\n",
    "\n",
    "    player_info_df = pd.DataFrame(player_info)\n",
    "    \n",
    "    return player_info_df"
   ]
  },
  {
   "cell_type": "code",
   "execution_count": 10,
   "metadata": {
    "scrolled": true
   },
   "outputs": [
    {
     "name": "stdout",
     "output_type": "stream",
     "text": [
      "https://www.whoscored.com/Players/371335/Show/Juan-Orellana\n",
      "\n",
      "Checking for mac64 chromedriver:74.0.3729.6 in cache\n",
      "Driver found in /Users/gonzaloferreiro/.wdm/chromedriver/74.0.3729.6/mac64/chromedriver\n",
      "https://www.whoscored.com/Players/345352/Show/Nahuel-Menéndez\n",
      "\n",
      "Checking for mac64 chromedriver:74.0.3729.6 in cache\n",
      "Driver found in /Users/gonzaloferreiro/.wdm/chromedriver/74.0.3729.6/mac64/chromedriver\n",
      "https://www.whoscored.com/Players/42834/Show/Tino-Costa\n",
      "\n",
      "Checking for mac64 chromedriver:74.0.3729.6 in cache\n",
      "Driver found in /Users/gonzaloferreiro/.wdm/chromedriver/74.0.3729.6/mac64/chromedriver\n",
      "https://www.whoscored.com/Players/135235/Show/Matías-García\n",
      "\n",
      "Checking for mac64 chromedriver:74.0.3729.6 in cache\n",
      "Driver found in /Users/gonzaloferreiro/.wdm/chromedriver/74.0.3729.6/mac64/chromedriver\n",
      "https://www.whoscored.com/Players/129130/Show/Rodrigo-Gómez\n",
      "\n",
      "Checking for mac64 chromedriver:74.0.3729.6 in cache\n",
      "Driver found in /Users/gonzaloferreiro/.wdm/chromedriver/74.0.3729.6/mac64/chromedriver\n"
     ]
    }
   ],
   "source": [
    "test = extract_player_info_block(test_players.iloc[0:5,:])"
   ]
  },
  {
   "cell_type": "code",
   "execution_count": 12,
   "metadata": {},
   "outputs": [
    {
     "data": {
      "text/html": [
       "<div>\n",
       "<style scoped>\n",
       "    .dataframe tbody tr th:only-of-type {\n",
       "        vertical-align: middle;\n",
       "    }\n",
       "\n",
       "    .dataframe tbody tr th {\n",
       "        vertical-align: top;\n",
       "    }\n",
       "\n",
       "    .dataframe thead th {\n",
       "        text-align: right;\n",
       "    }\n",
       "</style>\n",
       "<table border=\"1\" class=\"dataframe\">\n",
       "  <thead>\n",
       "    <tr style=\"text-align: right;\">\n",
       "      <th></th>\n",
       "      <th>name</th>\n",
       "      <th>position</th>\n",
       "      <th>nationality</th>\n",
       "      <th>height</th>\n",
       "      <th>weight</th>\n",
       "      <th>team</th>\n",
       "    </tr>\n",
       "  </thead>\n",
       "  <tbody>\n",
       "    <tr>\n",
       "      <th>0</th>\n",
       "      <td>Juan Orellana</td>\n",
       "      <td>Defender</td>\n",
       "      <td>NaN</td>\n",
       "      <td>193</td>\n",
       "      <td>NaN</td>\n",
       "      <td>San Martin de Tucuman</td>\n",
       "    </tr>\n",
       "    <tr>\n",
       "      <th>1</th>\n",
       "      <td>Nahuel Menéndez</td>\n",
       "      <td>Defender (Right)</td>\n",
       "      <td>ARG</td>\n",
       "      <td>183</td>\n",
       "      <td>72</td>\n",
       "      <td>San Martin de Tucuman</td>\n",
       "    </tr>\n",
       "    <tr>\n",
       "      <th>2</th>\n",
       "      <td>Tino Costa</td>\n",
       "      <td>Midfielder (Centre)</td>\n",
       "      <td>ARG</td>\n",
       "      <td>177</td>\n",
       "      <td>74</td>\n",
       "      <td>San Martin de Tucuman</td>\n",
       "    </tr>\n",
       "    <tr>\n",
       "      <th>3</th>\n",
       "      <td>Matías García</td>\n",
       "      <td>Defender (Left)</td>\n",
       "      <td>NaN</td>\n",
       "      <td>174</td>\n",
       "      <td>71</td>\n",
       "      <td>San Martin de Tucuman</td>\n",
       "    </tr>\n",
       "    <tr>\n",
       "      <th>4</th>\n",
       "      <td>Rodrigo Gómez</td>\n",
       "      <td>Attacking Midfielder (Centre, Right)</td>\n",
       "      <td>ARG</td>\n",
       "      <td>168</td>\n",
       "      <td>65</td>\n",
       "      <td>San Martin de Tucuman</td>\n",
       "    </tr>\n",
       "  </tbody>\n",
       "</table>\n",
       "</div>"
      ],
      "text/plain": [
       "              name                              position nationality height  \\\n",
       "0    Juan Orellana                              Defender         NaN    193   \n",
       "1  Nahuel Menéndez                      Defender (Right)         ARG    183   \n",
       "2       Tino Costa                   Midfielder (Centre)         ARG    177   \n",
       "3    Matías García                       Defender (Left)         NaN    174   \n",
       "4    Rodrigo Gómez  Attacking Midfielder (Centre, Right)         ARG    168   \n",
       "\n",
       "  weight                   team  \n",
       "0    NaN  San Martin de Tucuman  \n",
       "1     72  San Martin de Tucuman  \n",
       "2     74  San Martin de Tucuman  \n",
       "3     71  San Martin de Tucuman  \n",
       "4     65  San Martin de Tucuman  "
      ]
     },
     "execution_count": 12,
     "metadata": {},
     "output_type": "execute_result"
    }
   ],
   "source": [
    "test"
   ]
  },
  {
   "cell_type": "code",
   "execution_count": 261,
   "metadata": {},
   "outputs": [],
   "source": [
    "test_text = test"
   ]
  },
  {
   "cell_type": "code",
   "execution_count": 310,
   "metadata": {},
   "outputs": [
    {
     "data": {
      "text/plain": [
       "'<dl class=\"player-info-block\">\\n<dt>Name:</dt>\\n<dd>Nahuel Menéndez</dd>\\n</dl><dl class=\"player-info-block\">\\n<dt>Current Team:</dt>\\n<dd>\\n<a class=\"team-link\" href=\"/Teams/5595/Show/Argentina-San-Martin-de-Tucuman\">San Martin de Tucuman</a>\\n</dd>\\n</dl><dl class=\"player-info-block\">\\n<dt>Shirt Number:</dt>\\n<dd>24</dd>\\n</dl><dl class=\"player-info-block\">\\n<dt>Positions:</dt>\\n<dd>\\n<ul>\\n<li>Defender (Right) </li>\\n<li> Midfielder (Right)</li>\\n</ul>\\n</dd>\\n</dl><dl class=\"player-info-block\">\\n<dt>Age:</dt>\\n<dd>25 years old (<i>05-03-1994</i>)</dd>\\n</dl><dl class=\"player-info-block\">\\n<dt>Height:</dt>\\n<dd>183cm</dd>\\n</dl><dl class=\"player-info-block\">\\n<dt>Weight:</dt>\\n<dd>72kg</dd>\\n</dl><dl class=\"player-info-block\">\\n<dt>Nationality:</dt>\\n<dd>\\n<span class=\"iconize iconize-icon-left\">\\n                                Argentina\\n                                <span class=\"ui-icon country flg-ar\"></span>\\n</span>\\n</dd>\\n</dl>'"
      ]
     },
     "execution_count": 310,
     "metadata": {},
     "output_type": "execute_result"
    }
   ],
   "source": [
    "test_text"
   ]
  },
  {
   "cell_type": "code",
   "execution_count": 193,
   "metadata": {},
   "outputs": [
    {
     "data": {
      "text/plain": [
       "['Juan Orellana']"
      ]
     },
     "execution_count": 193,
     "metadata": {},
     "output_type": "execute_result"
    }
   ],
   "source": [
    "re.findall(r'((?<=Name:</dt>\\n<dd>).+(?=</dd>\\n</dl><dl class))', test_text)"
   ]
  },
  {
   "cell_type": "code",
   "execution_count": 179,
   "metadata": {},
   "outputs": [
    {
     "data": {
      "text/plain": [
       "['193']"
      ]
     },
     "execution_count": 179,
     "metadata": {},
     "output_type": "execute_result"
    }
   ],
   "source": [
    "re.findall(r'((?<=Height:</dt>\\n<dd>).+(?=cm</dd>))', test_text)"
   ]
  },
  {
   "cell_type": "code",
   "execution_count": 323,
   "metadata": {},
   "outputs": [
    {
     "data": {
      "text/plain": [
       "['Defender (Right) ']"
      ]
     },
     "execution_count": 323,
     "metadata": {},
     "output_type": "execute_result"
    }
   ],
   "source": [
    "re.findall(r'((?<=Positions:</dt>\\n<dd>\\n<ul>\\n<li>).*(?= |</li>))', test_text)"
   ]
  },
  {
   "cell_type": "code",
   "execution_count": 140,
   "metadata": {},
   "outputs": [
    {
     "data": {
      "text/plain": [
       "'Defender'"
      ]
     },
     "execution_count": 140,
     "metadata": {},
     "output_type": "execute_result"
    }
   ],
   "source": [
    "position"
   ]
  },
  {
   "cell_type": "code",
   "execution_count": 143,
   "metadata": {},
   "outputs": [],
   "source": [
    "nation = re.findall(r'((?<=\"iconize iconize-icon-left\">\\n).+(?=\\n)|(?=\\n))', test_text)[0].strip()[0:3].upper()"
   ]
  },
  {
   "cell_type": "code",
   "execution_count": 144,
   "metadata": {},
   "outputs": [
    {
     "data": {
      "text/plain": [
       "'ARG'"
      ]
     },
     "execution_count": 144,
     "metadata": {},
     "output_type": "execute_result"
    }
   ],
   "source": [
    "nation"
   ]
  },
  {
   "cell_type": "code",
   "execution_count": 87,
   "metadata": {},
   "outputs": [],
   "source": [
    "weight = re.findall(r'((?<=Weight:</dt>\\n<dd>).+(?=kg))', test_text)[0]"
   ]
  },
  {
   "cell_type": "code",
   "execution_count": null,
   "metadata": {},
   "outputs": [],
   "source": []
  }
 ],
 "metadata": {
  "kernelspec": {
   "display_name": "Python 3",
   "language": "python",
   "name": "python3"
  },
  "language_info": {
   "codemirror_mode": {
    "name": "ipython",
    "version": 3
   },
   "file_extension": ".py",
   "mimetype": "text/x-python",
   "name": "python",
   "nbconvert_exporter": "python",
   "pygments_lexer": "ipython3",
   "version": "3.6.8"
  }
 },
 "nbformat": 4,
 "nbformat_minor": 2
}
